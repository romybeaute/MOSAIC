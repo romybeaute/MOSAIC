{
 "cells": [
  {
   "cell_type": "code",
   "execution_count": null,
   "id": "31084066",
   "metadata": {},
   "outputs": [
    {
     "name": "stderr",
     "output_type": "stream",
     "text": [
      "[nltk_data] Downloading package punkt to /Users/rbeaute/nltk_data...\n",
      "[nltk_data]   Package punkt is already up-to-date!\n"
     ]
    },
    {
     "data": {
      "text/html": [
       "<div>\n",
       "<style scoped>\n",
       "    .dataframe tbody tr th:only-of-type {\n",
       "        vertical-align: middle;\n",
       "    }\n",
       "\n",
       "    .dataframe tbody tr th {\n",
       "        vertical-align: top;\n",
       "    }\n",
       "\n",
       "    .dataframe thead th {\n",
       "        text-align: right;\n",
       "    }\n",
       "</style>\n",
       "<table border=\"1\" class=\"dataframe\">\n",
       "  <thead>\n",
       "    <tr style=\"text-align: right;\">\n",
       "      <th></th>\n",
       "      <th>reflection_answer</th>\n",
       "    </tr>\n",
       "  </thead>\n",
       "  <tbody>\n",
       "    <tr>\n",
       "      <th>0</th>\n",
       "      <td>Intense chaos. And then my mind checked out an...</td>\n",
       "    </tr>\n",
       "    <tr>\n",
       "      <th>1</th>\n",
       "      <td>\"good stuff.\"</td>\n",
       "    </tr>\n",
       "    <tr>\n",
       "      <th>2</th>\n",
       "      <td>a pattern of red and white lights that flashed...</td>\n",
       "    </tr>\n",
       "    <tr>\n",
       "      <th>3</th>\n",
       "      <td>I went back to many hard and mostly beautiful ...</td>\n",
       "    </tr>\n",
       "    <tr>\n",
       "      <th>4</th>\n",
       "      <td>Hello</td>\n",
       "    </tr>\n",
       "    <tr>\n",
       "      <th>...</th>\n",
       "      <td>...</td>\n",
       "    </tr>\n",
       "    <tr>\n",
       "      <th>313</th>\n",
       "      <td>pleasure &amp; intrigue</td>\n",
       "    </tr>\n",
       "    <tr>\n",
       "      <th>314</th>\n",
       "      <td>\"traveling through space</td>\n",
       "    </tr>\n",
       "    <tr>\n",
       "      <th>315</th>\n",
       "      <td>\"</td>\n",
       "    </tr>\n",
       "    <tr>\n",
       "      <th>316</th>\n",
       "      <td>\"I thought a lot about Rand's journey into Rhu...</td>\n",
       "    </tr>\n",
       "    <tr>\n",
       "      <th>317</th>\n",
       "      <td>history of the Aiel through the eyes of his an...</td>\n",
       "    </tr>\n",
       "  </tbody>\n",
       "</table>\n",
       "<p>318 rows × 1 columns</p>\n",
       "</div>"
      ],
      "text/plain": [
       "                                     reflection_answer\n",
       "0    Intense chaos. And then my mind checked out an...\n",
       "1                                        \"good stuff.\"\n",
       "2    a pattern of red and white lights that flashed...\n",
       "3    I went back to many hard and mostly beautiful ...\n",
       "4                                                Hello\n",
       "..                                                 ...\n",
       "313                                pleasure & intrigue\n",
       "314                           \"traveling through space\n",
       "315                                                  \"\n",
       "316  \"I thought a lot about Rand's journey into Rhu...\n",
       "317  history of the Aiel through the eyes of his an...\n",
       "\n",
       "[318 rows x 1 columns]"
      ]
     },
     "execution_count": 14,
     "metadata": {},
     "output_type": "execute_result"
    }
   ],
   "source": [
    "import pandas as pd\n",
    "from sklearn.feature_extraction.text import CountVectorizer\n",
    "import numpy as np\n",
    "import nltk\n",
    "nltk.download('punkt')\n",
    "\n",
    "from bertopic import BERTopic\n",
    "from bertopic.representation import BaseRepresentation\n",
    "from sentence_transformers import SentenceTransformer\n",
    "from sklearn.feature_extraction.text import CountVectorizer\n",
    "from umap import UMAP\n",
    "from hdbscan import HDBSCAN\n",
    "\n",
    "\n",
    "\n",
    "csv_path = '/Users/rbeaute/Projects/MOSAIC/DATA/multilingual/english/dreamachine/HS_reflections_cleaned.csv'\n",
    "df = pd.read_csv(csv_path, quoting=3, on_bad_lines='skip')\n",
    "df"
   ]
  },
  {
   "cell_type": "code",
   "execution_count": 20,
   "id": "bdfb5864",
   "metadata": {},
   "outputs": [
    {
     "data": {
      "text/html": [
       "<div>\n",
       "<style scoped>\n",
       "    .dataframe tbody tr th:only-of-type {\n",
       "        vertical-align: middle;\n",
       "    }\n",
       "\n",
       "    .dataframe tbody tr th {\n",
       "        vertical-align: top;\n",
       "    }\n",
       "\n",
       "    .dataframe thead th {\n",
       "        text-align: right;\n",
       "    }\n",
       "</style>\n",
       "<table border=\"1\" class=\"dataframe\">\n",
       "  <thead>\n",
       "    <tr style=\"text-align: right;\">\n",
       "      <th></th>\n",
       "      <th>reflection_answer</th>\n",
       "    </tr>\n",
       "  </thead>\n",
       "  <tbody>\n",
       "    <tr>\n",
       "      <th>0</th>\n",
       "      <td>Intense chaos. And then my mind checked out an...</td>\n",
       "    </tr>\n",
       "    <tr>\n",
       "      <th>1</th>\n",
       "      <td>good stuff.</td>\n",
       "    </tr>\n",
       "    <tr>\n",
       "      <th>2</th>\n",
       "      <td>a pattern of red and white lights that flashed...</td>\n",
       "    </tr>\n",
       "    <tr>\n",
       "      <th>3</th>\n",
       "      <td>I went back to many hard and mostly beautiful ...</td>\n",
       "    </tr>\n",
       "    <tr>\n",
       "      <th>4</th>\n",
       "      <td>Hello</td>\n",
       "    </tr>\n",
       "    <tr>\n",
       "      <th>...</th>\n",
       "      <td>...</td>\n",
       "    </tr>\n",
       "    <tr>\n",
       "      <th>313</th>\n",
       "      <td>pleasure &amp; intrigue</td>\n",
       "    </tr>\n",
       "    <tr>\n",
       "      <th>314</th>\n",
       "      <td>traveling through space</td>\n",
       "    </tr>\n",
       "    <tr>\n",
       "      <th>315</th>\n",
       "      <td></td>\n",
       "    </tr>\n",
       "    <tr>\n",
       "      <th>316</th>\n",
       "      <td>I thought a lot about Rand's journey into Rhui...</td>\n",
       "    </tr>\n",
       "    <tr>\n",
       "      <th>317</th>\n",
       "      <td>history of the Aiel through the eyes of his an...</td>\n",
       "    </tr>\n",
       "  </tbody>\n",
       "</table>\n",
       "<p>318 rows × 1 columns</p>\n",
       "</div>"
      ],
      "text/plain": [
       "                                     reflection_answer\n",
       "0    Intense chaos. And then my mind checked out an...\n",
       "1                                          good stuff.\n",
       "2    a pattern of red and white lights that flashed...\n",
       "3    I went back to many hard and mostly beautiful ...\n",
       "4                                                Hello\n",
       "..                                                 ...\n",
       "313                                pleasure & intrigue\n",
       "314                            traveling through space\n",
       "315                                                   \n",
       "316  I thought a lot about Rand's journey into Rhui...\n",
       "317  history of the Aiel through the eyes of his an...\n",
       "\n",
       "[318 rows x 1 columns]"
      ]
     },
     "execution_count": 20,
     "metadata": {},
     "output_type": "execute_result"
    }
   ],
   "source": [
    "df['reflection_answer'] = df['reflection_answer'].str.replace('\"', '', regex=False) # Remove quotes \n",
    "# df = df[df['reflection_answer'].str.split().str.len() > 1] # delete lines that have only one word\n",
    "df.reset_index(drop=True, inplace=True)\n",
    "df"
   ]
  },
  {
   "cell_type": "code",
   "execution_count": null,
   "id": "37a9f5b1",
   "metadata": {},
   "outputs": [
    {
     "name": "stdout",
     "output_type": "stream",
     "text": [
      "Loaded 318 (translated) documents for BERTopic modeling.\n",
      "Total number of sentences across all reports: 404\n",
      "Total number of sentences after filtering by length: 368\n"
     ]
    }
   ],
   "source": [
    "\n",
    "\n",
    "# ----------------------------------------\n",
    "reports = df['reflection_answer'].tolist()\n",
    "print(f\"Loaded {len(reports)} (translated) documents for BERTopic modeling.\")\n",
    "# ----------------------------------------\n",
    "\n",
    "# ----------------------------------------\n",
    "# Divide each report into sentences\n",
    "reports_sentences = [nltk.sent_tokenize(report) for report in reports]\n",
    "\n",
    "sentences = [sentence for report in reports_sentences for sentence in report]\n",
    "print(f\"Total number of sentences across all reports: {len(sentences)}\")\n",
    "# ----------------------------------------\n",
    "\n",
    "# filter sentences by min length\n",
    "min_word_count = 2\n",
    "sentences = [s for s in sentences if len(s.split()) >= min_word_count]\n",
    "print(f\"Total number of sentences after filtering by length: {len(sentences)}\")\n",
    "\n",
    "docs = sentences"
   ]
  },
  {
   "cell_type": "code",
   "execution_count": 24,
   "id": "57922a36",
   "metadata": {},
   "outputs": [
    {
     "data": {
      "text/plain": [
       "['Intense chaos.',\n",
       " 'And then my mind checked out and my subconscious took over and started talking.',\n",
       " \"What I imagine it's like looking back on life before you die.\",\n",
       " 'good stuff.',\n",
       " 'a pattern of red and white lights that flashed and became more intense when the lights flashed intensely.',\n",
       " 'I also felt sleepy for a bit and I was thinking of my partner who I could visualize',\n",
       " 'I went back to many hard and mostly beautiful memories without prompting them at all.',\n",
       " 'Hope as a color',\n",
       " 'dreaming while awake- flashes of random places I have been.',\n",
       " \"maybe this is what it's like to be dead.\",\n",
       " 'Being: immersed; calm; and thrilled.',\n",
       " 'life after retirement',\n",
       " 'Personally it was hard for me to find peace with the intensity of the bright light.',\n",
       " \"My eyes wouldn't stop watering so that kept my mind occupied.\",\n",
       " 'Still a really cool experience!',\n",
       " 'was like taking hallucinogenic drugs when I was younger',\n",
       " \"the closest thing I'll ever experience to being on drugs\",\n",
       " 'Incredible technicolor experience',\n",
       " 'incredible colors and patterns.',\n",
       " 'I tended to shift between focusing on the sound or the colors.',\n",
       " 'it was difficult to hold both equally present',\n",
       " 'geometric kaleidoscope shapes overlaid with moving cosmos/night sky slow exposure in different pulling directions',\n",
       " 'it was as if I was moving through a portal through time and space',\n",
       " 'sound inside my body',\n",
       " 'past memories and people not really in my life anymore',\n",
       " 'a calm peaceful state.',\n",
       " 'blissful even.',\n",
       " 'the vastness was just poetic and beautiful',\n",
       " 'feeling of things coming at you.',\n",
       " 'A sense of traveling along a galaxy highway towards the end',\n",
       " 'the music is calming and surreal',\n",
       " 'the sensory is overwhelming and powerful',\n",
       " 'I was scared at first but calmed down after a while',\n",
       " \"it is a unique experience I won't forget\",\n",
       " 'good beats leading me on',\n",
       " 'helpful and positive ambient sounds',\n",
       " 'felt similar to being in an MRI machine.',\n",
       " 'also the same with unsuccessfully trying to fall asleep during an insomnia period',\n",
       " 'Bright blue skies.',\n",
       " 'A waterfall flowing backwards.',\n",
       " 'A Flock of birds.',\n",
       " 'The universe?',\n",
       " 'Dreaming Dreamingly',\n",
       " 'flying through colorful vortex',\n",
       " 'overwhelming vast space and I was insignificant',\n",
       " \"difficult to make note of what I was seeing as I've never experienced that before\",\n",
       " 'I also felt happy and smiled at certain points which was quite weird',\n",
       " 'Sense of comfort.',\n",
       " 'Connection to an inner peace.',\n",
       " 'Calm and safe',\n",
       " 'Spirals and pulsing',\n",
       " 'I felt like a flower slowly unfurling in the sunlight',\n",
       " 'or like a trippy Mickey Mouse in a 1940s Disney animation... as seen through a kaleidoscope',\n",
       " 'there were points that the intense chaos broke into a clear defined counterclockwise spiraling tunnel with two small semi-circles at the',\n",
       " 'center going the opposite way',\n",
       " \"the dreamachine has put me in quite a strange but amazing mood and I want to catch that while it's still there.\",\n",
       " 'it is very sensitizing and the feeling now is one of afterglow.',\n",
       " 'it is very wonderful seeing the deep textures and powdery lights that arise in your vision.',\n",
       " 'the best bit was taking in the feelings of the music and gliding with it and morphing those visions according to how you feel about the music.',\n",
       " 'I had a memory from my childhood of spending lots of time staring at the windows media player audio visualizer while listening to songs I liked and how that seemed amazing at the time.',\n",
       " \"and this made me think about synesthetic experiences and how they're very precious and worth seeking out and appreciating.\",\n",
       " 'like this - music is a very visual thing',\n",
       " 'Journey forward.',\n",
       " 'And then maybe backwards.',\n",
       " 'Slow and fast.',\n",
       " 'Then really fast.',\n",
       " 'And really slow...... and so many fractals and colors!',\n",
       " 'VCA fuzz and patterns',\n",
       " 'I had a good experience with this and surprise how sensation can play with our mind and emotions.',\n",
       " 'Thanks for the experience.',\n",
       " 'A wheat field',\n",
       " 'A girl in summer',\n",
       " 'A roller coaster speeding',\n",
       " \"A bird flying out of the earth's atmosphere and into space\",\n",
       " 'A sun covered in creamy milk',\n",
       " 'A swim in the deep ocean',\n",
       " 'A sky coming towards me',\n",
       " 'would love an experience with continual stimulation without breaks to see how the images evolve',\n",
       " 'a variety of lights and colors moving inward and outwards',\n",
       " 'it was possible to generate full images on demand - elephant made of upwards flowing oil rivulets',\n",
       " \"it was like riding Willie Wonka's boat through the crazy tunnels in Charlie and the Chocolate Factory\",\n",
       " 'a peaceful experience',\n",
       " 'Sound created the visuals and created a pattern of energy movement across my body',\n",
       " 'mild euphoric moments',\n",
       " 'throughout I felt calm but exalted.',\n",
       " 'how I would like to next make some felt artwork',\n",
       " \"Sure am glad I wasn't on drugs!\",\n",
       " 'moving through a tunnel of branches',\n",
       " 'no green I did not see any green at all from start to finish',\n",
       " 'I was riding a ray of some sort flying over a barren Icelandic desert.',\n",
       " 'then I was spinning through the universe.',\n",
       " 'trying to remember the patterns',\n",
       " 'kaleidoscope of colors',\n",
       " 'I profound sense of relaxation I have never experienced.',\n",
       " 'With this came',\n",
       " 'a pure connectivity with my body and a slight floating sensation.',\n",
       " 'absolutely tripped away.',\n",
       " 'so good I came n experienced the experience u set up',\n",
       " 'not wanting my thoughts to overtake the experience',\n",
       " 'thousands of fluttering butterfly wings.',\n",
       " 'flying through space at incredible speed.',\n",
       " 'phosphorescence on water.',\n",
       " 'a Welsh blanket.',\n",
       " \"my mother's blue handmade patchwork quilt.\",\n",
       " 'the overwhelming beauty of spinning on this planet.',\n",
       " 'a childhood memory of staring through my glittering eyelashes into the rainbow bright sun.',\n",
       " 'not much at all',\n",
       " 'I found my thoughts developing into stories and images while my eyes were closed.',\n",
       " 'the vast colors my brain generated were as impressive as an art gallery',\n",
       " 'relaxing and reflective     worries stopped / put in proportion',\n",
       " 'an interesting one.',\n",
       " 'PEACEFULNESS AND GUIDANCE',\n",
       " 'towards the end a washing machine spin going into a helicopter moving from different positions.',\n",
       " 'how my brain hallucinates on the go',\n",
       " 'It felt like my brain was being massaged.',\n",
       " 'sometimes it felt overwhelming.',\n",
       " 'I think when it became overwhelming my brain would cut to normal thoughts eg like what I need to buy from the shop for dinner.',\n",
       " 'sometimes I would see clips eg like from a film interspersed every now and again',\n",
       " 'colors shapes stars ac in echo',\n",
       " 'I felt an overwhelming sense of euphoria and love for everyone in the room.',\n",
       " 'I felt we were journeying together.',\n",
       " 'I felt hopeful.',\n",
       " 'I felt very relaxed and comfortable',\n",
       " 'it was insane',\n",
       " 'It felt like Vasarely was flying my brain through space into the warm sunset',\n",
       " 'I feel amazed as I saw a friend from the past who was free by a field on a green hill which made me weep with joy and I saw the poverty of my forebears and loved and thanked them',\n",
       " 'an incredible sensory experience with a huge feeling of calm and peace.',\n",
       " 'at times it felt like I was back in the womb.',\n",
       " 'Tess is very calming',\n",
       " 'strobe lighting  very orange and yellow dominant colors',\n",
       " 'like the old kaleidoscopes we had as kids',\n",
       " 'main experience was visual no other senses involved',\n",
       " 'psychedelic colors',\n",
       " 'Devtest Trevor onsite 2',\n",
       " 'devtest Trev on site',\n",
       " 'a time and a place that seem to have happened but has yet to come',\n",
       " 'fabulous experience.',\n",
       " \"I didn't want it to end.\",\n",
       " 'It was like having your eyes open throughout and yet totally enveloped in the sound',\n",
       " 'Good vibes',\n",
       " 'people talking made me see people walking towards me and it was really',\n",
       " 'The experience felt like a new form of art in which the individual is the host of their own unique experience',\n",
       " 'a zen experience',\n",
       " 'I at times felt a concern that the experience would end too soon',\n",
       " 'I participated in a psychedelic trial of DMT 7 months ago and this experience took me back to that.',\n",
       " 'The music especially was on par with how one perceives sound during an actual trip.',\n",
       " 'This is a truly amazing experience.Hard to describe.',\n",
       " 'Thank you for creating it.',\n",
       " 'flashing patterns and music distracted from linear or rational thinking so just sat back and enjoyed sensory pleasure of colors and music.',\n",
       " 'The Earth falling into the Sun at least once.',\n",
       " 'Nineties rave visuals.',\n",
       " 'The cycle of death and rebirth as envisaged in eighties.',\n",
       " 'A summer meadow.',\n",
       " 'A lot of diamond ripples.',\n",
       " 'a direct experience of our infinite creativity.',\n",
       " 'it was like I was traveling between dimensions.',\n",
       " 'I imagine I would go on a similar journey when I transition to the other realms',\n",
       " 'I spoke to my 8-year-old self and 80-year-old self.',\n",
       " 'They were happy',\n",
       " 'like I was particles or a star emitting light into space',\n",
       " 'towards the end I went to space.',\n",
       " 'the takeoff was intense and scary but at the end I was floating peacefully in orbit with the glow of the earth below me.',\n",
       " 'I could see the stars above me',\n",
       " 'it felt like coming home',\n",
       " 'I felt like I understood why Islamic architecture features geometric shapes so prominently.',\n",
       " 'because we see these shapes when we close our eyes.',\n",
       " 'obviously spiritual',\n",
       " 'I dissolved into light',\n",
       " 'I felt like I was looking across the Universe beyond any realm of experience.',\n",
       " 'I felt deep connection with humankind and an overwhelming sense of peace.',\n",
       " 'I left feeling profoundly moved and very tearful.',\n",
       " 'it sparked much curiosity.',\n",
       " 'what do I really understand?',\n",
       " 'changing colors.',\n",
       " 'interlocking diamond and triangles faintly distinct.',\n",
       " 'the light appears to grow and shrink.',\n",
       " 'a lot of memories',\n",
       " 'utter peace and happiness',\n",
       " 'intense connection with my body and surroundings',\n",
       " 'Being in a busy airport waiting area then landing in Egypt',\n",
       " 'A great sense of calm and belonging',\n",
       " 'nostalgia and peace.',\n",
       " 'optimism and escapism.',\n",
       " \"I've visited three times and had a different experience.\",\n",
       " 'Once I was wearing contacts and it was more geometric.',\n",
       " 'The last time I saw a lot of white geometric forms mixed with smoke.',\n",
       " 'All of the times I saw hyperspace-style visuals with red and blue',\n",
       " 'Saw x3 distinct images:',\n",
       " 'Bookmark Symbol',\n",
       " 'Intrigued and excited',\n",
       " 'A bubbling of freedom.',\n",
       " 'Suddenly seeing somewhere dark yet bright resulting in a tingling sensation through alternative parts of my body but also of pure relaxation',\n",
       " 'loved it.',\n",
       " 'would like to try it for a couple of hours',\n",
       " 'What surprised me this time (4th experience of high sensory) was seeing peripheral live structures - pyramidal shapes.',\n",
       " 'Another thing which found strange was seeing clearly a pentagram in the center of spiral - normal one as well as reversed and then rotating.',\n",
       " 'I felt at one point that I saw someone leave the room (like a dream) also we all lifted up and spiraled like a waltzer.',\n",
       " 'I saw many kinds of patterns from sparks to geometric shapes and contrarotating spirals.',\n",
       " 'My feet feel a bit floaty.',\n",
       " 'Felt like the llama intro credit scene of monty python holy grail at some points.',\n",
       " 'thought about god',\n",
       " 'scenes of beautiful situations of the past',\n",
       " 'scary pointy laughing clown face in test period.',\n",
       " 'when he came up again later I was able to control him and turned him into a pecking bird.',\n",
       " 'A euphoric and healing experience.',\n",
       " 'I FELT AS THOUGH I WAS EXPERIENCING THE FORMATION OF THE SOLAR SYSTEM AND THE EARTH...A PLACE OF WARMTH AND LIGHT ARISING OUT OF DUST AND SPINNING CHAOS SUSPENDED IN AN INFINITE VOID.',\n",
       " 'not as good as doing loads of ket but still decent',\n",
       " 'i wish I could do it again.',\n",
       " 'it reminded me of being a child',\n",
       " \"I hope that's what death feels like x\",\n",
       " ' I wondered if it would be like this when you die.',\n",
       " 'Calm and serene and not frightening.',\n",
       " 'I saw lots of warm colors and black and crosses-no green',\n",
       " 'i was in another world',\n",
       " 'I saw a serene beach scene with people and text as if it were subtitled in a movie set in the south of France.',\n",
       " 'my brain being an Oscar-worthy director',\n",
       " 'I felt sleepy and a bit anxious at times due to the speed of the flashing lights.',\n",
       " 'I did not have profound thoughts during the experience but rather almost fell asleep in a dreamlike way',\n",
       " 'I was on a rollercoaster into the sun.',\n",
       " \"Don't make me get off!\",\n",
       " 'Peaceful contemplation and vivid Mandelbrot type kaleidoscopic patterns',\n",
       " 'intense fast movement of sound shapes color and light',\n",
       " 'it was 100% more immersive than I anticipated',\n",
       " 'no sense of time',\n",
       " 'I feel really relaxed and would like to do it again.',\n",
       " 'j if I do I will try and meditate beforehand as I still had racing thoughts interrupting me.',\n",
       " \"I couldn't be totally immersed because I suffer from tinnitus and no matter what it's always a distraction.\",\n",
       " 'I want to do it again!',\n",
       " 'something wonderful',\n",
       " 'it began violent before falling away to darkness',\n",
       " 'This is my 7th visit.',\n",
       " 'This would be a great therapy to teach mindfulness and train people to still their thoughts.',\n",
       " 'Also possibilities for recreational use',\n",
       " 'Perhaps even people who want to get off drugs.',\n",
       " 'More DM please!',\n",
       " 'A feeling of peace and tranquility',\n",
       " 'this was unnerving sometimes.',\n",
       " 'amazing experience though.',\n",
       " 'like being on acid or DMT but safer!!',\n",
       " 'everyone should try',\n",
       " 'fascinating experience with great therapeutic potential',\n",
       " 'Colors like a test card at first lightly muted but then I called pink to mind and saw a wash of deep pink.',\n",
       " 'I also saw some text almost like ancient runes.',\n",
       " 'At one point I felt like I was flying.',\n",
       " 'I remembered some difficult experiences during but afterwards I felt euphoric',\n",
       " 'Overarching nature and love.',\n",
       " 'different thoughts about the perception of light and the manner in which human discernment develops towards something.',\n",
       " \"it's all just an experience.\",\n",
       " 'live more!',\n",
       " \"I was hurtling through space and time at a speed I couldn't determine.\",\n",
       " 'I felt like I experienced the big bang and everything since.',\n",
       " 'It was really hard to put my finger on it.',\n",
       " 'I was shedding different layers of myself and felt connected to all life forms.',\n",
       " 'I felt so much energy pulsating through my body',\n",
       " 'aware of the music throughout and changing rhythms and tones',\n",
       " 'I saw the inside of my eyelids in a whole new way.',\n",
       " 'Was starting to feel far more significant/interesting emotions when the experience stopped',\n",
       " \"To be quite honest I think I fell asleep so don't really remember what I saw.\",\n",
       " 'An intensity of connection vastness spaciousness loving awareness',\n",
       " 'deep relaxation.',\n",
       " 'like a deep tissue massage for the mind.',\n",
       " 'a safe healthy groovy drug-free trip.',\n",
       " 'how long did it last?',\n",
       " 'afterwards I felt as if I had had the deepest  deepest sleep.',\n",
       " \"I worried it might give me a headache but it didn't.\",\n",
       " 'great peace.',\n",
       " 'colorful patterns',\n",
       " 'Peace and contentment.',\n",
       " \"frustration that I couldn't stop thinking about the outside and concentrate on what was happening.\",\n",
       " 'but there were occasional tumbles in the patterns that made me leap back into it',\n",
       " 'I also felt like I wanted the experience to be more intense - much louder',\n",
       " 'some physical discomfort; amazing patterns; intense colors; yearning; desire to see more; questions',\n",
       " 'lights and colors.',\n",
       " 'a sense of calm.',\n",
       " 'a perfectly cromulent experience',\n",
       " 'relaxing and patterned music',\n",
       " 'a journey into the unknown.',\n",
       " 'a beautiful quest to oblivion',\n",
       " 'I felt very powerless and pulled along during the experience.',\n",
       " 'like I was being dragged along a space portal or tunnel at a very high speed.',\n",
       " 'I saw stars and the outlines of planets.',\n",
       " 'I saw a large cross.',\n",
       " 'two wolf shapes facing each other.',\n",
       " 'I saw a large butterfly/dragon shape descending from the stars.',\n",
       " 'I saw a large huge open space patterned with what looked like white and black tiles.',\n",
       " 'I saw large sky-like shapes writhing through the space and tunnel each a different color',\n",
       " 'felt out of my body - in fact off planet Earth - like I took a trip into space',\n",
       " 'this is my 2nd time.',\n",
       " 'the 1st one was better coz I felt relaxed and I got ideas.',\n",
       " 'this time someone kept coughing and disrupted my thought process.',\n",
       " 'I did not feel anything at all.',\n",
       " 'they should ban people who cough',\n",
       " 'similar stuff to what I normally experience',\n",
       " 'that was like acid',\n",
       " 'was an interesting experience and after I felt relaxed',\n",
       " 'just music',\n",
       " 'Peace tranquility joy stimulation arousal.',\n",
       " 'swirling patterns.',\n",
       " 'geometric shapes shifting and changing I got lost my body disappeared and came back.',\n",
       " 'I had short dreams',\n",
       " 'Thought about how I was feeling and that there were people around me and how it made me feel vulnerable.',\n",
       " 'Joy and relaxation',\n",
       " 'i thought throughout I was visualizing my own body specifically my head.',\n",
       " 'my thoughts of this is I felt safe and fun.',\n",
       " 'it gives me an odd feeling of wanting to keep feeling these types of thing again',\n",
       " 'lots of colors',\n",
       " \"I was aware when I started to follow my train of thought I was maybe going deeper into myself and I didn't see as much of the imagery as when I did when I was concentrating on the colors and the shapes.\",\n",
       " \"I spent a lot of time thinking about the way I experience the world sensorily and whether it is 'normal' compared to other people.\",\n",
       " 'a wild ride',\n",
       " 'a kaleidoscope of light and patterns',\n",
       " 'i was on a journey I was relaxed and not a bit worried as if I knew I would be safe',\n",
       " 'random thoughts some connected to people close to me others just events and journeys',\n",
       " 'A sense of expansion',\n",
       " 'Forward motion',\n",
       " 'flowers blooming',\n",
       " 'Breathing exercise:',\n",
       " 'it would help if the staff could show us how to do it so we could copy them.',\n",
       " 'The way it was delivered was too fast and too long.',\n",
       " \"it wasn't with my rhythm.\",\n",
       " 'i found the eye mask uncomfortable on my forehead so I took it off.',\n",
       " 'I would prefer to use my hands to shield from the light.',\n",
       " 'it was a bit too cold for me in the dreamachine especially as we were not moving.',\n",
       " 'it might be an idea to have a box of tissues in the reflection room.',\n",
       " 'Lots of pulsating spiraling images that did not take specific forms.',\n",
       " 'I kept seeing images of people',\n",
       " 'entry another universe',\n",
       " ' though was moving in a sleep state at that point',\n",
       " 'I also experienced ghost people in my peripheral vision.',\n",
       " 'sometimes fleeting or felt they were walking around the room.',\n",
       " 'wispy and milky in appearance.',\n",
       " 'I am also dyslexic and it was interesting to experience as neurodivergent brained person',\n",
       " 'sequential rich kaleidoscopic patterning with a sense of depth structures felt elite and natural rather than architectural or fantastical or transcendental.',\n",
       " \"A kaleidoscopic 'Be our Guest' from Beauty & The Beast experience.\",\n",
       " 'I kept seeing happy spinning teapots!',\n",
       " 'having had many psychedelic',\n",
       " \"healing a part of myself I didn't realize had decayed entirely\",\n",
       " 'felt like I was on that boat in Charlie and the Chocolate Factory.',\n",
       " 'deep memories and emotive reflections.',\n",
       " \"images I've seen before.\",\n",
       " 'stimulation and relaxation within the music and light',\n",
       " ' At one moment when it was darker I saw a deep mass of blue-green sparks that pulsed almost like a jellyfish.',\n",
       " 'I wanted to stay in that space and see more of those worlds.',\n",
       " \"space even if I've never been physically there\",\n",
       " 'A mass of moving shapes and the',\n",
       " 'amazing sense of peace and positivity',\n",
       " 'very interesting!',\n",
       " 'Colors and lines and spheres and twirls',\n",
       " 'sensory rollercoaster',\n",
       " 'really just thoughts from my day or things I need to do or had forgotten to do.',\n",
       " 'Quite a few meshes orders of dark colors emerging from blackness but at one point',\n",
       " ' hexagons of pulsating pink and black began punching me from both sides alternately',\n",
       " 'It lasted about 6 seconds but if it had gone on longer I would have had to',\n",
       " 'Seeing and hearing my deceased relatives.',\n",
       " 'They all smiled and I could hear their distinctive voices...',\n",
       " 'life death and rebirth',\n",
       " 'red all red',\n",
       " 'shapes and travel through time',\n",
       " 'huge 3D landscapes.',\n",
       " 'Flashing backgrounds undulating into the foreground quickly becoming a new perspective',\n",
       " 'I felt warm and cold sensations in my hands at one point and was very relaxed and sleepy by the end.',\n",
       " 'I found the flashing lights a little intense but the eye mask worked well for me during those times.',\n",
       " 'Overall an enjoyable and relaxing experience.',\n",
       " 'Changing temperature of my body with the lights.',\n",
       " 'Changes in intensity of the experience when I focused compared to when the light was across my whole peripheral vision.',\n",
       " 'pleasure & intrigue',\n",
       " 'traveling through space',\n",
       " \"I thought a lot about Rand's journey into Rhuidean and experiencing the\",\n",
       " 'history of the Aiel through the eyes of his ancestors']"
      ]
     },
     "execution_count": 24,
     "metadata": {},
     "output_type": "execute_result"
    }
   ],
   "source": [
    "sentences"
   ]
  },
  {
   "cell_type": "code",
   "execution_count": 25,
   "id": "80572162",
   "metadata": {},
   "outputs": [],
   "source": [
    "from huggingface_hub import hf_hub_download  # For loading the model instance from Hugging Face\n",
    "import os  # For creating system directories\n",
    "from llama_cpp import Llama  # LLM Wrapper\n",
    "from bertopic.representation import KeyBERTInspired, LlamaCPP  # Representation Comparison\n",
    "from sentence_transformers import SentenceTransformer  # Embedding Model Wrapper\n",
    "from umap import UMAP\n",
    "from hdbscan import HDBSCAN\n",
    "from bertopic import BERTopic  # For topic modeling with BERTopic\n",
    "import PIL  # For image processing\n",
    "import numpy as np  # For numerical computations\n",
    "import requests  # For making HTTP requests\n",
    "import datamapplot  # For data visualization\n",
    "import re  # For regular expressions"
   ]
  },
  {
   "cell_type": "code",
   "execution_count": 26,
   "id": "3f2220fa",
   "metadata": {},
   "outputs": [
    {
     "name": "stderr",
     "output_type": "stream",
     "text": [
      "llama_init_from_model: n_ctx_per_seq (4096) < n_ctx_train (8192) -- the full capacity of the model will not be utilized\n",
      "ggml_metal_init: skipping kernel_get_rows_bf16                     (not supported)\n",
      "ggml_metal_init: skipping kernel_mul_mv_bf16_f32                   (not supported)\n",
      "ggml_metal_init: skipping kernel_mul_mv_bf16_f32_1row              (not supported)\n",
      "ggml_metal_init: skipping kernel_mul_mv_bf16_f32_l4                (not supported)\n",
      "ggml_metal_init: skipping kernel_mul_mv_bf16_bf16                  (not supported)\n",
      "ggml_metal_init: skipping kernel_mul_mv_id_bf16_f32                (not supported)\n",
      "ggml_metal_init: skipping kernel_mul_mm_bf16_f32                   (not supported)\n",
      "ggml_metal_init: skipping kernel_mul_mm_id_bf16_f32                (not supported)\n",
      "ggml_metal_init: skipping kernel_flash_attn_ext_bf16_h64           (not supported)\n",
      "ggml_metal_init: skipping kernel_flash_attn_ext_bf16_h80           (not supported)\n",
      "ggml_metal_init: skipping kernel_flash_attn_ext_bf16_h96           (not supported)\n",
      "ggml_metal_init: skipping kernel_flash_attn_ext_bf16_h112          (not supported)\n",
      "ggml_metal_init: skipping kernel_flash_attn_ext_bf16_h128          (not supported)\n",
      "ggml_metal_init: skipping kernel_flash_attn_ext_bf16_h256          (not supported)\n",
      "ggml_metal_init: skipping kernel_flash_attn_ext_vec_bf16_h128      (not supported)\n",
      "ggml_metal_init: skipping kernel_flash_attn_ext_vec_bf16_h256      (not supported)\n",
      "ggml_metal_init: skipping kernel_cpy_f32_bf16                      (not supported)\n",
      "ggml_metal_init: skipping kernel_cpy_bf16_f32                      (not supported)\n",
      "ggml_metal_init: skipping kernel_cpy_bf16_bf16                     (not supported)\n"
     ]
    }
   ],
   "source": [
    "model_name_or_path = \"NousResearch/Meta-Llama-3-8B-Instruct-GGUF\"\n",
    "model_basename = \"Meta-Llama-3-8B-Instruct-Q4_K_M.gguf\"\n",
    "os.makedirs('model', exist_ok=True)\n",
    "path = \"model\"\n",
    "\n",
    "\n",
    "# Downloading the model from repo\n",
    "model_path = hf_hub_download(repo_id=model_name_or_path, filename=model_basename) #, cache_dir=path)\n",
    "\n",
    "\n",
    "# Use llama.cpp to load in a Quantized LLM\n",
    "llm = Llama(model_path=model_path, \n",
    "            n_gpu_layers=-1, #offload all possible layers of the model to the GPU\n",
    "            n_ctx=4096, \n",
    "            stop=[\"Q:\", \"\\n\"],\n",
    "            verbose=False)"
   ]
  },
  {
   "cell_type": "code",
   "execution_count": 27,
   "id": "f3d2301b",
   "metadata": {},
   "outputs": [
    {
     "data": {
      "application/vnd.jupyter.widget-view+json": {
       "model_id": "faccc108c0664c9eb8036bcf29faadb4",
       "version_major": 2,
       "version_minor": 0
      },
      "text/plain": [
       "Batches:   0%|          | 0/12 [00:00<?, ?it/s]"
      ]
     },
     "metadata": {},
     "output_type": "display_data"
    },
    {
     "name": "stderr",
     "output_type": "stream",
     "text": [
      "OMP: Info #276: omp_set_nested routine deprecated, please use omp_set_max_active_levels instead.\n"
     ]
    }
   ],
   "source": [
    "prompt = \"\"\" Q:\n",
    "I have a topic that contains the following documents:\n",
    "[DOCUMENTS]\n",
    "\n",
    "\n",
    "The topic is described by the following keywords: '[KEYWORDS]'.\n",
    "\n",
    "\n",
    "Based on the above information, can you give a short label of the topic of at most 5 words?\n",
    "A:\n",
    "\"\"\"\n",
    "\n",
    "\n",
    "representation_model = {\n",
    "   \"KeyBERT\": KeyBERTInspired(),\n",
    "   \"LLM\": LlamaCPP(llm, prompt=prompt),\n",
    "}\n",
    "\n",
    "\n",
    "# Pre-calculate embeddings\n",
    "embedding_model = SentenceTransformer(\"BAAI/bge-small-en-v1.5\")\n",
    "embeddings = embedding_model.encode(docs, show_progress_bar=True)\n",
    "\n",
    "\n",
    "# Pre-reduce embeddings for visualization purposes\n",
    "reduced_embeddings = UMAP(n_neighbors=15, n_components=2, min_dist=0.0, metric='cosine', random_state=42).fit_transform(embeddings)\n",
    "\n",
    "vectorizer = CountVectorizer(ngram_range=(1, 3), stop_words='english')\n",
    "\n",
    "\n",
    "\n",
    "\n",
    "# Define sub-models\n",
    "umap_model = UMAP(n_neighbors=15, n_components=5, min_dist=0.0, metric='cosine', random_state=42)\n",
    "hdbscan_model = HDBSCAN(min_cluster_size=40, metric='euclidean', cluster_selection_method='eom', prediction_data=True)"
   ]
  },
  {
   "cell_type": "code",
   "execution_count": 28,
   "id": "59bf9723",
   "metadata": {},
   "outputs": [
    {
     "name": "stderr",
     "output_type": "stream",
     "text": [
      "2025-06-24 12:34:10,675 - BERTopic - Dimensionality - Fitting the dimensionality reduction algorithm\n",
      "2025-06-24 12:34:11,151 - BERTopic - Dimensionality - Completed ✓\n",
      "2025-06-24 12:34:11,152 - BERTopic - Cluster - Start clustering the reduced embeddings\n",
      "2025-06-24 12:34:11,166 - BERTopic - Cluster - Completed ✓\n",
      "2025-06-24 12:34:11,166 - BERTopic - Representation - Extracting topics using c-TF-IDF for topic reduction.\n",
      "2025-06-24 12:34:11,182 - BERTopic - Representation - Completed ✓\n",
      "2025-06-24 12:34:11,183 - BERTopic - Topic reduction - Reducing number of topics\n",
      "2025-06-24 12:34:11,186 - BERTopic - Representation - Fine-tuning topics using representation models.\n",
      "100%|██████████| 3/3 [00:10<00:00,  3.36s/it]\n",
      "2025-06-24 12:34:22,331 - BERTopic - Representation - Completed ✓\n",
      "2025-06-24 12:34:22,333 - BERTopic - Topic reduction - Reduced number of topics from 3 to 3\n"
     ]
    },
    {
     "data": {
      "text/html": [
       "<div>\n",
       "<style scoped>\n",
       "    .dataframe tbody tr th:only-of-type {\n",
       "        vertical-align: middle;\n",
       "    }\n",
       "\n",
       "    .dataframe tbody tr th {\n",
       "        vertical-align: top;\n",
       "    }\n",
       "\n",
       "    .dataframe thead th {\n",
       "        text-align: right;\n",
       "    }\n",
       "</style>\n",
       "<table border=\"1\" class=\"dataframe\">\n",
       "  <thead>\n",
       "    <tr style=\"text-align: right;\">\n",
       "      <th></th>\n",
       "      <th>Topic</th>\n",
       "      <th>Count</th>\n",
       "      <th>Name</th>\n",
       "      <th>Representation</th>\n",
       "      <th>KeyBERT</th>\n",
       "      <th>LLM</th>\n",
       "      <th>Representative_Docs</th>\n",
       "    </tr>\n",
       "  </thead>\n",
       "  <tbody>\n",
       "    <tr>\n",
       "      <th>0</th>\n",
       "      <td>-1</td>\n",
       "      <td>164</td>\n",
       "      <td>-1_like_experience_space_music</td>\n",
       "      <td>[like, experience, space, music, saw, body, fe...</td>\n",
       "      <td>[felt like, kept seeing, amazing experience, f...</td>\n",
       "      <td>[\"Vibrant Space and Cosmic Experience\", , , , ...</td>\n",
       "      <td>[felt out of my body - in fact off planet Eart...</td>\n",
       "    </tr>\n",
       "    <tr>\n",
       "      <th>1</th>\n",
       "      <td>0</td>\n",
       "      <td>143</td>\n",
       "      <td>0_felt_experience_sense_like</td>\n",
       "      <td>[felt, experience, sense, like, thoughts, peac...</td>\n",
       "      <td>[experience felt, felt overwhelming, felt rela...</td>\n",
       "      <td>[\"Personal Spiritual Growth Experience\", , , ,...</td>\n",
       "      <td>[I felt deep connection with humankind and an ...</td>\n",
       "    </tr>\n",
       "    <tr>\n",
       "      <th>2</th>\n",
       "      <td>1</td>\n",
       "      <td>61</td>\n",
       "      <td>1_colors_patterns_shapes_kaleidoscope</td>\n",
       "      <td>[colors, patterns, shapes, kaleidoscope, image...</td>\n",
       "      <td>[lights, lights colors, patterns lights, patte...</td>\n",
       "      <td>[\"Vibrant Light and Color Patterns\", , , , , ,...</td>\n",
       "      <td>[a pattern of red and white lights that flashe...</td>\n",
       "    </tr>\n",
       "  </tbody>\n",
       "</table>\n",
       "</div>"
      ],
      "text/plain": [
       "   Topic  Count                                   Name  \\\n",
       "0     -1    164         -1_like_experience_space_music   \n",
       "1      0    143           0_felt_experience_sense_like   \n",
       "2      1     61  1_colors_patterns_shapes_kaleidoscope   \n",
       "\n",
       "                                      Representation  \\\n",
       "0  [like, experience, space, music, saw, body, fe...   \n",
       "1  [felt, experience, sense, like, thoughts, peac...   \n",
       "2  [colors, patterns, shapes, kaleidoscope, image...   \n",
       "\n",
       "                                             KeyBERT  \\\n",
       "0  [felt like, kept seeing, amazing experience, f...   \n",
       "1  [experience felt, felt overwhelming, felt rela...   \n",
       "2  [lights, lights colors, patterns lights, patte...   \n",
       "\n",
       "                                                 LLM  \\\n",
       "0  [\"Vibrant Space and Cosmic Experience\", , , , ...   \n",
       "1  [\"Personal Spiritual Growth Experience\", , , ,...   \n",
       "2  [\"Vibrant Light and Color Patterns\", , , , , ,...   \n",
       "\n",
       "                                 Representative_Docs  \n",
       "0  [felt out of my body - in fact off planet Eart...  \n",
       "1  [I felt deep connection with humankind and an ...  \n",
       "2  [a pattern of red and white lights that flashe...  "
      ]
     },
     "execution_count": 28,
     "metadata": {},
     "output_type": "execute_result"
    }
   ],
   "source": [
    "topic_model = BERTopic(\n",
    " # Sub-models\n",
    " embedding_model=embedding_model,\n",
    " umap_model=umap_model,\n",
    " hdbscan_model=hdbscan_model,\n",
    " representation_model=representation_model,\n",
    " vectorizer_model=vectorizer,\n",
    " nr_topics=\"auto\",  # Automatically determine the number of topics\n",
    "\n",
    " # Hyperparameters\n",
    " top_n_words=10,\n",
    " verbose=True\n",
    ")\n",
    "\n",
    "\n",
    "# Train model\n",
    "topics, probs = topic_model.fit_transform(docs, embeddings)\n",
    "\n",
    "\n",
    "# Show topics\n",
    "topic_model.get_topic_info()"
   ]
  },
  {
   "cell_type": "code",
   "execution_count": 29,
   "id": "88912e56",
   "metadata": {},
   "outputs": [
    {
     "data": {
      "application/vnd.plotly.v1+json": {
       "config": {
        "plotlyServerURL": "https://plot.ly"
       },
       "data": [
        {
         "hoverinfo": "text",
         "hovertext": [
          "Seeing and hearing my deceased relatives.",
          "Slow and fast.",
          "a Welsh blanket.",
          "Intense chaos.",
          "Journey forward.",
          "like this - music is a very visual thing",
          "Sound created the visuals and created a pattern of energy movement across my body",
          "a wild ride",
          "a beautiful quest to oblivion",
          "A sky coming towards me",
          "With this came",
          "Changing temperature of my body with the lights.",
          "overwhelming vast space and I was insignificant",
          "a lot of memories",
          "because we see these shapes when we close our eyes.",
          "a perfectly cromulent experience",
          "very interesting!",
          "how my brain hallucinates on the go",
          "like being on acid or DMT but safer!!",
          "history of the Aiel through the eyes of his ancestors",
          "It felt like Vasarely was flying my brain through space into the warm sunset",
          "The way it was delivered was too fast and too long.",
          "sound inside my body",
          "I felt like I understood why Islamic architecture features geometric shapes so prominently.",
          "felt like I was on that boat in Charlie and the Chocolate Factory.",
          "I saw many kinds of patterns from sparks to geometric shapes and contrarotating spirals.",
          "Forward motion",
          "A bird flying out of the earth's atmosphere and into space",
          "Suddenly seeing somewhere dark yet bright resulting in a tingling sensation through alternative parts of my body but also of pure relaxation",
          "towards the end I went to space.",
          " hexagons of pulsating pink and black began punching me from both sides alternately",
          "different thoughts about the perception of light and the manner in which human discernment develops towards something.",
          "I saw a large butterfly/dragon shape descending from the stars.",
          "the closest thing I'll ever experience to being on drugs",
          "the vast colors my brain generated were as impressive as an art gallery",
          "not as good as doing loads of ket but still decent",
          "a pure connectivity with my body and a slight floating sensation.",
          "I imagine I would go on a similar journey when I transition to the other realms",
          "good beats leading me on",
          "the best bit was taking in the feelings of the music and gliding with it and morphing those visions according to how you feel about the music.",
          "it might be an idea to have a box of tissues in the reflection room.",
          "The experience felt like a new form of art in which the individual is the host of their own unique experience",
          " I wondered if it would be like this when you die.",
          "towards the end a washing machine spin going into a helicopter moving from different positions.",
          "I felt like I was looking across the Universe beyond any realm of experience.",
          "All of the times I saw hyperspace-style visuals with red and blue",
          "I kept seeing images of people",
          "it's all just an experience.",
          "something wonderful",
          "Being in a busy airport waiting area then landing in Egypt",
          "More DM please!",
          "Breathing exercise:",
          "Then really fast.",
          "I want to do it again!",
          "fabulous experience.",
          "Colors like a test card at first lightly muted but then I called pink to mind and saw a wash of deep pink.",
          "I also experienced ghost people in my peripheral vision.",
          "deep memories and emotive reflections.",
          "At one point I felt like I was flying.",
          "Intrigued and excited",
          "felt out of my body - in fact off planet Earth - like I took a trip into space",
          "The universe?",
          "what do I really understand?",
          "thought about god",
          "would love an experience with continual stimulation without breaks to see how the images evolve",
          "it was insane",
          "utter peace and happiness",
          "A roller coaster speeding",
          "I did not feel anything at all.",
          "everyone should try",
          "flying through space at incredible speed.",
          "intense connection with my body and surroundings",
          "how long did it last?",
          "would like to try it for a couple of hours",
          "I saw stars and the outlines of planets.",
          "Overarching nature and love.",
          "Sure am glad I wasn't on drugs!",
          "aware of the music throughout and changing rhythms and tones",
          "just music",
          "it would help if the staff could show us how to do it so we could copy them.",
          "not much at all",
          "I felt like I experienced the big bang and everything since.",
          "stimulation and relaxation within the music and light",
          "my brain being an Oscar-worthy director",
          "The cycle of death and rebirth as envisaged in eighties.",
          "center going the opposite way",
          "great peace.",
          "Thanks for the experience.",
          "past memories and people not really in my life anymore",
          "traveling through space",
          "life after retirement",
          "mild euphoric moments",
          "entry another universe",
          "maybe this is what it's like to be dead.",
          "flashing patterns and music distracted from linear or rational thinking so just sat back and enjoyed sensory pleasure of colors and music.",
          "it was like I was traveling between dimensions.",
          "the takeoff was intense and scary but at the end I was floating peacefully in orbit with the glow of the earth below me.",
          "Perhaps even people who want to get off drugs.",
          "good stuff.",
          "they should ban people who cough",
          "so good I came n experienced the experience u set up",
          "feeling of things coming at you.",
          "I saw a large cross.",
          "i was in another world",
          "it is very wonderful seeing the deep textures and powdery lights that arise in your vision.",
          "Also possibilities for recreational use",
          "live more!",
          "I saw large sky-like shapes writhing through the space and tunnel each a different color",
          "my mother's blue handmade patchwork quilt.",
          "it was like riding Willie Wonka's boat through the crazy tunnels in Charlie and the Chocolate Factory",
          "Calm and safe",
          "I could see the stars above me",
          "I kept seeing happy spinning teapots!",
          "I also saw some text almost like ancient runes.",
          "then I was spinning through the universe.",
          "scenes of beautiful situations of the past",
          "life death and rebirth",
          "I was riding a ray of some sort flying over a barren Icelandic desert.",
          "It was like having your eyes open throughout and yet totally enveloped in the sound",
          "I dissolved into light",
          "the overwhelming beauty of spinning on this planet.",
          "a journey into the unknown.",
          "What I imagine it's like looking back on life before you die.",
          "some physical discomfort; amazing patterns; intense colors; yearning; desire to see more; questions",
          "They were happy",
          "relaxing and patterned music",
          "Changes in intensity of the experience when I focused compared to when the light was across my whole peripheral vision.",
          "a safe healthy groovy drug-free trip.",
          "sometimes I would see clips eg like from a film interspersed every now and again",
          "random thoughts some connected to people close to me others just events and journeys",
          "And then maybe backwards.",
          "This is a truly amazing experience.Hard to describe.",
          "What surprised me this time (4th experience of high sensory) was seeing peripheral live structures - pyramidal shapes.",
          "I would prefer to use my hands to shield from the light.",
          "Incredible technicolor experience",
          "Nineties rave visuals.",
          "i wish I could do it again.",
          "A kaleidoscopic 'Be our Guest' from Beauty & The Beast experience.",
          "Peaceful contemplation and vivid Mandelbrot type kaleidoscopic patterns",
          "space even if I've never been physically there",
          "I was on a rollercoaster into the sun.",
          "like I was being dragged along a space portal or tunnel at a very high speed.",
          "A sense of traveling along a galaxy highway towards the end",
          "I had a memory from my childhood of spending lots of time staring at the windows media player audio visualizer while listening to songs I liked and how that seemed amazing at the time.",
          "The music especially was on par with how one perceives sound during an actual trip.",
          "the music is calming and surreal",
          "it sparked much curiosity.",
          "it was as if I was moving through a portal through time and space",
          "the vastness was just poetic and beautiful",
          "Peace and contentment.",
          "I wanted to stay in that space and see more of those worlds.",
          "A waterfall flowing backwards.",
          "Still a really cool experience!",
          "that was like acid",
          "absolutely tripped away.",
          "I hope that's what death feels like x",
          "it was 100% more immersive than I anticipated",
          "helpful and positive ambient sounds",
          "this is my 2nd time.",
          " At one moment when it was darker I saw a deep mass of blue-green sparks that pulsed almost like a jellyfish.",
          "I saw a large huge open space patterned with what looked like white and black tiles.",
          "amazing experience though.",
          "I FELT AS THOUGH I WAS EXPERIENCING THE FORMATION OF THE SOLAR SYSTEM AND THE EARTH...A PLACE OF WARMTH AND LIGHT ARISING OUT OF DUST AND SPINNING CHAOS SUSPENDED IN AN INFINITE VOID.",
          "an interesting one.",
          null
         ],
         "marker": {
          "color": "#CFD8DC",
          "opacity": 0.5,
          "size": 5
         },
         "mode": "markers+text",
         "name": "other",
         "showlegend": false,
         "type": "scattergl",
         "x": {
          "bdata": "HsQlQdY4F0EGgStBvW8jQUQaHEGB3RdBmqccQf4MIEGZhyVBjNUFQaEMOUFgaRxBQcwXQTFtHkE0WxNBpBBAQSG9L0HoACZBwi0+QaXNG0FuxRlBsrwxQeKqHkH7jwxBvXMkQSc+CkHSgf5A4YsEQexdHkEY6hRBOR4RQeqEFEE20QlBUGQ/Qd/vE0EsLzNBITkoQdymGkEMVRlBf9EfQSrNMEF+00FBB90wQTMC/UDCERtBaFkMQSH9F0Hlh0JB5Hg5QcumEUGBEjVBVnQeQRXnE0H86j1BjH5BQfq6DEGTDh5BjFQeQWGhHUGzFzBBZJUcQa7SIEGGASRBmJgfQQAZFEHoTzZBjjozQd0DEUFRhTxBSQo8QdUsDEHi7ydBZng0QRTFPEElcgpBUqEnQcL7QEHcEBhBGLgYQXtGM0GeSjxB2FYcQcDTGEGLgBlBbFYuQan9/UDQsjVBtYtCQeIQK0EFqw1BxqssQeFcNUEykBJB/lMxQU3uHEEbAxlBxNQaQXMsP0H9fTlBn94/Qc6bREEgSDRBYGsJQYaPF0HHSBNBh1g+QdvNN0ForAxBm+IHQW2bJUEnrixBvvEKQbhsT0EnKAtB7bkUQaibGUEnSy1BPbYWQWFAIEHolRZBj4MLQbfoIEFEJjBBj08uQUnXTkFg1BdBzrodQbulP0EWUxdBDlUrQdA8AEEYZkNBCPobQQedJkHE9UBBFosUQfZuQkG1az9BbuoKQaaBFUFZgxJBuw8SQeimDEF+eRtBVpIeQbmtF0GI3y5BPEQXQYlEJkFryDNBcoMYQbLQ+0BTw0NBPlY3QZ//OUGaeDJBiNxAQZ0jGUFkjEJB160SQQbtCkHipENBRBgYQcS8KUFLqSNB",
          "dtype": "f4"
         },
         "y": {
          "bdata": "7LEAQRY02kCDCSdBJ/3dQB/I/ECP8BdB14kRQc62+kD4hRVBf77UQCZ2J0GxVudAEPK7QKLGCEECXwNBR+AdQZOUC0ELmAhB2AkLQWM8B0GHQsdACsjLQPnZEkHSnOBAf4+6QKdv50CqGPNAeOzQQMLt6kD1h7lAO17mQCE3BEGH7ttAhH0HQRud9kDLm/JAwMULQaYlt0AbmxlBCsMaQYAFD0E4qBFBLJ8BQa+N40CAcr1AuYXqQBoQ8UB+DhxBFe4nQbudukCiuAtBcxUTQS2v1kC9JgdBLNYdQbek6kAece9AlKsJQRZ1vkC7QRFB0oW6QG2KBEHlQQJB3eAGQcknE0FPhspAIh8oQQVuzkB44sdA7xAOQYSywkCKywxB8hPMQEiODEFIBN5Asr0YQSrzBkF2LRlByLoaQczMEEGB4sZA29e7QLdTGUGILgBBBPkCQVhB80D9fihBq8sdQdaZ+0Aqc8BAeD8DQSC++ED7UL9ACToBQTIUG0GHIMBAp+O6QH9CDEF5IyhBRx0MQaHSGkFu+PtA0n/cQPnVuUBSxARBWLAMQSWwC0FbfuJAhq4UQQ/8u0BGWyNBd7nYQNaW+EDpjOBA8oG/QMG6CEEFzQJBZ8DFQAwxG0G9N+BAhvTDQMUL/0ALYwFB2uUGQX9890AFGhpBtUntQI9FDUGz1/9A1gv4QL1q70CFGRtB9K70QAMq1UDyBB5BguwQQa+7AUFZ4h1Bet4SQW/pukAiDcpAPIa7QCafwkDweQ9BNb4bQX4OGUF0PQtBehe+QGtkFkFKuChB6k2zQKb370BMTRpBxRXOQOtUxkDCTQBBufQZQUeiGkFk6wFBFFriQEuw30C3qRtBBafHQDjgB0GAOP9A",
          "dtype": "f4"
         }
        },
        {
         "hoverinfo": "text",
         "hovertext": [
          "Sense of comfort.",
          "relaxing and reflective     worries stopped / put in proportion",
          "it gives me an odd feeling of wanting to keep feeling these types of thing again",
          "A sense of expansion",
          "this was unnerving sometimes.",
          "I participated in a psychedelic trial of DMT 7 months ago and this experience took me back to that.",
          "I also felt sleepy for a bit and I was thinking of my partner who I could visualize",
          "I saw a serene beach scene with people and text as if it were subtitled in a movie set in the south of France.",
          "I've visited three times and had a different experience.",
          "Tess is very calming",
          "a direct experience of our infinite creativity.",
          "dreaming while awake- flashes of random places I have been.",
          "It was really hard to put my finger on it.",
          "I spent a lot of time thinking about the way I experience the world sensorily and whether it is 'normal' compared to other people.",
          "a calm peaceful state.",
          "This would be a great therapy to teach mindfulness and train people to still their thoughts.",
          "optimism and escapism.",
          "A bubbling of freedom.",
          "I saw the inside of my eyelids in a whole new way.",
          "a childhood memory of staring through my glittering eyelashes into the rainbow bright sun.",
          "Being: immersed; calm; and thrilled.",
          "I felt sleepy and a bit anxious at times due to the speed of the flashing lights.",
          "deep relaxation.",
          "obviously spiritual",
          "i thought throughout I was visualizing my own body specifically my head.",
          "A great sense of calm and belonging",
          "not wanting my thoughts to overtake the experience",
          "I felt very powerless and pulled along during the experience.",
          "Was starting to feel far more significant/interesting emotions when the experience stopped",
          "It felt like my brain was being massaged.",
          "main experience was visual no other senses involved",
          "I found my thoughts developing into stories and images while my eyes were closed.",
          "This is my 7th visit.",
          "nostalgia and peace.",
          "I had short dreams",
          "I felt deep connection with humankind and an overwhelming sense of peace.",
          "was an interesting experience and after I felt relaxed",
          "at times it felt like I was back in the womb.",
          "They all smiled and I could hear their distinctive voices...",
          "I feel amazed as I saw a friend from the past who was free by a field on a green hill which made me weep with joy and I saw the poverty of my forebears and loved and thanked them",
          "loved it.",
          "Peace tranquility joy stimulation arousal.",
          "scary pointy laughing clown face in test period.",
          "sometimes fleeting or felt they were walking around the room.",
          "like a deep tissue massage for the mind.",
          "I remembered some difficult experiences during but afterwards I felt euphoric",
          "when he came up again later I was able to control him and turned him into a pecking bird.",
          "an incredible sensory experience with a huge feeling of calm and peace.",
          "I was shedding different layers of myself and felt connected to all life forms.",
          "a time and a place that seem to have happened but has yet to come",
          "I was scared at first but calmed down after a while",
          "PEACEFULNESS AND GUIDANCE",
          "Once I was wearing contacts and it was more geometric.",
          "I feel really relaxed and would like to do it again.",
          "no sense of time",
          "I also felt happy and smiled at certain points which was quite weird",
          "throughout I felt calm but exalted.",
          "pleasure & intrigue",
          "I found the flashing lights a little intense but the eye mask worked well for me during those times.",
          "geometric shapes shifting and changing I got lost my body disappeared and came back.",
          "a sense of calm.",
          "I had a good experience with this and surprise how sensation can play with our mind and emotions.",
          "the 1st one was better coz I felt relaxed and I got ideas.",
          "Personally it was hard for me to find peace with the intensity of the bright light.",
          "I felt warm and cold sensations in my hands at one point and was very relaxed and sleepy by the end.",
          "the dreamachine has put me in quite a strange but amazing mood and I want to catch that while it's still there.",
          " though was moving in a sleep state at that point",
          "My feet feel a bit floaty.",
          "A swim in the deep ocean",
          "amazing sense of peace and positivity",
          "i was on a journey I was relaxed and not a bit worried as if I knew I would be safe",
          "was like taking hallucinogenic drugs when I was younger",
          "difficult to make note of what I was seeing as I've never experienced that before",
          "I am also dyslexic and it was interesting to experience as neurodivergent brained person",
          "I felt very relaxed and comfortable",
          "I tended to shift between focusing on the sound or the colors.",
          "it began violent before falling away to darkness",
          "Overall an enjoyable and relaxing experience.",
          "I didn't want it to end.",
          "Don't make me get off!",
          "the sensory is overwhelming and powerful",
          "really just thoughts from my day or things I need to do or had forgotten to do.",
          "Connection to an inner peace.",
          "it wasn't with my rhythm.",
          "j if I do I will try and meditate beforehand as I still had racing thoughts interrupting me.",
          "blissful even.",
          "My eyes wouldn't stop watering so that kept my mind occupied.",
          "afterwards I felt as if I had had the deepest  deepest sleep.",
          "i found the eye mask uncomfortable on my forehead so I took it off.",
          "Joy and relaxation",
          "I couldn't be totally immersed because I suffer from tinnitus and no matter what it's always a distraction.",
          "I felt we were journeying together.",
          "but there were occasional tumbles in the patterns that made me leap back into it",
          "It lasted about 6 seconds but if it had gone on longer I would have had to",
          "I spoke to my 8-year-old self and 80-year-old self.",
          "I thought a lot about Rand's journey into Rhuidean and experiencing the",
          "similar stuff to what I normally experience",
          "And then my mind checked out and my subconscious took over and started talking.",
          "I think when it became overwhelming my brain would cut to normal thoughts eg like what I need to buy from the shop for dinner.",
          "healing a part of myself I didn't realize had decayed entirely",
          "sometimes it felt overwhelming.",
          "people talking made me see people walking towards me and it was really",
          "I profound sense of relaxation I have never experienced.",
          "I at times felt a concern that the experience would end too soon",
          "Good vibes",
          "A euphoric and healing experience.",
          "I did not have profound thoughts during the experience but rather almost fell asleep in a dreamlike way",
          "it was difficult to hold both equally present",
          "I went back to many hard and mostly beautiful memories without prompting them at all.",
          "it felt like coming home",
          "I felt hopeful.",
          "this time someone kept coughing and disrupted my thought process.",
          "I felt an overwhelming sense of euphoria and love for everyone in the room.",
          "I left feeling profoundly moved and very tearful.",
          "it was a bit too cold for me in the dreamachine especially as we were not moving.",
          "felt similar to being in an MRI machine.",
          "a peaceful experience",
          "Thank you for creating it.",
          "Felt like the llama intro credit scene of monty python holy grail at some points.",
          "An intensity of connection vastness spaciousness loving awareness",
          "I felt at one point that I saw someone leave the room (like a dream) also we all lifted up and spiraled like a waltzer.",
          "it is very sensitizing and the feeling now is one of afterglow.",
          "it reminded me of being a child",
          "I was hurtling through space and time at a speed I couldn't determine.",
          "having had many psychedelic",
          "and this made me think about synesthetic experiences and how they're very precious and worth seeking out and appreciating.",
          "a zen experience",
          "I was aware when I started to follow my train of thought I was maybe going deeper into myself and I didn't see as much of the imagery as when I did when I was concentrating on the colors and the shapes.",
          "I worried it might give me a headache but it didn't.",
          "fascinating experience with great therapeutic potential",
          "I also felt like I wanted the experience to be more intense - much louder",
          "sensory rollercoaster",
          "frustration that I couldn't stop thinking about the outside and concentrate on what was happening.",
          "Calm and serene and not frightening.",
          "To be quite honest I think I fell asleep so don't really remember what I saw.",
          "also the same with unsuccessfully trying to fall asleep during an insomnia period",
          "it is a unique experience I won't forget",
          "my thoughts of this is I felt safe and fun.",
          "I felt so much energy pulsating through my body",
          "A feeling of peace and tranquility",
          "I felt like a flower slowly unfurling in the sunlight",
          "Dreaming Dreamingly",
          "Thought about how I was feeling and that there were people around me and how it made me feel vulnerable."
         ],
         "marker": {
          "opacity": 0.5,
          "size": 5
         },
         "mode": "markers+text",
         "name": "0_felt_experience_sense",
         "text": [
          "",
          "",
          "",
          "",
          "",
          "",
          "",
          "",
          "",
          "",
          "",
          "",
          "",
          "",
          "",
          "",
          "",
          "",
          "",
          "",
          "",
          "",
          "",
          "",
          "",
          "",
          "",
          "",
          "",
          "",
          "",
          "",
          "",
          "",
          "",
          "",
          "",
          "",
          "",
          "",
          "",
          "",
          "",
          "",
          "",
          "",
          "",
          "",
          "",
          "",
          "",
          "",
          "",
          "",
          "",
          "",
          "",
          "",
          "",
          "",
          "",
          "",
          "",
          "",
          "",
          "",
          "",
          "",
          "",
          "",
          "",
          "",
          "",
          "",
          "",
          "",
          "",
          "",
          "",
          "",
          "",
          "",
          "",
          "",
          "",
          "",
          "",
          "",
          "",
          "",
          "",
          "",
          "",
          "",
          "",
          "",
          "",
          "",
          "",
          "",
          "",
          "",
          "",
          "",
          "",
          "",
          "",
          "",
          "",
          "",
          "",
          "",
          "",
          "",
          "",
          "",
          "",
          "",
          "",
          "",
          "",
          "",
          "",
          "",
          "",
          "",
          "",
          "",
          "",
          "",
          "",
          "",
          "",
          "",
          "",
          "",
          "",
          "",
          "",
          "",
          "",
          "",
          ""
         ],
         "textfont": {
          "size": 12
         },
         "type": "scattergl",
         "x": {
          "bdata": "D0cuQdVuLUHI3zpBFPIvQePqMEHDhz5BHO8zQWkaNEHdZT5BucksQdQ3PUFu2C5Bc9kuQcO8LUHH7S9BJyAyQcxwLUGtqS5B/xYiQbQ4HEFaBi9B1XIrQT0yMEFssS9BQJUnQei+L0F3YDlBSCBBQS0ZPkEdxj5BrjAfQcceJ0GqdEBBqVEyQY8MMUFMKUpB+1pEQdoBQUGZqU1BXoFKQRA8O0HEbStBsF4qQTbJNEFPUDBB36A5QZ+mRUEq6DVBckpHQTveJ0GzCkJBpwgwQbpUIEFfQ0VBPw8kQS3mSUFMukZBoXMwQc4pI0HOSx9BRdotQcwaR0Gg+UdBWFgqQX5tRkG9+jlBbusvQTALMUHYai9BUtAzQWSUSEG4xTpBL18oQQCbOEHB5EdBdrIgQUm1LEE0+DtBk8o7QZQFO0GfniVBMFIxQa4ZMUGfHSdB/dU5QTURM0GwnCpBj1ZAQSC/IkG6zTFBCPcrQa5XSEEtwB9BZ2Q0QVbmLkGSvCtBZMk2QXvALkE/DDVBWtA8QbsxNEGoJ0pBlxFGQfSFOUGH+DNBrE82QaO5MkEemS5B2GM/QbmORkG2GEpBPnY7QXMoSEELskhBmsIzQTIoPEGVlDVBF949Qa+PIEHGIilB1xdDQbV3LEHB0x9BzWYdQbNAOUFvMUhBRZg4QYCQIUHjwzlBoUo4QdJ7QUGZ+ilBHJA5QZdlLUFnGzBBj+0wQbeVRUHQi0lBrlBCQX5XM0HvHR9BD3EvQUNLRkE=",
          "dtype": "f4"
         },
         "y": {
          "bdata": "h58mQVYCIkFE3vdA/dcmQWIl10AwlftA/03iQHqjFUFGO/1AKaIjQXY3HEGhQOlAH53MQL8zxEDQACVBbKEXQdlCIEGUtiNByZXeQKp/0ECfVyBB7QHaQJnbHkFKXSlBFfXfQBZ8JUELYdxAMhneQJH58UD4+eNAbPbyQLNE50B/1/5AmakpQakf5kCKOOdA7r8AQaq13EBqZ+9AGeDlQJ6kJ0F+UCBBli7pQF7J7UB4BRdBiproQMbK8UCy1hxBixXhQFRg9UAM+O1At6wlQRZk10DdIwJBH23PQF659EBYqO9AMIcbQVjJ3kDmLdFAv5QkQTCiBUFCtf1AzSPTQJNT8UA4hvhA97XeQIJi/UDC5h1BtZ0nQeBi/0BgkgBBts3rQKjj7EB2e/9Ab/7lQLO220C3mBlBJv7hQHOp1UBcRxdB/ODsQGLhJUF0fs1ARD7eQCKQJUGzNOJA9dXhQLdL3EAzQB5BVx/VQEpF40AXeNZAMHbOQAn62UA2tr9ArXn4QC6W30DHz9RA+hLsQIh90kAU4t9AtRcAQWv42UAb9CdBn5YbQcqM4EDje9BAosPxQG464UDTFfVAXrngQGzY5EBO+ORAOuzkQEhJ60BjKx5BQu8jQU9pwkBXuhlBdhXcQGA+8UCes8hAsOnGQOXKAUHyuQdBsxAbQctS5ECS2NhA/s0aQSz130CcsBNBVgneQAVYI0HbeeBABnfeQJU2CkEswvpAB1XjQGd9IkFRoNBAPRPsQP0a3kA=",
          "dtype": "f4"
         }
        },
        {
         "hoverinfo": "text",
         "hovertext": [
          "lights and colors.",
          "Bright blue skies.",
          "a kaleidoscope of light and patterns",
          "Quite a few meshes orders of dark colors emerging from blackness but at one point",
          "images I've seen before.",
          "no green I did not see any green at all from start to finish",
          "Another thing which found strange was seeing clearly a pentagram in the center of spiral - normal one as well as reversed and then rotating.",
          "Devtest Trevor onsite 2",
          "Hope as a color",
          "colorful patterns",
          "Lots of pulsating spiraling images that did not take specific forms.",
          "A mass of moving shapes and the",
          "flowers blooming",
          "thousands of fluttering butterfly wings.",
          "strobe lighting  very orange and yellow dominant colors",
          "A summer meadow.",
          "phosphorescence on water.",
          "moving through a tunnel of branches",
          "shapes and travel through time",
          "I saw lots of warm colors and black and crosses-no green",
          "A sun covered in creamy milk",
          "like the old kaleidoscopes we had as kids",
          "A Flock of birds.",
          "like I was particles or a star emitting light into space",
          "two wolf shapes facing each other.",
          "A wheat field",
          "there were points that the intense chaos broke into a clear defined counterclockwise spiraling tunnel with two small semi-circles at the",
          "Saw x3 distinct images:",
          "incredible colors and patterns.",
          "The Earth falling into the Sun at least once.",
          "geometric kaleidoscope shapes overlaid with moving cosmos/night sky slow exposure in different pulling directions",
          "Flashing backgrounds undulating into the foreground quickly becoming a new perspective",
          "Bookmark Symbol",
          "And really slow...... and so many fractals and colors!",
          "VCA fuzz and patterns",
          "red all red",
          "a pattern of red and white lights that flashed and became more intense when the lights flashed intensely.",
          "interlocking diamond and triangles faintly distinct.",
          "sequential rich kaleidoscopic patterning with a sense of depth structures felt elite and natural rather than architectural or fantastical or transcendental.",
          "lots of colors",
          "or like a trippy Mickey Mouse in a 1940s Disney animation... as seen through a kaleidoscope",
          "psychedelic colors",
          "trying to remember the patterns",
          "Colors and lines and spheres and twirls",
          "A girl in summer",
          "devtest Trev on site",
          "a variety of lights and colors moving inward and outwards",
          "changing colors.",
          "swirling patterns.",
          "flying through colorful vortex",
          "wispy and milky in appearance.",
          "how I would like to next make some felt artwork",
          "colors shapes stars ac in echo",
          "The last time I saw a lot of white geometric forms mixed with smoke.",
          "intense fast movement of sound shapes color and light",
          "the light appears to grow and shrink.",
          "it was possible to generate full images on demand - elephant made of upwards flowing oil rivulets",
          "A lot of diamond ripples.",
          "huge 3D landscapes.",
          "Spirals and pulsing",
          "kaleidoscope of colors"
         ],
         "marker": {
          "opacity": 0.5,
          "size": 5
         },
         "mode": "markers+text",
         "name": "1_colors_patterns_shapes",
         "text": [
          "",
          "",
          "",
          "",
          "",
          "",
          "",
          "",
          "",
          "",
          "",
          "",
          "",
          "",
          "",
          "",
          "",
          "",
          "",
          "",
          "",
          "",
          "",
          "",
          "",
          "",
          "",
          "",
          "",
          "",
          "",
          "",
          "",
          "",
          "",
          "",
          "",
          "",
          "",
          "",
          "",
          "",
          "",
          "",
          "",
          "",
          "",
          "",
          "",
          "",
          "",
          "",
          "",
          "",
          "",
          "",
          "",
          "",
          "",
          "",
          ""
         ],
         "textfont": {
          "size": 12
         },
         "type": "scattergl",
         "x": {
          "bdata": "t1X2QHLB8UCCTQNB7pIFQRfUDUFVdgtBm8oFQbji/UAIqvdApQMAQUMSCkGmLQFBpgPwQDSB+UDMmfZALBfuQPM18kDTzPxAmsAGQR9RCkHCovFAXdMKQfLD7UATVg5Bguz6QO518EACpAdBZJQGQdMnAUHaHQVB/A8GQSUpCkE6dQFBTv8FQVg8AkEE4PNAA1ALQbvtAUEgnAJBJJf2QMFKC0G6gQFBO8YCQcyH/UC1M/BAcqr/QDIA/UBKTvVA4PT8QMvQ/EA98flAjgIJQb8dAUGcwwxBRsADQZ+O90D4IwxB+5ECQWJXB0HSGgJBkp4BQQ==",
          "dtype": "f4"
         },
         "y": {
          "bdata": "hSAHQW/0AEEv6ghBdmD/QC8x/kDUN+xAambwQJwtFEErLwtBrvoLQZDT+0A8zQFB6VcCQeH960Bk1QZB1YAAQazSAUFn9exAxeUEQWSY60CdbQFBOFoOQYxi/kD8qNVACRYDQSOMAEGGCOtAaE0GQSLyC0GuFdNAwXIIQaX8BEHFOA9BE/j/QG2LDUGKPAlB6034QHWuBkFWPwpBByQJQYFQDkHfrQ5BYV0PQTW1CUGXRAJBnFgUQUOqBEFk6wlBcgcBQbSS6EDHlANB5HEUQYuiB0FJcPVA06oHQT6rAkEzdAJBRhkEQbxyB0GLfv1A57MLQQ==",
          "dtype": "f4"
         }
        }
       ],
       "layout": {
        "annotations": [
         {
          "showarrow": false,
          "text": "D1",
          "x": 6.315643787384033,
          "y": 8.478631973266602,
          "yshift": 10
         },
         {
          "showarrow": false,
          "text": "D2",
          "x": 10.612146377563477,
          "xshift": 10,
          "y": 12.194491386413574
         }
        ],
        "height": 750,
        "shapes": [
         {
          "line": {
           "color": "#CFD8DC",
           "width": 2
          },
          "type": "line",
          "x0": 10.612146377563477,
          "x1": 10.612146377563477,
          "y0": 4.7627716064453125,
          "y1": 12.194491386413574
         },
         {
          "line": {
           "color": "#9E9E9E",
           "width": 2
          },
          "type": "line",
          "x0": 6.315643787384033,
          "x1": 14.908649444580078,
          "y0": 8.478631973266602,
          "y1": 8.478631973266602
         }
        ],
        "template": {
         "data": {
          "bar": [
           {
            "error_x": {
             "color": "rgb(36,36,36)"
            },
            "error_y": {
             "color": "rgb(36,36,36)"
            },
            "marker": {
             "line": {
              "color": "white",
              "width": 0.5
             },
             "pattern": {
              "fillmode": "overlay",
              "size": 10,
              "solidity": 0.2
             }
            },
            "type": "bar"
           }
          ],
          "barpolar": [
           {
            "marker": {
             "line": {
              "color": "white",
              "width": 0.5
             },
             "pattern": {
              "fillmode": "overlay",
              "size": 10,
              "solidity": 0.2
             }
            },
            "type": "barpolar"
           }
          ],
          "carpet": [
           {
            "aaxis": {
             "endlinecolor": "rgb(36,36,36)",
             "gridcolor": "white",
             "linecolor": "white",
             "minorgridcolor": "white",
             "startlinecolor": "rgb(36,36,36)"
            },
            "baxis": {
             "endlinecolor": "rgb(36,36,36)",
             "gridcolor": "white",
             "linecolor": "white",
             "minorgridcolor": "white",
             "startlinecolor": "rgb(36,36,36)"
            },
            "type": "carpet"
           }
          ],
          "choropleth": [
           {
            "colorbar": {
             "outlinewidth": 1,
             "tickcolor": "rgb(36,36,36)",
             "ticks": "outside"
            },
            "type": "choropleth"
           }
          ],
          "contour": [
           {
            "colorbar": {
             "outlinewidth": 1,
             "tickcolor": "rgb(36,36,36)",
             "ticks": "outside"
            },
            "colorscale": [
             [
              0,
              "#440154"
             ],
             [
              0.1111111111111111,
              "#482878"
             ],
             [
              0.2222222222222222,
              "#3e4989"
             ],
             [
              0.3333333333333333,
              "#31688e"
             ],
             [
              0.4444444444444444,
              "#26828e"
             ],
             [
              0.5555555555555556,
              "#1f9e89"
             ],
             [
              0.6666666666666666,
              "#35b779"
             ],
             [
              0.7777777777777778,
              "#6ece58"
             ],
             [
              0.8888888888888888,
              "#b5de2b"
             ],
             [
              1,
              "#fde725"
             ]
            ],
            "type": "contour"
           }
          ],
          "contourcarpet": [
           {
            "colorbar": {
             "outlinewidth": 1,
             "tickcolor": "rgb(36,36,36)",
             "ticks": "outside"
            },
            "type": "contourcarpet"
           }
          ],
          "heatmap": [
           {
            "colorbar": {
             "outlinewidth": 1,
             "tickcolor": "rgb(36,36,36)",
             "ticks": "outside"
            },
            "colorscale": [
             [
              0,
              "#440154"
             ],
             [
              0.1111111111111111,
              "#482878"
             ],
             [
              0.2222222222222222,
              "#3e4989"
             ],
             [
              0.3333333333333333,
              "#31688e"
             ],
             [
              0.4444444444444444,
              "#26828e"
             ],
             [
              0.5555555555555556,
              "#1f9e89"
             ],
             [
              0.6666666666666666,
              "#35b779"
             ],
             [
              0.7777777777777778,
              "#6ece58"
             ],
             [
              0.8888888888888888,
              "#b5de2b"
             ],
             [
              1,
              "#fde725"
             ]
            ],
            "type": "heatmap"
           }
          ],
          "histogram": [
           {
            "marker": {
             "line": {
              "color": "white",
              "width": 0.6
             }
            },
            "type": "histogram"
           }
          ],
          "histogram2d": [
           {
            "colorbar": {
             "outlinewidth": 1,
             "tickcolor": "rgb(36,36,36)",
             "ticks": "outside"
            },
            "colorscale": [
             [
              0,
              "#440154"
             ],
             [
              0.1111111111111111,
              "#482878"
             ],
             [
              0.2222222222222222,
              "#3e4989"
             ],
             [
              0.3333333333333333,
              "#31688e"
             ],
             [
              0.4444444444444444,
              "#26828e"
             ],
             [
              0.5555555555555556,
              "#1f9e89"
             ],
             [
              0.6666666666666666,
              "#35b779"
             ],
             [
              0.7777777777777778,
              "#6ece58"
             ],
             [
              0.8888888888888888,
              "#b5de2b"
             ],
             [
              1,
              "#fde725"
             ]
            ],
            "type": "histogram2d"
           }
          ],
          "histogram2dcontour": [
           {
            "colorbar": {
             "outlinewidth": 1,
             "tickcolor": "rgb(36,36,36)",
             "ticks": "outside"
            },
            "colorscale": [
             [
              0,
              "#440154"
             ],
             [
              0.1111111111111111,
              "#482878"
             ],
             [
              0.2222222222222222,
              "#3e4989"
             ],
             [
              0.3333333333333333,
              "#31688e"
             ],
             [
              0.4444444444444444,
              "#26828e"
             ],
             [
              0.5555555555555556,
              "#1f9e89"
             ],
             [
              0.6666666666666666,
              "#35b779"
             ],
             [
              0.7777777777777778,
              "#6ece58"
             ],
             [
              0.8888888888888888,
              "#b5de2b"
             ],
             [
              1,
              "#fde725"
             ]
            ],
            "type": "histogram2dcontour"
           }
          ],
          "mesh3d": [
           {
            "colorbar": {
             "outlinewidth": 1,
             "tickcolor": "rgb(36,36,36)",
             "ticks": "outside"
            },
            "type": "mesh3d"
           }
          ],
          "parcoords": [
           {
            "line": {
             "colorbar": {
              "outlinewidth": 1,
              "tickcolor": "rgb(36,36,36)",
              "ticks": "outside"
             }
            },
            "type": "parcoords"
           }
          ],
          "pie": [
           {
            "automargin": true,
            "type": "pie"
           }
          ],
          "scatter": [
           {
            "fillpattern": {
             "fillmode": "overlay",
             "size": 10,
             "solidity": 0.2
            },
            "type": "scatter"
           }
          ],
          "scatter3d": [
           {
            "line": {
             "colorbar": {
              "outlinewidth": 1,
              "tickcolor": "rgb(36,36,36)",
              "ticks": "outside"
             }
            },
            "marker": {
             "colorbar": {
              "outlinewidth": 1,
              "tickcolor": "rgb(36,36,36)",
              "ticks": "outside"
             }
            },
            "type": "scatter3d"
           }
          ],
          "scattercarpet": [
           {
            "marker": {
             "colorbar": {
              "outlinewidth": 1,
              "tickcolor": "rgb(36,36,36)",
              "ticks": "outside"
             }
            },
            "type": "scattercarpet"
           }
          ],
          "scattergeo": [
           {
            "marker": {
             "colorbar": {
              "outlinewidth": 1,
              "tickcolor": "rgb(36,36,36)",
              "ticks": "outside"
             }
            },
            "type": "scattergeo"
           }
          ],
          "scattergl": [
           {
            "marker": {
             "colorbar": {
              "outlinewidth": 1,
              "tickcolor": "rgb(36,36,36)",
              "ticks": "outside"
             }
            },
            "type": "scattergl"
           }
          ],
          "scattermap": [
           {
            "marker": {
             "colorbar": {
              "outlinewidth": 1,
              "tickcolor": "rgb(36,36,36)",
              "ticks": "outside"
             }
            },
            "type": "scattermap"
           }
          ],
          "scattermapbox": [
           {
            "marker": {
             "colorbar": {
              "outlinewidth": 1,
              "tickcolor": "rgb(36,36,36)",
              "ticks": "outside"
             }
            },
            "type": "scattermapbox"
           }
          ],
          "scatterpolar": [
           {
            "marker": {
             "colorbar": {
              "outlinewidth": 1,
              "tickcolor": "rgb(36,36,36)",
              "ticks": "outside"
             }
            },
            "type": "scatterpolar"
           }
          ],
          "scatterpolargl": [
           {
            "marker": {
             "colorbar": {
              "outlinewidth": 1,
              "tickcolor": "rgb(36,36,36)",
              "ticks": "outside"
             }
            },
            "type": "scatterpolargl"
           }
          ],
          "scatterternary": [
           {
            "marker": {
             "colorbar": {
              "outlinewidth": 1,
              "tickcolor": "rgb(36,36,36)",
              "ticks": "outside"
             }
            },
            "type": "scatterternary"
           }
          ],
          "surface": [
           {
            "colorbar": {
             "outlinewidth": 1,
             "tickcolor": "rgb(36,36,36)",
             "ticks": "outside"
            },
            "colorscale": [
             [
              0,
              "#440154"
             ],
             [
              0.1111111111111111,
              "#482878"
             ],
             [
              0.2222222222222222,
              "#3e4989"
             ],
             [
              0.3333333333333333,
              "#31688e"
             ],
             [
              0.4444444444444444,
              "#26828e"
             ],
             [
              0.5555555555555556,
              "#1f9e89"
             ],
             [
              0.6666666666666666,
              "#35b779"
             ],
             [
              0.7777777777777778,
              "#6ece58"
             ],
             [
              0.8888888888888888,
              "#b5de2b"
             ],
             [
              1,
              "#fde725"
             ]
            ],
            "type": "surface"
           }
          ],
          "table": [
           {
            "cells": {
             "fill": {
              "color": "rgb(237,237,237)"
             },
             "line": {
              "color": "white"
             }
            },
            "header": {
             "fill": {
              "color": "rgb(217,217,217)"
             },
             "line": {
              "color": "white"
             }
            },
            "type": "table"
           }
          ]
         },
         "layout": {
          "annotationdefaults": {
           "arrowhead": 0,
           "arrowwidth": 1
          },
          "autotypenumbers": "strict",
          "coloraxis": {
           "colorbar": {
            "outlinewidth": 1,
            "tickcolor": "rgb(36,36,36)",
            "ticks": "outside"
           }
          },
          "colorscale": {
           "diverging": [
            [
             0,
             "rgb(103,0,31)"
            ],
            [
             0.1,
             "rgb(178,24,43)"
            ],
            [
             0.2,
             "rgb(214,96,77)"
            ],
            [
             0.3,
             "rgb(244,165,130)"
            ],
            [
             0.4,
             "rgb(253,219,199)"
            ],
            [
             0.5,
             "rgb(247,247,247)"
            ],
            [
             0.6,
             "rgb(209,229,240)"
            ],
            [
             0.7,
             "rgb(146,197,222)"
            ],
            [
             0.8,
             "rgb(67,147,195)"
            ],
            [
             0.9,
             "rgb(33,102,172)"
            ],
            [
             1,
             "rgb(5,48,97)"
            ]
           ],
           "sequential": [
            [
             0,
             "#440154"
            ],
            [
             0.1111111111111111,
             "#482878"
            ],
            [
             0.2222222222222222,
             "#3e4989"
            ],
            [
             0.3333333333333333,
             "#31688e"
            ],
            [
             0.4444444444444444,
             "#26828e"
            ],
            [
             0.5555555555555556,
             "#1f9e89"
            ],
            [
             0.6666666666666666,
             "#35b779"
            ],
            [
             0.7777777777777778,
             "#6ece58"
            ],
            [
             0.8888888888888888,
             "#b5de2b"
            ],
            [
             1,
             "#fde725"
            ]
           ],
           "sequentialminus": [
            [
             0,
             "#440154"
            ],
            [
             0.1111111111111111,
             "#482878"
            ],
            [
             0.2222222222222222,
             "#3e4989"
            ],
            [
             0.3333333333333333,
             "#31688e"
            ],
            [
             0.4444444444444444,
             "#26828e"
            ],
            [
             0.5555555555555556,
             "#1f9e89"
            ],
            [
             0.6666666666666666,
             "#35b779"
            ],
            [
             0.7777777777777778,
             "#6ece58"
            ],
            [
             0.8888888888888888,
             "#b5de2b"
            ],
            [
             1,
             "#fde725"
            ]
           ]
          },
          "colorway": [
           "#1F77B4",
           "#FF7F0E",
           "#2CA02C",
           "#D62728",
           "#9467BD",
           "#8C564B",
           "#E377C2",
           "#7F7F7F",
           "#BCBD22",
           "#17BECF"
          ],
          "font": {
           "color": "rgb(36,36,36)"
          },
          "geo": {
           "bgcolor": "white",
           "lakecolor": "white",
           "landcolor": "white",
           "showlakes": true,
           "showland": true,
           "subunitcolor": "white"
          },
          "hoverlabel": {
           "align": "left"
          },
          "hovermode": "closest",
          "mapbox": {
           "style": "light"
          },
          "paper_bgcolor": "white",
          "plot_bgcolor": "white",
          "polar": {
           "angularaxis": {
            "gridcolor": "rgb(232,232,232)",
            "linecolor": "rgb(36,36,36)",
            "showgrid": false,
            "showline": true,
            "ticks": "outside"
           },
           "bgcolor": "white",
           "radialaxis": {
            "gridcolor": "rgb(232,232,232)",
            "linecolor": "rgb(36,36,36)",
            "showgrid": false,
            "showline": true,
            "ticks": "outside"
           }
          },
          "scene": {
           "xaxis": {
            "backgroundcolor": "white",
            "gridcolor": "rgb(232,232,232)",
            "gridwidth": 2,
            "linecolor": "rgb(36,36,36)",
            "showbackground": true,
            "showgrid": false,
            "showline": true,
            "ticks": "outside",
            "zeroline": false,
            "zerolinecolor": "rgb(36,36,36)"
           },
           "yaxis": {
            "backgroundcolor": "white",
            "gridcolor": "rgb(232,232,232)",
            "gridwidth": 2,
            "linecolor": "rgb(36,36,36)",
            "showbackground": true,
            "showgrid": false,
            "showline": true,
            "ticks": "outside",
            "zeroline": false,
            "zerolinecolor": "rgb(36,36,36)"
           },
           "zaxis": {
            "backgroundcolor": "white",
            "gridcolor": "rgb(232,232,232)",
            "gridwidth": 2,
            "linecolor": "rgb(36,36,36)",
            "showbackground": true,
            "showgrid": false,
            "showline": true,
            "ticks": "outside",
            "zeroline": false,
            "zerolinecolor": "rgb(36,36,36)"
           }
          },
          "shapedefaults": {
           "fillcolor": "black",
           "line": {
            "width": 0
           },
           "opacity": 0.3
          },
          "ternary": {
           "aaxis": {
            "gridcolor": "rgb(232,232,232)",
            "linecolor": "rgb(36,36,36)",
            "showgrid": false,
            "showline": true,
            "ticks": "outside"
           },
           "baxis": {
            "gridcolor": "rgb(232,232,232)",
            "linecolor": "rgb(36,36,36)",
            "showgrid": false,
            "showline": true,
            "ticks": "outside"
           },
           "bgcolor": "white",
           "caxis": {
            "gridcolor": "rgb(232,232,232)",
            "linecolor": "rgb(36,36,36)",
            "showgrid": false,
            "showline": true,
            "ticks": "outside"
           }
          },
          "title": {
           "x": 0.05
          },
          "xaxis": {
           "automargin": true,
           "gridcolor": "rgb(232,232,232)",
           "linecolor": "rgb(36,36,36)",
           "showgrid": false,
           "showline": true,
           "ticks": "outside",
           "title": {
            "standoff": 15
           },
           "zeroline": false,
           "zerolinecolor": "rgb(36,36,36)"
          },
          "yaxis": {
           "automargin": true,
           "gridcolor": "rgb(232,232,232)",
           "linecolor": "rgb(36,36,36)",
           "showgrid": false,
           "showline": true,
           "ticks": "outside",
           "title": {
            "standoff": 15
           },
           "zeroline": false,
           "zerolinecolor": "rgb(36,36,36)"
          }
         }
        },
        "title": {
         "font": {
          "color": "Black",
          "size": 22
         },
         "text": "<b>Documents and Topics</b>",
         "x": 0.5,
         "xanchor": "center",
         "yanchor": "top"
        },
        "width": 1200,
        "xaxis": {
         "visible": false
        },
        "yaxis": {
         "visible": false
        }
       }
      }
     },
     "metadata": {},
     "output_type": "display_data"
    }
   ],
   "source": [
    "topic_model.visualize_documents(docs, \n",
    "                                reduced_embeddings=reduced_embeddings,\n",
    "                                hide_annotations=True, \n",
    "                                hide_document_hover=False, \n",
    "                                custom_labels=True)"
   ]
  },
  {
   "cell_type": "code",
   "execution_count": 30,
   "id": "9c85739c",
   "metadata": {},
   "outputs": [
    {
     "data": {
      "text/plain": [
       "(<Figure size 1000x1000 with 1 Axes>,\n",
       " <Axes: title={'left': 'Topics labeled with `llama-3-8b-instruct`'}>)"
      ]
     },
     "execution_count": 30,
     "metadata": {},
     "output_type": "execute_result"
    },
    {
     "data": {
      "image/png": "[encoded data removed]",
      "text/plain": [
       "<Figure size 1000x1000 with 1 Axes>"
      ]
     },
     "metadata": {},
     "output_type": "display_data"
    }
   ],
   "source": [
    "# Create a label for each document\n",
    "llm_labels = [re.sub(r'\\W+', ' ', label[0][0].split(\"\\n\")[0].replace('\"', '')) for label in topic_model.get_topics(full=True)[\"LLM\"].values()]\n",
    "llm_labels = [label if label else \"Unlabelled\" for label in llm_labels]\n",
    "all_labels = [llm_labels[topic+topic_model._outliers] if topic != -1 else \"Unlabelled\" for topic in topics]\n",
    "\n",
    "\n",
    "# Run the visualization\n",
    "datamapplot.create_plot(\n",
    "   reduced_embeddings,\n",
    "   all_labels,\n",
    "   label_font_size=11,\n",
    "   title=\"MPE dimensions of experience\",\n",
    "   sub_title=\"Topics labeled with `llama-3-8b-instruct`\",\n",
    "   label_wrap_width=20\n",
    ")"
   ]
  },
  {
   "cell_type": "code",
   "execution_count": 34,
   "id": "e7e678bb",
   "metadata": {},
   "outputs": [
    {
     "data": {
      "application/vnd.plotly.v1+json": {
       "config": {
        "plotlyServerURL": "https://plot.ly"
       },
       "data": [
        {
         "hoverinfo": "text",
         "marker": {
          "color": "rgb(0,116,217)"
         },
         "mode": "lines",
         "type": "scatter",
         "x": {
          "bdata": "AAAAAAAAAACyQWrCf6PtP7JBasJ/o+0/AAAAAAAAAAA=",
          "dtype": "f8"
         },
         "xaxis": "x",
         "y": {
          "bdata": "AAAAAAAAFMAAAAAAAAAUwAAAAAAAAC7AAAAAAAAALsA=",
          "dtype": "f8"
         },
         "yaxis": "y"
        }
       ],
       "layout": {
        "autosize": false,
        "height": 230,
        "hoverlabel": {
         "bgcolor": "white",
         "font": {
          "family": "Rockwell",
          "size": 16
         }
        },
        "hovermode": "closest",
        "plot_bgcolor": "#ECEFF1",
        "showlegend": false,
        "template": {
         "data": {
          "bar": [
           {
            "error_x": {
             "color": "#2a3f5f"
            },
            "error_y": {
             "color": "#2a3f5f"
            },
            "marker": {
             "line": {
              "color": "white",
              "width": 0.5
             },
             "pattern": {
              "fillmode": "overlay",
              "size": 10,
              "solidity": 0.2
             }
            },
            "type": "bar"
           }
          ],
          "barpolar": [
           {
            "marker": {
             "line": {
              "color": "white",
              "width": 0.5
             },
             "pattern": {
              "fillmode": "overlay",
              "size": 10,
              "solidity": 0.2
             }
            },
            "type": "barpolar"
           }
          ],
          "carpet": [
           {
            "aaxis": {
             "endlinecolor": "#2a3f5f",
             "gridcolor": "#C8D4E3",
             "linecolor": "#C8D4E3",
             "minorgridcolor": "#C8D4E3",
             "startlinecolor": "#2a3f5f"
            },
            "baxis": {
             "endlinecolor": "#2a3f5f",
             "gridcolor": "#C8D4E3",
             "linecolor": "#C8D4E3",
             "minorgridcolor": "#C8D4E3",
             "startlinecolor": "#2a3f5f"
            },
            "type": "carpet"
           }
          ],
          "choropleth": [
           {
            "colorbar": {
             "outlinewidth": 0,
             "ticks": ""
            },
            "type": "choropleth"
           }
          ],
          "contour": [
           {
            "colorbar": {
             "outlinewidth": 0,
             "ticks": ""
            },
            "colorscale": [
             [
              0,
              "#0d0887"
             ],
             [
              0.1111111111111111,
              "#46039f"
             ],
             [
              0.2222222222222222,
              "#7201a8"
             ],
             [
              0.3333333333333333,
              "#9c179e"
             ],
             [
              0.4444444444444444,
              "#bd3786"
             ],
             [
              0.5555555555555556,
              "#d8576b"
             ],
             [
              0.6666666666666666,
              "#ed7953"
             ],
             [
              0.7777777777777778,
              "#fb9f3a"
             ],
             [
              0.8888888888888888,
              "#fdca26"
             ],
             [
              1,
              "#f0f921"
             ]
            ],
            "type": "contour"
           }
          ],
          "contourcarpet": [
           {
            "colorbar": {
             "outlinewidth": 0,
             "ticks": ""
            },
            "type": "contourcarpet"
           }
          ],
          "heatmap": [
           {
            "colorbar": {
             "outlinewidth": 0,
             "ticks": ""
            },
            "colorscale": [
             [
              0,
              "#0d0887"
             ],
             [
              0.1111111111111111,
              "#46039f"
             ],
             [
              0.2222222222222222,
              "#7201a8"
             ],
             [
              0.3333333333333333,
              "#9c179e"
             ],
             [
              0.4444444444444444,
              "#bd3786"
             ],
             [
              0.5555555555555556,
              "#d8576b"
             ],
             [
              0.6666666666666666,
              "#ed7953"
             ],
             [
              0.7777777777777778,
              "#fb9f3a"
             ],
             [
              0.8888888888888888,
              "#fdca26"
             ],
             [
              1,
              "#f0f921"
             ]
            ],
            "type": "heatmap"
           }
          ],
          "histogram": [
           {
            "marker": {
             "pattern": {
              "fillmode": "overlay",
              "size": 10,
              "solidity": 0.2
             }
            },
            "type": "histogram"
           }
          ],
          "histogram2d": [
           {
            "colorbar": {
             "outlinewidth": 0,
             "ticks": ""
            },
            "colorscale": [
             [
              0,
              "#0d0887"
             ],
             [
              0.1111111111111111,
              "#46039f"
             ],
             [
              0.2222222222222222,
              "#7201a8"
             ],
             [
              0.3333333333333333,
              "#9c179e"
             ],
             [
              0.4444444444444444,
              "#bd3786"
             ],
             [
              0.5555555555555556,
              "#d8576b"
             ],
             [
              0.6666666666666666,
              "#ed7953"
             ],
             [
              0.7777777777777778,
              "#fb9f3a"
             ],
             [
              0.8888888888888888,
              "#fdca26"
             ],
             [
              1,
              "#f0f921"
             ]
            ],
            "type": "histogram2d"
           }
          ],
          "histogram2dcontour": [
           {
            "colorbar": {
             "outlinewidth": 0,
             "ticks": ""
            },
            "colorscale": [
             [
              0,
              "#0d0887"
             ],
             [
              0.1111111111111111,
              "#46039f"
             ],
             [
              0.2222222222222222,
              "#7201a8"
             ],
             [
              0.3333333333333333,
              "#9c179e"
             ],
             [
              0.4444444444444444,
              "#bd3786"
             ],
             [
              0.5555555555555556,
              "#d8576b"
             ],
             [
              0.6666666666666666,
              "#ed7953"
             ],
             [
              0.7777777777777778,
              "#fb9f3a"
             ],
             [
              0.8888888888888888,
              "#fdca26"
             ],
             [
              1,
              "#f0f921"
             ]
            ],
            "type": "histogram2dcontour"
           }
          ],
          "mesh3d": [
           {
            "colorbar": {
             "outlinewidth": 0,
             "ticks": ""
            },
            "type": "mesh3d"
           }
          ],
          "parcoords": [
           {
            "line": {
             "colorbar": {
              "outlinewidth": 0,
              "ticks": ""
             }
            },
            "type": "parcoords"
           }
          ],
          "pie": [
           {
            "automargin": true,
            "type": "pie"
           }
          ],
          "scatter": [
           {
            "fillpattern": {
             "fillmode": "overlay",
             "size": 10,
             "solidity": 0.2
            },
            "type": "scatter"
           }
          ],
          "scatter3d": [
           {
            "line": {
             "colorbar": {
              "outlinewidth": 0,
              "ticks": ""
             }
            },
            "marker": {
             "colorbar": {
              "outlinewidth": 0,
              "ticks": ""
             }
            },
            "type": "scatter3d"
           }
          ],
          "scattercarpet": [
           {
            "marker": {
             "colorbar": {
              "outlinewidth": 0,
              "ticks": ""
             }
            },
            "type": "scattercarpet"
           }
          ],
          "scattergeo": [
           {
            "marker": {
             "colorbar": {
              "outlinewidth": 0,
              "ticks": ""
             }
            },
            "type": "scattergeo"
           }
          ],
          "scattergl": [
           {
            "marker": {
             "colorbar": {
              "outlinewidth": 0,
              "ticks": ""
             }
            },
            "type": "scattergl"
           }
          ],
          "scattermap": [
           {
            "marker": {
             "colorbar": {
              "outlinewidth": 0,
              "ticks": ""
             }
            },
            "type": "scattermap"
           }
          ],
          "scattermapbox": [
           {
            "marker": {
             "colorbar": {
              "outlinewidth": 0,
              "ticks": ""
             }
            },
            "type": "scattermapbox"
           }
          ],
          "scatterpolar": [
           {
            "marker": {
             "colorbar": {
              "outlinewidth": 0,
              "ticks": ""
             }
            },
            "type": "scatterpolar"
           }
          ],
          "scatterpolargl": [
           {
            "marker": {
             "colorbar": {
              "outlinewidth": 0,
              "ticks": ""
             }
            },
            "type": "scatterpolargl"
           }
          ],
          "scatterternary": [
           {
            "marker": {
             "colorbar": {
              "outlinewidth": 0,
              "ticks": ""
             }
            },
            "type": "scatterternary"
           }
          ],
          "surface": [
           {
            "colorbar": {
             "outlinewidth": 0,
             "ticks": ""
            },
            "colorscale": [
             [
              0,
              "#0d0887"
             ],
             [
              0.1111111111111111,
              "#46039f"
             ],
             [
              0.2222222222222222,
              "#7201a8"
             ],
             [
              0.3333333333333333,
              "#9c179e"
             ],
             [
              0.4444444444444444,
              "#bd3786"
             ],
             [
              0.5555555555555556,
              "#d8576b"
             ],
             [
              0.6666666666666666,
              "#ed7953"
             ],
             [
              0.7777777777777778,
              "#fb9f3a"
             ],
             [
              0.8888888888888888,
              "#fdca26"
             ],
             [
              1,
              "#f0f921"
             ]
            ],
            "type": "surface"
           }
          ],
          "table": [
           {
            "cells": {
             "fill": {
              "color": "#EBF0F8"
             },
             "line": {
              "color": "white"
             }
            },
            "header": {
             "fill": {
              "color": "#C8D4E3"
             },
             "line": {
              "color": "white"
             }
            },
            "type": "table"
           }
          ]
         },
         "layout": {
          "annotationdefaults": {
           "arrowcolor": "#2a3f5f",
           "arrowhead": 0,
           "arrowwidth": 1
          },
          "autotypenumbers": "strict",
          "coloraxis": {
           "colorbar": {
            "outlinewidth": 0,
            "ticks": ""
           }
          },
          "colorscale": {
           "diverging": [
            [
             0,
             "#8e0152"
            ],
            [
             0.1,
             "#c51b7d"
            ],
            [
             0.2,
             "#de77ae"
            ],
            [
             0.3,
             "#f1b6da"
            ],
            [
             0.4,
             "#fde0ef"
            ],
            [
             0.5,
             "#f7f7f7"
            ],
            [
             0.6,
             "#e6f5d0"
            ],
            [
             0.7,
             "#b8e186"
            ],
            [
             0.8,
             "#7fbc41"
            ],
            [
             0.9,
             "#4d9221"
            ],
            [
             1,
             "#276419"
            ]
           ],
           "sequential": [
            [
             0,
             "#0d0887"
            ],
            [
             0.1111111111111111,
             "#46039f"
            ],
            [
             0.2222222222222222,
             "#7201a8"
            ],
            [
             0.3333333333333333,
             "#9c179e"
            ],
            [
             0.4444444444444444,
             "#bd3786"
            ],
            [
             0.5555555555555556,
             "#d8576b"
            ],
            [
             0.6666666666666666,
             "#ed7953"
            ],
            [
             0.7777777777777778,
             "#fb9f3a"
            ],
            [
             0.8888888888888888,
             "#fdca26"
            ],
            [
             1,
             "#f0f921"
            ]
           ],
           "sequentialminus": [
            [
             0,
             "#0d0887"
            ],
            [
             0.1111111111111111,
             "#46039f"
            ],
            [
             0.2222222222222222,
             "#7201a8"
            ],
            [
             0.3333333333333333,
             "#9c179e"
            ],
            [
             0.4444444444444444,
             "#bd3786"
            ],
            [
             0.5555555555555556,
             "#d8576b"
            ],
            [
             0.6666666666666666,
             "#ed7953"
            ],
            [
             0.7777777777777778,
             "#fb9f3a"
            ],
            [
             0.8888888888888888,
             "#fdca26"
            ],
            [
             1,
             "#f0f921"
            ]
           ]
          },
          "colorway": [
           "#636efa",
           "#EF553B",
           "#00cc96",
           "#ab63fa",
           "#FFA15A",
           "#19d3f3",
           "#FF6692",
           "#B6E880",
           "#FF97FF",
           "#FECB52"
          ],
          "font": {
           "color": "#2a3f5f"
          },
          "geo": {
           "bgcolor": "white",
           "lakecolor": "white",
           "landcolor": "white",
           "showlakes": true,
           "showland": true,
           "subunitcolor": "#C8D4E3"
          },
          "hoverlabel": {
           "align": "left"
          },
          "hovermode": "closest",
          "mapbox": {
           "style": "light"
          },
          "paper_bgcolor": "white",
          "plot_bgcolor": "white",
          "polar": {
           "angularaxis": {
            "gridcolor": "#EBF0F8",
            "linecolor": "#EBF0F8",
            "ticks": ""
           },
           "bgcolor": "white",
           "radialaxis": {
            "gridcolor": "#EBF0F8",
            "linecolor": "#EBF0F8",
            "ticks": ""
           }
          },
          "scene": {
           "xaxis": {
            "backgroundcolor": "white",
            "gridcolor": "#DFE8F3",
            "gridwidth": 2,
            "linecolor": "#EBF0F8",
            "showbackground": true,
            "ticks": "",
            "zerolinecolor": "#EBF0F8"
           },
           "yaxis": {
            "backgroundcolor": "white",
            "gridcolor": "#DFE8F3",
            "gridwidth": 2,
            "linecolor": "#EBF0F8",
            "showbackground": true,
            "ticks": "",
            "zerolinecolor": "#EBF0F8"
           },
           "zaxis": {
            "backgroundcolor": "white",
            "gridcolor": "#DFE8F3",
            "gridwidth": 2,
            "linecolor": "#EBF0F8",
            "showbackground": true,
            "ticks": "",
            "zerolinecolor": "#EBF0F8"
           }
          },
          "shapedefaults": {
           "line": {
            "color": "#2a3f5f"
           }
          },
          "ternary": {
           "aaxis": {
            "gridcolor": "#DFE8F3",
            "linecolor": "#A2B1C6",
            "ticks": ""
           },
           "baxis": {
            "gridcolor": "#DFE8F3",
            "linecolor": "#A2B1C6",
            "ticks": ""
           },
           "bgcolor": "white",
           "caxis": {
            "gridcolor": "#DFE8F3",
            "linecolor": "#A2B1C6",
            "ticks": ""
           }
          },
          "title": {
           "x": 0.05
          },
          "xaxis": {
           "automargin": true,
           "gridcolor": "#EBF0F8",
           "linecolor": "#EBF0F8",
           "ticks": "",
           "title": {
            "standoff": 15
           },
           "zerolinecolor": "#EBF0F8",
           "zerolinewidth": 2
          },
          "yaxis": {
           "automargin": true,
           "gridcolor": "#EBF0F8",
           "linecolor": "#EBF0F8",
           "ticks": "",
           "title": {
            "standoff": 15
           },
           "zerolinecolor": "#EBF0F8",
           "zerolinewidth": 2
          }
         }
        },
        "title": {
         "font": {
          "color": "Black",
          "size": 22
         },
         "text": "<b>Hierarchical Clustering</b>",
         "x": 0.5,
         "xanchor": "center",
         "yanchor": "top"
        },
        "width": 1000,
        "xaxis": {
         "mirror": "allticks",
         "rangemode": "tozero",
         "showgrid": false,
         "showline": true,
         "showticklabels": true,
         "ticks": "outside",
         "type": "linear",
         "zeroline": false
        },
        "yaxis": {
         "mirror": "allticks",
         "range": [
          -20,
          0
         ],
         "rangemode": "tozero",
         "showgrid": false,
         "showline": true,
         "showticklabels": true,
         "tickmode": "array",
         "ticks": "outside",
         "ticktext": [
          "0_felt_experience_sense",
          "1_colors_patterns_shapes"
         ],
         "tickvals": [
          -5,
          -15
         ],
         "type": "linear",
         "zeroline": false
        }
       }
      }
     },
     "metadata": {},
     "output_type": "display_data"
    }
   ],
   "source": [
    "\n",
    "hierarchy_vis = topic_model.visualize_hierarchy(custom_labels=True, color_threshold=.9)\n",
    "hierarchy_vis"
   ]
  }
 ],
 "metadata": {
  "kernelspec": {
   "display_name": "Python 3",
   "language": "python",
   "name": "python3"
  },
  "language_info": {
   "codemirror_mode": {
    "name": "ipython",
    "version": 3
   },
   "file_extension": ".py",
   "mimetype": "text/x-python",
   "name": "python",
   "nbconvert_exporter": "python",
   "pygments_lexer": "ipython3",
   "version": "3.11.8"
  }
 },
 "nbformat": 4,
 "nbformat_minor": 5
}
