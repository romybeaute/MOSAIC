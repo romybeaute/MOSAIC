{
 "cells": [
  {
   "cell_type": "code",
   "execution_count": null,
   "id": "31084066",
   "metadata": {},
   "outputs": [
    {
     "name": "stderr",
     "output_type": "stream",
     "text": [
      "[nltk_data] Downloading package punkt to /Users/rbeaute/nltk_data...\n",
      "[nltk_data]   Package punkt is already up-to-date!\n"
     ]
    },
    {
     "ename": "AttributeError",
     "evalue": "module 'pandas' has no attribute 'read_txt'",
     "output_type": "error",
     "traceback": [
      "\u001b[0;31m---------------------------------------------------------------------------\u001b[0m",
      "\u001b[0;31mAttributeError\u001b[0m                            Traceback (most recent call last)",
      "Cell \u001b[0;32mIn[34], line 18\u001b[0m\n\u001b[1;32m     15\u001b[0m txt_path \u001b[38;5;241m=\u001b[39m \u001b[38;5;124mf\u001b[39m\u001b[38;5;124m\"\u001b[39m\u001b[38;5;124m/Users/rbeaute/Projects/MOSAIC/DEPRESSION/\u001b[39m\u001b[38;5;132;01m{\u001b[39;00mparticipant_id\u001b[38;5;132;01m}\u001b[39;00m\u001b[38;5;124m_transcript_apple.txt\u001b[39m\u001b[38;5;124m\"\u001b[39m\n\u001b[1;32m     17\u001b[0m \u001b[38;5;66;03m# csv_path = '/Users/rbeaute/Projects/MOSAIC/DATA/multilingual/english/dreamachine/HS_reflections_cleaned.csv'\u001b[39;00m\n\u001b[0;32m---> 18\u001b[0m df \u001b[38;5;241m=\u001b[39m \u001b[43mpd\u001b[49m\u001b[38;5;241;43m.\u001b[39;49m\u001b[43mread_txt\u001b[49m(txt_path)\n\u001b[1;32m     19\u001b[0m df\n",
      "\u001b[0;31mAttributeError\u001b[0m: module 'pandas' has no attribute 'read_txt'"
     ]
    }
   ],
   "source": [
    "import pandas as pd\n",
    "from sklearn.feature_extraction.text import CountVectorizer\n",
    "import numpy as np\n",
    "import nltk\n",
    "nltk.download('punkt')\n",
    "\n",
    "from bertopic import BERTopic\n",
    "from bertopic.representation import BaseRepresentation\n",
    "from sentence_transformers import SentenceTransformer\n",
    "from sklearn.feature_extraction.text import CountVectorizer\n",
    "from umap import UMAP\n",
    "from hdbscan import HDBSCAN\n"
   ]
  },
  {
   "cell_type": "code",
   "execution_count": 56,
   "id": "405cca88",
   "metadata": {},
   "outputs": [
    {
     "name": "stdout",
     "output_type": "stream",
     "text": [
      "                                                text\n",
      "0  For me, depression has been like in two phases...\n",
      "1  So my first encounter with depression was pret...\n",
      "2                                            Mm hmm.\n",
      "3                                              Yeah.\n",
      "4                     It's like high school kind of. \n",
      " 754 rows loaded\n"
     ]
    }
   ],
   "source": [
    "from pathlib import Path\n",
    "import pandas as pd\n",
    "import nltk\n",
    "nltk.download(\"punkt\", quiet=True)\n",
    "\n",
    "participant_id = 148\n",
    "txt_path = Path(f\"/Users/rbeaute/Projects/MOSAIC/DEPRESSION/{participant_id}_transcript_apple.txt\")\n",
    "\n",
    "# 1) load the raw text\n",
    "with txt_path.open(encoding=\"utf-8\") as f:\n",
    "    full_text = f.read()\n",
    "\n",
    "# 2) choose how to slice it ---------------------------\n",
    "# Option A: one row = one sentence  (good default for BERTopic)\n",
    "rows = nltk.sent_tokenize(full_text)\n",
    "\n",
    "# Option B: one row = one line     (e.g. if the file is already line-separated)\n",
    "# rows = full_text.splitlines()\n",
    "\n",
    "# Option C: one row = entire document\n",
    "# rows = [full_text]\n",
    "# -----------------------------------------------------\n",
    "\n",
    "# 3) wrap in a DataFrame\n",
    "df = pd.DataFrame({\"text\": rows})\n",
    "\n",
    "# quick sanity-check\n",
    "print(df.head(), \"\\n\", f\"{len(df):,} rows loaded\")\n",
    "\n",
    "sentences = df[\"text\"].tolist()\n"
   ]
  },
  {
   "cell_type": "code",
   "execution_count": 57,
   "id": "f6ec9b2a",
   "metadata": {},
   "outputs": [
    {
     "data": {
      "text/plain": [
       "['For me, depression has been like in two phases, I would say.',\n",
       " \"So my first encounter with depression was pretty much, I think I'm a teenage.\",\n",
       " 'Mm hmm.',\n",
       " 'Yeah.',\n",
       " \"It's like high school kind of.\",\n",
       " 'Yeah, high school.',\n",
       " 'Because of I lost a really close friend.',\n",
       " 'Oh.',\n",
       " 'And I went through.',\n",
       " 'I got cheated in a relationship as well.',\n",
       " 'So that was like a really challenging time for me.',\n",
       " 'And in terms of my househ case a lot of this narrator for me also comes from my household.',\n",
       " 'So I come from a very patriarchal and very dysfunctional sort of family.',\n",
       " 'So there is a lot of pressure for you to perform as a kid.',\n",
       " \"So while you're constantly struggling with that pressure of performing as a kid and then simultaneous theory also losing your support system So it's it's a very difficult path for you to navigate.\",\n",
       " 'And at that point I did not know that there is anything like called aression.',\n",
       " 'I mean, that was almost 12 years 12, 13 years back, actually, I think.',\n",
       " 'So at that point I was not really aware of there is a thing called oppression, but now when I look back at it, I realise that that is exactly when I had my first encounter with it.',\n",
       " 'So that mostly, for me, included was cutting off from everyone at being my own space suicidal thoughts.',\n",
       " 'I mean, I did try committing suicide twice.',\n",
       " 'At that point.',\n",
       " 'Like then?',\n",
       " 'Yeah, back then.',\n",
       " 'And so I was, I mean, somehow got saved there, but after that, it took me like, and I also went through a huge disease at that point.',\n",
       " 'So Like physical.',\n",
       " 'Yeah, a physical disease as well.',\n",
       " 'So all in all, I was at my low, like the lowest and that was a really dark place for me.',\n",
       " 'So that is where my first encounter happened.',\n",
       " 'But then it has always reflected back whenever things have got really tough on me.',\n",
       " 'And other than that also in my general life, since then, what I have observed is that I try to suppress my emotions a lot I never feel excited about anything.',\n",
       " \"Like, that rarely happens that I'm super excited about anything.\",\n",
       " \"And I'll not.\",\n",
       " \"I mean, my you'll really see me extremely happy.\",\n",
       " \"You might find me sad, but happiness comes very It's a very difficult thing to me.\",\n",
       " \"And yeah, so in general, I mean, I'd be very stupid.\",\n",
       " \"I've had a very rough life, okay, in past or 10, 12 years, especially.\",\n",
       " 'It has been pretty rough.',\n",
       " 'So I usually do not get time to sit with my sadness because my life is so rigourous to me and it demands a lot.',\n",
       " \"But I also know that I'm struggling within to find my place and it takes it takes a toll some time wherein I'm soverburdened and I'll just cut off from everything and I'll lock myself in and I'll not I rarely express my problems to anyone till the time it is like at an outburst.\",\n",
       " 'This socidal thoughts also occur from time to time.',\n",
       " \"So I mean, after that I haven't tried committing, but it does come back that what if we just end everything and the problems should be gone?\",\n",
       " 'So you do think of that thing every now and then.',\n",
       " 'So, yeah, and right now, if I talk about like in past one year under the current moment, I feel like as you grow, you become very exported mastering your emotions.',\n",
       " \"You do know how to regulate things, but you also, yeah, I'm also very self-critical.\",\n",
       " \"I know that what is happening with, but I also know the pressure of projecting that how you're supposed to be because the world under situation and your living standards demand that.\",\n",
       " \"So I try to keep up with that and I'll probably do my best for two days or three days.\",\n",
       " \"But then I'm like, I cannot anymore and I'll just hold back.\",\n",
       " 'Two or three days in how long?',\n",
       " \"And in a week, I'm saying.\",\n",
       " 'Okay.',\n",
       " \"So I'll probably wake up on Monday like, okay, I'm going to, we have got this and we're going to do everything.\",\n",
       " \"And then Monday and Tuesday, Wednesday and then Thursday will be like a huge downer all of a sudden then I would need to rot in the bed for that particular day and probably just play something and it's just lying there and I know that I'm not even watching it.\",\n",
       " \"It's just it's just there in the background.\",\n",
       " \"So yeah, that's how it has been because now I've moved from moved away from my home.\",\n",
       " \"I'm an international student.\",\n",
       " 'So you do not even have that community around you, that I do have friends, but of course, how close can you be in an year, okay?',\n",
       " 'So you then have the perfect amount of space where you want to cut off people and be on your own.',\n",
       " 'And I do that very often.',\n",
       " 'I mean, the initial six months, I was, I did not see anyone for like a really long time.',\n",
       " 'So especially the December to January was a really, really dark, I mean, some people would call it the seasonal thing, but for me too was in the seasonal thing.',\n",
       " 'I usually do not feel that sad during winterures, but then this time it was, I was.',\n",
       " \"Because because you're like abroad.\",\n",
       " 'Yes.',\n",
       " \"And you have no connections, you have pressure to find a job, you have pressure to make money, you have pressure to do while you're near academics, I return to academics after like 10 years.\",\n",
       " \"And I was not really sure that if I'm going to make it because the kind of education I have had in my country and the education standards here are very different and the quiche meths are very different.\",\n",
       " 'So again, that is also adding a lot of pressure on you when you try to cook up and keep up with all of that, then there is also this pressure of that you are of a certain age and you do not have a dating life Why is that?',\n",
       " 'And why are you like, so you try to then question yourself as well, that is there the problem with me?',\n",
       " 'So there is a lot of questioning on that part as well.',\n",
       " \"So how that shows up is that I would sleep probably two entire days and then I'll start working.\",\n",
       " \"Then I'll be working for probably like a crazy person for another three days.\",\n",
       " \"And then I'll be like, now I'm tired and I'll again go back to sleep.\",\n",
       " \"I'll have like really random sleep scares.\",\n",
       " \"So so there's not much if every routine.\",\n",
       " 'Yeah, there is there is no routine, especially like in December and January, there was no routine.',\n",
       " 'I got back a bit in March and April, but now it is showing up again because now my classes are done.',\n",
       " \"Yeah, it's.\",\n",
       " 'And no external structure.',\n",
       " 'Yeah, so now you are again back in that zone.',\n",
       " \"Like, I spent approximately 16 hours sleeping yesterday and I don't know where they're tiredness is coming from because I'm not tired.\",\n",
       " 'I know that my body is not tired.',\n",
       " \"It's just that I'm mentally shutting down.\",\n",
       " 'I know that bit.',\n",
       " 'And it usually that for me, that pattern usually starts occurring when I have a lot of stress going on.',\n",
       " \"So that stress leads me to those that place wherein I'm in a very dark place then and all I would want us to do sleep eating or or doesn't attract me much.\",\n",
       " \"I'm like, okay, I'm just eating for surviving sort of thing.\",\n",
       " 'No appetite.',\n",
       " 'Yeah, no appetite.',\n",
       " \"I mean, you're just doing it because you have to sort of thing.\",\n",
       " 'So that happens and then mindless scrolling.',\n",
       " \"I'm not much of an Instagram person, but when this phase comes in, I'll probably spend four hours just scrolling.\",\n",
       " \"And I'm watching anything which is not even relevant to what I remotely watch.\",\n",
       " 'So it happens to me when there is a lot of stress which is beyond my control, especially actions which are beyond my control.',\n",
       " 'So For example.',\n",
       " 'Like, I have recently had a conflict with my parents.',\n",
       " 'Oh.',\n",
       " 'Okay?',\n",
       " 'Now, I know that this is something I cannot resolve.',\n",
       " \"So I'll have to just sit it down and I have to stay away.\",\n",
       " 'So this the reason why I mentioned families it has a very huge role as this because from past 12 years, my parents have this partner wherein they will pick one topic in an year.',\n",
       " \"and then we'll have a conflict on that and we'll not then probably speak for five, six months.\",\n",
       " 'Oh.',\n",
       " \"Okay, so I have earlier I used to react very widely to it and used to call them and have arguments and everything, but now what I have done is that even I stay back and I don't say a thing.\",\n",
       " \"So even though people will feel like that I'm not reacting to it, but it is subconsciously in my head all the time and it keeps me, it makes me struggle in terms of regulating my emotions then.\",\n",
       " 'Regulating my life as well because it feels like then after that whatever comes out is a reaction of that.',\n",
       " 'Okay.',\n",
       " \"So, like, all of a sudden I'll become uninterested in everything and I usually walk out four or five days a week.\",\n",
       " \"This week I've just fuck out once.\",\n",
       " 'So it then all of a sudden the entire, you will usually see me as a very disciplined person, but then all of a sudden everything crumbles down.',\n",
       " 'From the after the conflict, yes.',\n",
       " \"And that is where that this entire process of two, three months of holding back into that dark race goes wherein you're like just doing random things, which is which is not you or probably not doing anything at all probably spent sleeping and sometimes end the seating as well.\",\n",
       " \"Like usually don't eat junk.\",\n",
       " \"I've become very mindful of that, but then all of a sudden I'll have craving to eat junk and I'm eating junk all the time so that part also also happens and in general, avoiding people, and I'm not an intro, I'm not an introvert at all, they start avoiding people altogether.\",\n",
       " \"They not talk and I' be like I need space.\",\n",
       " 'So, yeah, that has been the bits and pieces of my journey so far.',\n",
       " 'Yeah.',\n",
       " 'Yeah.',\n",
       " \"There's a lot to unpack.\",\n",
       " 'Yeah.',\n",
       " 'But thank you for sharing.',\n",
       " 'So, would you mind.',\n",
       " 'Tell me a bit bit more about your relationship with your family, like growing up and, you know, this kind of conflicts, how, how does it happen?',\n",
       " 'How often?',\n",
       " 'How do you feel?',\n",
       " \"Yeah, so I'll just give you a bit of context on that.\",\n",
       " 'I was born in a really small village.',\n",
       " 'Okay.',\n",
       " 'And my mother and father were married out of an arranged marriage.',\n",
       " 'Okay?',\n",
       " \"So when you're talking about a village in India, you can like you can just imagine a family, which is ran by mail and they're allergies.\",\n",
       " 'The female in that house is just a follower and the doer of things.',\n",
       " 'Okay.',\n",
       " 'Okay?',\n",
       " 'You will often see abuse in that house on woman.',\n",
       " 'So you grew up in that environment.',\n",
       " 'And then my mother decided to be a protagonist and she decided that my kids are going to study in the city because I do not want them to have like a basic life.',\n",
       " 'I want them to have a better life than what I have.',\n",
       " 'So then my mother fought the system and my father and the family and everything, but she also tore us apart from a family.',\n",
       " 'You understand, because I was living with my grandparents and I was loved intensely there.',\n",
       " 'My father never really loved lived with us because he was living in this city earning money, okay?',\n",
       " 'And we were living in the village with my grandparents and my mom.',\n",
       " 'So I saw my father probably once or twice a year.',\n",
       " 'Oh.',\n",
       " 'Okay.',\n",
       " 'And after that, my mother decided to move us out of that house as well, and we moved to a different city to study and my father is living in a different city.',\n",
       " 'My grandparents are there in the village.',\n",
       " 'So you were living with your mother?',\n",
       " 'Yeah.',\n",
       " 'Just money siblings?',\n",
       " 'Yeah.',\n",
       " 'I have a younger sibling.',\n",
       " \"I'm just going to tell you about that as well.\",\n",
       " \"That's also very interesting story.\",\n",
       " 'So I have a younger sibling who is like three years, four years younger than me.',\n",
       " 'Okay.',\n",
       " 'So now when we moved out of that house, my mother was trying to do everything in our capacity to take care of us.',\n",
       " 'We were not very financially in a great situation and my father, we used to he used to own like 10,000 rupees, which is almost what not even not even a hundred pound from here.',\n",
       " 'So that was our living there.',\n",
       " 'And we used to live in a shared house wherein you just get two rooms to live in.',\n",
       " \"So the setting for me, all of a sudden, changed, and I did not have that paternal love also, because my grandparents were there, my father wasn't there.\",\n",
       " 'And my mother took up that very strong role of fixing the life of her kids.',\n",
       " 'So she never was a very emotional mother.',\n",
       " \"I mean, I don't even remember her hugging me ever.\",\n",
       " 'Okay.',\n",
       " 'So she was never a very emotional mother and that is where sadness started coming from for me because I remember myself crying to sleep in most of those nights because I used to miss my grandparents a lot and I did not have that support system there.',\n",
       " \"Plus, when you're from a village and then you all of a sudden move to a city school, you also get bullied on the fet.\",\n",
       " 'Oh, she does not know anything.',\n",
       " 'Okay.',\n",
       " 'So that was also happening.',\n",
       " \"On top of that, I have my younger brother as well, who is who is, of course, he's also in the new system.\",\n",
       " 'So he also has load of his homework and everything.',\n",
       " 'So I used to take care of his studies as well.',\n",
       " \"and I'm taking care of my things as well.\",\n",
       " 'And my mother always forced us to be very independent, do everything on your own sort of thing.',\n",
       " \"Great to hear now, but then it was not at that point, that wasn't a great feeling.\",\n",
       " \"So that's how most of my childhood was.\",\n",
       " 'Then when I was in ninth standard, my father finally decided that we are going to live together.',\n",
       " 'So I moved to a different city now, which is bigger from the city where I was living originally.',\n",
       " 'So I have never had a permanent home.',\n",
       " 'Okay.',\n",
       " 'I have always moved around.',\n",
       " \"This is probably my 17th house I'm living in.\",\n",
       " 'Oh, wow.',\n",
       " 'Okay.',\n",
       " 'So I moved in, then we moved in with our father, mother, and I was like, okay, this is finally family.',\n",
       " 'We are going to live with as a family now.',\n",
       " 'I was that?',\n",
       " 'This was this was probably when I was 14 or 15, I believe.',\n",
       " 'So 14 years of my life like that, then after 14 years, this is happening.',\n",
       " \"I'm excited about this.\",\n",
       " 'But then what I did not realise was that it was not only me who was not living with my father and mother.',\n",
       " 'It was them also who never got to live together.',\n",
       " 'But when we started living together, the amount of conflicts they both had was crazy.',\n",
       " 'They argued a lot of a lot.',\n",
       " 'A lot.',\n",
       " \"And not only that, it's it's just with my father being around, my mother was under this continuous pressure of pleasing him.\",\n",
       " 'And that meant for us as well to be in that pleasing behaviour.',\n",
       " 'Okay.',\n",
       " \"Yeah, that don't do this, your father won't like this.\",\n",
       " \"Don't do this.\",\n",
       " \"Your father won't like this.\",\n",
       " \"Don't do this.\",\n",
       " \"Your father won't like it.\",\n",
       " \"So you're continuously walking on that eggshell that I'll probably do this and my father would just go crazy at the very same time again, you are now in a bigger school, in a bigger city.\",\n",
       " \"So you are again in that pressure where in you're bullied by names like, oh, she's a villager.\",\n",
       " 'Oh, she does not know anything.',\n",
       " \"So you're outcasted there as well.\",\n",
       " \"So we're struggling there.\",\n",
       " \"Now the thing about me is because I've been through so much change, so when I go to a new school, I take my one year when I getried.\",\n",
       " 'I did get bullied for one year.',\n",
       " 'But then I built up.',\n",
       " 'I built up, okay.',\n",
       " 'So I built up, I became a national level debater and, you know, I went to participate.',\n",
       " 'But then that behaviour was not only because I wanted to do that for myself.',\n",
       " 'It was also because I wanted to be a very great kid for my parents.',\n",
       " \"Someone who they'd look up to and they'd be like, that's a great kid.\",\n",
       " 'Because the reward system in my family was very much implemented from the Y start.',\n",
       " \"If you show the good behaviour, you'll be treated nice for like a couple of days.\",\n",
       " \"But as soon as you do one thing wrong, you'll be treated like you're no one.\",\n",
       " 'Okay.',\n",
       " 'So that people pleasing behaviour started from there.',\n",
       " 'And it was also the attention and love which I wanted from others that if I do well, people do want to listen to you.',\n",
       " 'People do want to, you know, look up to you and you get that attention.',\n",
       " 'And this was the time when I started dating someone as well, because, again, I was living in that conflicted house.',\n",
       " 'I was getting no love.',\n",
       " 'I was I was continentously stabbed for that.',\n",
       " 'So I met a man who showed even a bit of interest in me.',\n",
       " 'So I decided not to have any background check or anything on him and just directly go into that relationship.',\n",
       " \"Then, of course, my parents don't know this.\",\n",
       " \"I'm doing this on my own.\",\n",
       " \"In all of this, while I was doing this, these national level roles and everything, and then I'm also doing a relationship and all of that, I then after a year got to know that I'm being cheated, this man is married and he was lying to me.\",\n",
       " 'Oh, wow.',\n",
       " 'Okay.',\n",
       " 'So, and this is exactly when I lost my friend in an accident as well.',\n",
       " 'And this was also when after like in three months of a span, I was I got a deadly disease as well.',\n",
       " 'So and in that moment, what happened was that again, my father was very upset with whatever was happening and probably because now all of this is happening, so I lacked in my studies as well.',\n",
       " 'Okay.',\n",
       " 'Okay.',\n",
       " 'So in Indian education system, what happens is that once we are in the 10th standard, you get to choose your subjects, that what do you want your major to be in?',\n",
       " 'I wanted my major to be in arts or humanities.',\n",
       " 'My father said that if you want to do arts or humanities, you can leave education and you can go back to village and probably get married.',\n",
       " \"If you want to study, you'll have to study science.\",\n",
       " 'So I picked science.',\n",
       " 'I did science, but that was not my forte.',\n",
       " 'So I was continuously failing.',\n",
       " 'or probably just passing by minimum grades.',\n",
       " 'So the unhappiness was real in there, that you were all of a sudden a national level winner in certain competitions and then all of a sudden you are failing your classes So the disappointment was really big.',\n",
       " 'And in all of this, then my mother also got to know that I was dating someone.',\n",
       " \"So that was a big problem because that's not allowed.\",\n",
       " \"Let's frown upon in our culture, that how can you have a relationship?\",\n",
       " 'So is it usually like just you get married?',\n",
       " 'I pretty wish that Pretty wish that.',\n",
       " 'I mean, people are trying to be a bit open about it right now, but we are far from that.',\n",
       " 'We are very far from that.',\n",
       " \"Your relationships are hushed till the moment you both are like, okay about getting married and then also when you will tell your parents that there is someone who I'm going to get married to, you'll be like, I don't know, there'd be a huge, huge lot of drama.\",\n",
       " \"Like I'm till they scared of the fact that I'm going to call my parents someday and tell them that I have found a boyfriend and we're going to get, we are thinking of getting married that is going to be a problematic.\",\n",
       " 'I know that.',\n",
       " 'So, all of this is happening and then in between all of this, I got this deadly disease and I especially like to narrate that special incident because that actually will tell you a lot about my parents and the relationship I share with them.',\n",
       " 'So I was, I got I got pneumonia and my right lung was infected very badly.',\n",
       " 'But then when it started, nobody knew that what exactly is the problem?',\n",
       " 'Because I was just cuffing.',\n",
       " 'Okay?',\n",
       " 'So my mom took me to a doctor and he gave me some medicines.',\n",
       " 'We came back and then all of a sudden after that, I started getting a bit of pain in my righteous.',\n",
       " \"So I'm in pain, I'm crying.\",\n",
       " 'This has started at noon.',\n",
       " 'My father came back in evening from his office.',\n",
       " \"He can see me that I am in pain and I'm like continuously crying and yelling and all of that.\",\n",
       " 'and this went on till three in the night when they decided that they are now going to take me to the hospital because now this has got out of hand.',\n",
       " 'And the reason why that happened was because my father was upset with me.',\n",
       " 'Because of the other things?',\n",
       " 'Yes.',\n",
       " 'So he took his time, he took his own time to finally come to senses to take me to the hospital.',\n",
       " 'Okay.',\n",
       " 'All right.',\n",
       " 'So I was like, okay, we went to the hospital and at that point of time in the night, only the emergency care is available.',\n",
       " \"So they said that that she probably could have stones or something in her kidney due to which she's getting the painain, we'll get to know in the morning when we will do the scan.\",\n",
       " 'For now we are just giving her painkillers and you can take her back home.',\n",
       " 'Okay.',\n",
       " 'So I was just given an injection and I was sent back home.',\n",
       " \"Then we went in the morning and then they got to know that, okay, she has pneumonia and she's probably on a very dangerous stage wherein she'll have to be admitted.\",\n",
       " 'So I got admitted in the hospital.',\n",
       " 'The carelessness is to this level when I have had TB while I was two years old and they already know that the kind of history I have had with my language issues cool.',\n",
       " 'So that went on for one month and that is where my father finally felt a bit guilty and he let me have an admission in a designing school.',\n",
       " 'So I finally got into a designing school out of guilt, not out of, that was my graduation for which I got in.',\n",
       " \"And that's how my graduation started.\",\n",
       " 'And since then, I have always lived in hostels.',\n",
       " 'I have not lived with my parents after that.',\n",
       " 'Graduation after graduation, I have not lived with my parents.',\n",
       " \"So then also when I have lived in all of that scarios also, so my parents also have this habit of controlling money wherein they have money, but they'll give you peanuts because we do not have money.\",\n",
       " 'They like to create that scarcity for you.',\n",
       " 'Okay.',\n",
       " \"I'm like, okay, I do not even mind that because I'll tell you what.\",\n",
       " \"I've also been a very low mentainous kid.\",\n",
       " \"You'll get me a dress probably once a year, I'm okay with that.\",\n",
       " 'I have never been one of those kids who have came home and asked my mother that I want this, I want that, I want no, never.',\n",
       " \"The basic amenities and I've been okay with that.\",\n",
       " 'So that is how my graduation went on in between all of that also, there was once this time when both my parents got into an accident.',\n",
       " 'So, and it was it was pretty.',\n",
       " 'My father fractured his hair and my mother had stitches on her head and it was.',\n",
       " \"I was very emotional and then I was like, I'll take up on a part-time job and I'll make money and I'll put in.\",\n",
       " 'And then they were like, no, this is not required, where you will see what whatever will happen So in India, you do not have the culture of working part-time, first of work.',\n",
       " 'You do a full-time job after your grad school probably, but not before that.',\n",
       " 'So all of that happened.',\n",
       " \"And then I' finally, I got a placement.\",\n",
       " 'I got placed in my last year of my graduation.',\n",
       " 'So after that, the place where my parents used to live and the place where I got the job was almost a two hour commute each side.',\n",
       " \"Okay, so you're commuting four hours a day, then you're going there working for nine hours.\",\n",
       " 'I did that for a month.',\n",
       " 'Okay.',\n",
       " 'And then I told my parents that I think I should move out and go live there because this is very hectic.',\n",
       " \"And this is very unsafe also because I'll tell you what, in India, when you travel into public transport, there are very, very like, huge chances that you will beoled.\",\n",
       " 'Oh, okay.',\n",
       " 'Okay.',\n",
       " 'And it will be touched in appropriately and all of that.',\n",
       " 'It happens.',\n",
       " 'Plus, if I have to go to my office from the place I used to live, so I have to first take a do you know Tukok?',\n",
       " 'The sharing rides which you take in a small you take Yeah, yeah.',\n",
       " \"So you take that ride first for 30, 40 minutes, then you cook's not very safe, right?\",\n",
       " 'Exactly.',\n",
       " 'So you do that for 30, 40 minutes and then you go ahead and travel in a train for another one, one and a half hour and then you reach your office.',\n",
       " 'So that was my daily commute.',\n",
       " \"Yeah, that's a lot.\",\n",
       " 'and for me, it was a very practical decision, I was 20 years older than when I started working.',\n",
       " 'And to give you a bit of background, first of all, none of of the females in my family have ever worked, I was the first one to work and I have elder cousins than me.',\n",
       " \"I'm not the elder one here.\",\n",
       " \"I' I have elder cousins and my lineage who are in fact educated more than me as well, but they chose never do that.\",\n",
       " \"So you are so you understand for them also, it is a bit difficult because I'm the one who is breaking the cycle here and choosing a path which has not been chosen in the family So there was always a friction in that part that why are you doing this?\",\n",
       " 'Okay.',\n",
       " \"So I said that I'm going to move out and that's again, led to my father being very upset and not talking to me for another six months because I moved out.\",\n",
       " 'Then, again, after that.',\n",
       " \"So how these conflicts also resolve, that he'll not talk to me for six months and then I'll go home and then we'll probably hang out together and he'll act like nothing happened.\",\n",
       " 'Okay.',\n",
       " \"We'll not even talk about what happened in the past or why we did this or why did this happen.\",\n",
       " 'And both my father and mother both have the same thing.',\n",
       " 'They do the same thing.',\n",
       " 'My mother is a bit sadter.',\n",
       " \"What she does is that she doesn't overbear with you with love whenever she's in a good place with you.\",\n",
       " 'She She remains very normal.',\n",
       " \"She' do her normal.\",\n",
       " \"My father, on the other hand, he loved Bomb U when he's in a good place with you, okay?\",\n",
       " \"But when he's not in a good place with you, then he'll go completely on the silent treatment.\",\n",
       " \"So you really don't know where you stand with them.\",\n",
       " 'You are all always in that conflict.',\n",
       " 'So from there, from that year, that pattern started, then it moved on to the fact that we want you to put into an arranged marriage setup.',\n",
       " \"I was 23 then and I was like, no, I don't want to do this.\",\n",
       " \"I'm pretty young to do this.\",\n",
       " 'So I always, I have never said no to my parents, so that is also a big problem.',\n",
       " \"But then I started resisting that I don't want this.\",\n",
       " 'So for them, it was more like that now you earn money.',\n",
       " 'So you are you are throwing that money on our face.',\n",
       " 'And not listening to us.',\n",
       " 'Then after that, couple of fears passed.',\n",
       " 'and each year the same problem used to happen, like why are you not getting married?',\n",
       " \"I'm not I'm not going to get married.\",\n",
       " 'I do not want to put myself in a marriage setup.',\n",
       " 'Because the arranged marriage setup is very humiliating, I would say.',\n",
       " \"And I'll tell you the reason behind it.\",\n",
       " \"That is where my main conflict with my parents started, that you have a girl who's educated, who's earning her own money, and then you ask her that you pose a certain way in the picture, you wear certain thing in a picture because we need to send that to the family of the guy.\",\n",
       " 'Okay?',\n",
       " \"And on top of that they'll ask for dowry from you to get me married.\",\n",
       " \"You'll pay probably somewhere around 20,000 to 30,000 pounds for me to get married to a guy who is who's probably even lesser educated than me, but has a job on basis of that job, he's getting, that money and I'm not getting anything.\",\n",
       " \"I'm just going to be go to his house and be responsible for his family, do things, and this entire narrative seems to me a very much a bullshit thought.\",\n",
       " 'I just cannot agree to this thought ever.',\n",
       " 'Yeah.',\n",
       " \"So the girl's family pays money, yes.\",\n",
       " \"And to send the girl to, yes, the guy's family, yes.\",\n",
       " 'And not only that, and that is called a gift, by the way.',\n",
       " 'They call it a gift.',\n",
       " \"that we't given a gift to Dr.ikishi is going to another house and we're like, okay, right.\",\n",
       " 'And you also take care of the entire event of the marriage, which is for three, four days.',\n",
       " 'So you spend another 20,000 pounds doing that.',\n",
       " 'And on On top of the family?',\n",
       " \"Yes, the girl's family.\",\n",
       " 'Yes.',\n",
       " 'So all of this is happening, and then you go to those Are marus setups.',\n",
       " 'When you sit there, the kind of questions they ask you is, do you know how to cook?',\n",
       " \"And then you were asked, I mean, I have been continuously questioned about the fact that, oh, she's too tall for a girl.\",\n",
       " \"Oh, she's too tall.\",\n",
       " 'Oh, yeah, so you hear just body comments in between, I mean, you know, so I used to be like very skinny and when this disease thing happened because of the steroids and everything, which I was on at that point of time, I gained a lot of weight.',\n",
       " 'Okay.',\n",
       " \"So then all of a sudden, oh, she's very fat.\",\n",
       " \"Oh, she's like this.\",\n",
       " 'So all of these comments are getting passed.',\n",
       " \"I mean, I have literally heard things like, can she send a picture wherein she's not wearing makeup?\",\n",
       " \"And I'm like, I am not wearing makeup in that picture.\",\n",
       " 'So these are the kind of things which you hear in an arranged marriage.',\n",
       " \"And not only that, after that, they'll ask, is she really earning?\",\n",
       " 'Can she send her salary slip?',\n",
       " 'I do not want to be a part of such humiliating process, and I told them that very clearly that this is not my cup of tea.',\n",
       " 'I cannot do this.',\n",
       " 'This is very embarrassing for me.',\n",
       " 'This is not about you.',\n",
       " 'This is this is literally not about.',\n",
       " 'This is very embarrassing for me as a person.',\n",
       " 'I probably I probably love to die alone rather than being in a place wherein I have to sell myself like this.',\n",
       " 'I just cannot.',\n",
       " 'So there was always a friction about that.',\n",
       " \"Then finally, I think two years back, I was like, okay, let's do it because I was just tired of that.\",\n",
       " \"And I was like, let's do it.\",\n",
       " 'So I did go into two to three arranged barots set up tape.',\n",
       " \"And then when I went there, So in one of the events, my parents were there and these guys family, this set up the time and date that this is why we're supposed to meet and she's supposed to come here.\",\n",
       " 'So I especially took an offer from my office to go there.',\n",
       " \"and the moment we were about to step out of the house, they called and said that, oh, we couldn't we cannot meet today and please do it some other day.\",\n",
       " 'So now my father is frustrated at them, but that frustration is coming on to us.',\n",
       " 'Oh.',\n",
       " \"He'll feel probably yell at me for that.\",\n",
       " \"He's yelling at me for that.\",\n",
       " \"In between days, I'd also like to mention an episode wherein my father lost his job, okay?\",\n",
       " 'So I was the sole bread winner of my family at that point of time.',\n",
       " \"So I used to earn probably some \\\\'a3300 pounds a month.\",\n",
       " 'Okay.',\n",
       " 'And out of that I used to give 100 pounds at home.',\n",
       " 'so that we can do the basic thing there.',\n",
       " \"My father one day was very upset about something, which was happening in the family, and he lashed out and said that, what do you think that you're giving us these hundred pounds and you have bought us?\",\n",
       " 'So these are the kind of comments which I have heard over a period of time from my parents.',\n",
       " \"So, you know, even though, I mean, I'll be very honest for, like, till the time I was 23, 24.\",\n",
       " \"I've hated them.\",\n",
       " 'I have literally hated them.',\n",
       " 'But then as you grow older, you try to develop a context of what has happened with them.',\n",
       " 'And I try to develop that context that probably we have outgrown them way too fast and they were not able to catch up with what has happening in our life and that is the reason they react like this.',\n",
       " 'and it tried to give them that empathy and that space.',\n",
       " 'The problem is there is not the same process from the other right.',\n",
       " 'And that always puts me in a conflict.',\n",
       " \"So when this marriage episode started again and all of this started happening again, I was like, this is very humiliating because I met a guy, you'll not believe he's first of all, has no personality.\",\n",
       " 'Zero personality.',\n",
       " 'And then we spoke everything and he was so skilled to even talk to me.',\n",
       " \"Like, he's so scared.\",\n",
       " \"And he's like, okay, and then he just rushed into the entire thing and he's like, all right, I'm gonna go.\",\n",
       " \"And I'm like, okay.\",\n",
       " 'I mean, what can I do about it?',\n",
       " 'I just met you.',\n",
       " \"And then he went home and he said this thing that, oh, she's a very workaholic and I don't think so that she'll be able to take care of the family.\",\n",
       " 'And they are telling this to my father, and my father is all of son, are very sad about this.',\n",
       " \"And then I said to him that, okay, tell him that I'm going to leave my work.\",\n",
       " 'Is he going to take care of me then?',\n",
       " 'My father did not have any response to this.',\n",
       " 'He wanted me to get married to a guy who lives in some very small town.',\n",
       " \"He has his career, but he also knows that if I'll go and get married there, I'm not going to have a career.\",\n",
       " \"And he's like, why are you not getting married to that guy?\",\n",
       " \"He's he's happy to get married to you.\",\n",
       " 'Why are you not getting married to him?',\n",
       " 'So I was like, because I also have to think about my career.',\n",
       " \"I just cannot give up to a guy who has his thing and I'll be just living there doing nothing.\",\n",
       " 'What am I supposed to do?',\n",
       " 'I have a nine year of work experience.',\n",
       " 'What am I supposed to go living there?',\n",
       " 'What am I supposed to do?',\n",
       " \"I'm at a managerial role and now I'm going to leave all of this.\",\n",
       " 'Live with the question, no, I do not even know, do not even love just because I have to get married.',\n",
       " 'Again, that led to a very big drama and we were not talking again.',\n",
       " \"So I got tired all of of the bullshit so much that I decided that I'm going to leave the country.\",\n",
       " 'And I am leaving.',\n",
       " 'And they were not the only reason.',\n",
       " 'There were other reasons as well, but they were one of the reasons.',\n",
       " \"So I told them that I'm going to take up on higher education and I'm going to leave.\",\n",
       " \"Again, I'd like two problems because how can you, you are 30 and you are thinking of going for a masters now.\",\n",
       " 'How are you doing this?',\n",
       " 'We are not going to support you in this.',\n",
       " 'Okay?',\n",
       " \"So they' backged up.\",\n",
       " 'Now it has, you have to pay to be here, you have to at least pay somewhere around 30 to 35,000 pounds.',\n",
       " 'You do not have that kind of money.',\n",
       " 'So you go to bank, you do a loan, and for a loan also, they will ask you for some collateral.',\n",
       " 'I do not even have that collateral.',\n",
       " 'This is where my brother comes in.',\n",
       " 'My brother was like, so he can put his salary as a collateral and we can get the loan.',\n",
       " 'So I did that entire process on my own.',\n",
       " 'They were not involved in it.',\n",
       " \"I did the all the paperwork on my own and it's very difficult to do everything on your own, especially when you have Indian government officials involved.\",\n",
       " 'Everything is very slow, very problematic and you have to fight through everything.',\n",
       " 'So yeah, so I did all of that on my own.',\n",
       " 'My brother used to support me a bit, but that was it.',\n",
       " 'That was that was it.',\n",
       " 'But I finally got my Visa and I was about to leave, they started being nice to me.',\n",
       " \"Hmm Because now they were like that she's leaving.\",\n",
       " 'So they started being nice to me.',\n",
       " 'And they were nice to me till the time I was here.',\n",
       " 'In fact, they were nice to me till like last to last month because then I had some money crunch.',\n",
       " 'And let me tell you, when I came here and my father was like, you need not to do a part-time job.',\n",
       " \"We'll take care of everything.\",\n",
       " 'You need not to worry.',\n",
       " \"And all of that very reinforcing statements where I'm like, oh, my God, so good.\",\n",
       " 'and everything.',\n",
       " 'And then last year last month, I told him that I have to pay the installment for my housing and I do not have the money now.',\n",
       " 'Can you please do that for me?',\n",
       " 'Again, let me tell you, I do not come from a poor family.',\n",
       " \"My family does have money, but when I asked them from my money, that's where the problem started.\",\n",
       " 'Okay.',\n",
       " \"That's both conflict.\",\n",
       " 'Yes.',\n",
       " 'Because.',\n",
       " 'I have now started walking in Pandora.',\n",
       " \"So they were my father's statement is like, look at her.\",\n",
       " \"I don't know what she's up to.\",\n",
       " \"She's working in a shop now in a very condescending tone.\",\n",
       " \"She She's selling, I don't know what.\",\n",
       " 'What are you selling?',\n",
       " 'Shoe, spices, groceries, in that tone?',\n",
       " \"And this is happening in a call which is like early in the morning at 8 and I'm supposed to go to my shift at 9 and I'm listening all of this and I'm in tears because this is very humiliating to hear from your parents.\",\n",
       " \"And then he said this thing that, oh, she's the most poor one in the family.\",\n",
       " 'Give her some money.',\n",
       " \"And let me tell you, when I came here before that, I was working and I was making almost \\\\'a32,000 a month.\",\n",
       " 'Okay.',\n",
       " 'So I was doing well.',\n",
       " 'I was not doing bad.',\n",
       " \"It's just that a lot of people put me in horrible situations and I was like, I need to take a step for myself and I need to be out of the system.\",\n",
       " 'So I got out.',\n",
       " 'So now now again, we are in a conflict where we are not talking.',\n",
       " 'So this is my relationship with my parents, wherein it is love bombing, then it is nothing.',\n",
       " 'There is no trust, there is no support system wherein you can really go and tell them your real self.',\n",
       " \"It's just there.\",\n",
       " \"It's just there because it's a blood relationship and you have to carry on with it.\",\n",
       " \"That's it.\",\n",
       " \"So, how do you feel in these periods of when you're not talking?\",\n",
       " \"That's where all of my weird emotions start coming in.\",\n",
       " \"And more than emotions, I mean, I think I'll real emotions.\",\n",
       " 'Yeah, so.',\n",
       " \"There will be days where I I'll have breakdowns and I'll probably start crying in mourning and will cry till noon and then there are days I'll be completely numb wherein I don't I'm not feeling anything and I do not even want to feel anything.\",\n",
       " 'I do not want to do anything.',\n",
       " \"I'll be just in my room..\",\n",
       " 'There is something playing on the screen.',\n",
       " \"I want that constant noise in the background or play something and it is there and I'm just in my bed.\",\n",
       " \"That's it.\",\n",
       " \"That is the most comforting place for me and I'll end up sleeping.\",\n",
       " \"And usually as a person I do not sleep for more than six hours, but in those periods, I'll all of sudden I'll start sleeping for 12 hours, 16 hours.\",\n",
       " 'And that too, does not happening in one stretch.',\n",
       " \"I'll probably sleep at noon for no reason.\",\n",
       " \"I'm sleeping in the morning till 10, which I usually, I'm up by seven.\",\n",
       " \"I'm an early morning person, but then in those periods, all of a sudden this schedule will change.\",\n",
       " \"I'll not feel like talking to anyone.\",\n",
       " \"I'll start avoiding people majorly that happens a lot.\",\n",
       " \"I'll not talk to anyone.\",\n",
       " \"And even if my friends are making plans, I'll be like, oh, no, I'm busy.\",\n",
       " \"I'm doing this and I'm not doing anything.\",\n",
       " 'So all of all of that past, my academics will drop all of a sudden.',\n",
       " \"I'm usually a very competitive person and I'd like to give the best on everything but then all of a sudden academics is also like okay let's just finish this up and be done with it and they're done.\",\n",
       " 'But then after that, also, like probably this part will happen for a month a month and a half, then all of a sudden that will come inside me that I need to prove you wrong and I need to prove myself wrong.',\n",
       " 'My parents.',\n",
       " \"That I get it, that you have decided that I'm a horrible kid, but I need to prove you wrong.\",\n",
       " \"So I'll go on to this mission of doing a lot of work.\",\n",
       " \"All of a sudden I'll just bury myself up in work so much, so much that I'll not see anything around me.\",\n",
       " 'So that is my coping mechanis.',\n",
       " \"So either I'm just completely numb and in my room and I'm not talking to anyone, then all of a sudden I'm very social and I'm doing work all the time.\",\n",
       " 'So work is a very huge coping mechanism for me.',\n",
       " \"I'll be at work all the time.\",\n",
       " \"I'm probably working 13, 14 hours for no reason.\",\n",
       " 'So does it help, do you think?',\n",
       " 'The work working a lot?',\n",
       " 'does help with the emotions or the numbness or the new energy?',\n",
       " 'Yeah, because you do not get time to feel anything.',\n",
       " \"You don't have the time at all.\",\n",
       " \"And by the time you reach to your bed, you are so exhausted that you'll have to fall asleep, but then also you cannot sleep because I'll tell you what in the past four years I have also tried that when whenever they have pulled that stunt with me.\",\n",
       " 'So my last four year in the walk, which I was doing, my work was very demanding.',\n",
       " \"and I'd love that work because it was demanding and it never gave me any space to think about anything and to even have that sort of breakdown.\",\n",
       " 'But it started coming out in an altogether a very different manner.',\n",
       " 'I became very angry.',\n",
       " 'I used to lash out at people for no reason.',\n",
       " 'I had very hard time controlling my emotions, especially anger.',\n",
       " 'I was like supremely bitter with everyone.',\n",
       " 'I was angry all the time and you just have to trigger me a bit and there I am.',\n",
       " 'And initially I did not realise that pattern, but then I was in therapy for almost six months, two years back, six months I did that therapy and she did help me understanding all of these emotions.',\n",
       " \"The reason I'm able to talk about all of this very openly is because she help me articulate all of these thoughts.\",\n",
       " \"So she made me understand that, okay, this is your copic mechanism and what you're doing.\",\n",
       " 'Because I was burned out with work as well.',\n",
       " \"You're working 13, 14 hours a day, you're not living.\",\n",
       " \"I had this big of dark circus when I came here and I was like 10 kgG's more of my weight because my eating habits were like completely thrown off.\",\n",
       " 'I do not used to sleep.',\n",
       " \"It does used to help me a lot in terms of I'm avoiding the conflict.\",\n",
       " \"I am not in the problem, but I am in the problem and I'm just, it's basically like putting your head in the sand and saying that I workupied.\",\n",
       " 'So I was doing that.',\n",
       " 'I was I was doing that pretty well.',\n",
       " 'But these six months which I spent here, even though I knew that this is like, that was a dark place.',\n",
       " 'But it also held me solving and compartmentalising a lot of my emotions and I think probably I also navigated it because my parents were good to me then.',\n",
       " 'But now they have again got on to the bad terms.',\n",
       " 'So my real test is now that how am I going to survive this this time around because now I do not even have work to bury myself because you are you on the break from school.',\n",
       " 'You have a lot of free time.',\n",
       " 'Yes.',\n",
       " \"And you are working part-time only that they'll only let you work 20 hours a week and you want to work 20 hours a day.\",\n",
       " 'So you really do not have that as well.',\n",
       " \"So So what's your plan?\",\n",
       " \"What's my plan?\",\n",
       " \"I mean, I'm not really again, I'm making a list of things, which I am going to do, and I'm going to bury myself in it.\",\n",
       " 'But the funny bit is, so last week we went to an Edund Rut trip and I was busy there all the time.',\n",
       " 'I cried once and then I was like busy.',\n",
       " \"I'm busy all the time.\",\n",
       " 'I did not get time to do it.',\n",
       " \"But now when I'm back, I cried the entire day yesterday.\",\n",
       " 'Then I was completely in the bed all the time.',\n",
       " 'This morning, I was in a workshop.',\n",
       " \"Now I'm with you.\",\n",
       " \"Now I'll go out and do something else.\",\n",
       " 'So I am trying to keep myself busy and see where it goes.',\n",
       " \"But I also know that I need to resolve these emotions because I'm trying to take the adult approach on this and not be in this wishes circle forever because one thing which I promised myself when I came here is that I need to be out of this and I'm trying to take the steps to do that.\",\n",
       " \"I'm trying to engage more in physical activities.\",\n",
       " 'So I try and go work out intentionally.',\n",
       " \"Now, even though I'm not feeling like I booked a class at 530, now I'm going to do it.\",\n",
       " \"yeah, so I'm trying to take steps, but it is very hard.\",\n",
       " \"It is very hard to like, you know, I am I'm usually one of those people who will do hundred task in a day like this, but then on days like this, if I'm even doing five, that's a huge achievement for me.\",\n",
       " \"But then it also makes me feel guilty that you have all of this time and you're not doing anything.\",\n",
       " 'It puts you in that guilt as well and that sad emotion puts you off because I mean, I just give an incident.',\n",
       " 'I work in Pandora and I was there, day before yesterday and I was serving customers.',\n",
       " 'I served two dads who were buying gifts for their daughters.',\n",
       " \"I saw my manager's dad just come visit her to give her a hug, and that was very emotionally challenging for me to stand the job.\",\n",
       " 'So it does happen.',\n",
       " \"It does take a toll, but I'm really trying.\",\n",
       " \"I'm really trying.\",\n",
       " \"I really do not want to, my friends call me today and they're like, do you want to hang out?\",\n",
       " 'And I was like, probably.',\n",
       " 'And I tried to share.',\n",
       " 'The problem with me is that my personal relationships are so horrible, has been so horrible, Whether it is my parents or other personal things, that I also like do not let my guard down with people.',\n",
       " \"So I'm trying.\",\n",
       " \"I'm really trying this time.\",\n",
       " \"So do you have, do you think you've established some kind of support system?\",\n",
       " 'Yes.',\n",
       " 'Yeah.',\n",
       " 'And.',\n",
       " 'I mean, I cannot share the I do not share my suicidal thoughts with anyone because I do not want to put them in that worrisome place.',\n",
       " 'But at the very same time, I also have people now who look at my face and know that there is something terribly wrong and they are invested in my life.',\n",
       " 'And they have they also, I have two people, two people with whom I have like confronted the entire story.',\n",
       " \"And they know when I'm in a challenging place.\",\n",
       " \"So even if they know that I do not want to talk about this particular situation, they'll try and engage me in activities, which is probably like something just basic.\",\n",
       " 'So, yes, I do have those people at my life now.',\n",
       " 'And it does help a bit.',\n",
       " \"But yeah, again, it's me who at times just tries to hold down on the conversational as well.\",\n",
       " \"Like, even if they're trying to reach me, I'll be like, oh no, I'm not available.\",\n",
       " \"I'm busy.\",\n",
       " \"I'm busy with something.\",\n",
       " \"So you're refrain from your sharing?\",\n",
       " 'Yes, too much.',\n",
       " 'Yeah, yeah.',\n",
       " \"I'm afraid from sharing because one, I understand the burden of responsibility of others.\",\n",
       " \"That is what I've done my entire life, being responsible for my parents, my brother, then the office where I've worked, vir responsible there as well.\",\n",
       " \"So I know that when I'm sharing some information with others, it is also a responsibility on them.\",\n",
       " 'And I do not want them to feel that.',\n",
       " 'the responsibility of knowing.',\n",
       " 'Yes.',\n",
       " 'The responsibility of knowing.',\n",
       " \"I also know that when I have when I'm already burdened in my situation and someone comes in and they add on some extra burden to it or some extra thoughts to it, it does pull me down.\",\n",
       " 'I mean, so what would you feel if you actually told them?',\n",
       " \"I've tried doing that, and you know what?\",\n",
       " 'I get into a very awkward place then with them.',\n",
       " 'Yeah?',\n",
       " \"Yeah, because I'll be like, oh, now they know.\",\n",
       " 'Now they know, because it happened to me recently.',\n",
       " 'I was when I was in the strip I said that I started crying.',\n",
       " \"So I had a major breakdown and the guy from our group, he reached out to me and he was like, I have seen you been very upset in past couple of days and I really want to know what's happening with you.\",\n",
       " 'So in the first four attempts, I did not tell him anything.',\n",
       " 'The fifth attempt, I broke down and I told him everything and it came down as the blting a thing.',\n",
       " 'And then all of a sudden I got very awkward with that.',\n",
       " \"Because for me that has now changed the dynamics So the usual perception of me people's size that she summoned by is strong, very responsible, very independent, right, disciplined, and then all of a sudden that breaks down.\",\n",
       " 'So then all of a sudden, you were this little vulnerable person who is being taken care of.',\n",
       " \"And you don't want to be seen in that way.\",\n",
       " 'Not all the time.',\n",
       " 'Not all the time.',\n",
       " \"Because this also comes from a gender dynamic for me because as a woman, I have most of the people have dispersception when you enter a room is that oh, she's a woman she don't need to be taken care of.\",\n",
       " 'And I do not want that feeling always.',\n",
       " 'I know that I have got most of my shit handled.',\n",
       " \"It's just that there are certain things which I like certain people to take care of.\",\n",
       " 'And it is mostly their own actions, actually.',\n",
       " 'If they take care of that, most of the things will be, okay, if my parents took care of their own actions, probably I would have been okay.',\n",
       " 'My boyfriends took care of their action.',\n",
       " 'It would have been okay.',\n",
       " \"But I don't know.\",\n",
       " \"I mean, as soon as they start seeing me in that light of that little vulnerable person, it shifts that dynamic for me because then all of their text, like this guy, all of a sudden, all of his texts have started saying that don't take too much risk, do not be too much test.\",\n",
       " \"And I'm like, only if that was possible.\",\n",
       " 'Only if saying that would have resolved the problems.',\n",
       " 'But so that is the reason.',\n",
       " 'I usually avoid confronting people.',\n",
       " 'That is one.',\n",
       " \"The second reason, I'll tell you what is because a lot of people, especially the new people in my life, after coming here, they have not been on the same journey as me.\",\n",
       " 'I have had a very different journey and people usually have a different journey.',\n",
       " 'So when we are sharing all of these things with them, it comes out as a very strange thing to them that, oh, okay.',\n",
       " \"And there is probably no relation they can derive from what I'm saying, but they'll say that I understand and I'm like, you don't understand.\",\n",
       " 'I hate that statement when people say that I understand because you have not been in this place.',\n",
       " 'You really are not.',\n",
       " \"And what I'm really expecting out of them is to just listen and not judge and not say things like I understand and I am here with you because I also know that you cannot be here with me.\",\n",
       " 'You have got your own life.',\n",
       " \"So let's just be real.\",\n",
       " \"So I don't know.\",\n",
       " 'It just feels unreal to me when people say that sort of things.',\n",
       " \"You don't believe them.\",\n",
       " 'Yes.',\n",
       " 'I have a hard time believing because I have also had issues with people abandoning me.',\n",
       " \"And that is the reason when someone says that, oh, I'm here for you and oh, I understand.\",\n",
       " \"And I'm like, you're going to leave.\",\n",
       " 'I know that.',\n",
       " 'Was this because of your pre-stating experience or just with friends, like abandoning you?',\n",
       " 'See, uh..',\n",
       " \"I come out as a very, this strong, complex person in front of people, and that is the reason that people have this habit of taking my emotions for granted that she'll not be bothered by such small things.\",\n",
       " 'The thing is that I am bothered.',\n",
       " 'The problem has been that I never got my grandfather was my favourite human being.',\n",
       " 'And when he passed away, I did not even get to see him.',\n",
       " 'My father has not lived with me for most of my life and I have craved for that love a lot.',\n",
       " 'So and then he will abandon me as soon as I do something horrible.',\n",
       " 'Not even horrible.',\n",
       " \"Like something which he's not agreeing with can leave me like this.\",\n",
       " 'After that, I have her because I have never got to live in one place.',\n",
       " 'I have not had a permanent friend circle then after that you I started dating and then I have had people, the first person cheated horribly cheated and not only does he cheated, he got me pregnant.',\n",
       " 'Oh.',\n",
       " 'And he got to know that I was pregnant and he left because he learned that he were pregnant.',\n",
       " 'Yes.',\n",
       " 'He did not he did not take my call for a month and I handled that entire thing on my own.',\n",
       " \"I'm so sorry to hear that.\",\n",
       " 'I when I was what, 60, 60 Yeah.',\n",
       " 'I handed that entire thing on my.',\n",
       " 'Did you your parents, no?',\n",
       " 'No.',\n",
       " 'I handed that entire thing on my own, and this person left.',\n",
       " 'And he came back after a month and started behaving like it was nothing and I was like, I cannot take you anymore.',\n",
       " 'So my first, again, I felt abandoned there.',\n",
       " 'Then after that, I started dating someone and this person literally used to worship the floor I used to walk on.',\n",
       " 'He was so much in love with me.',\n",
       " 'Yes.',\n",
       " 'We lived in together for an year and then all of a sudden he was like, you know what?',\n",
       " 'I think I want to go home and do my family business.',\n",
       " 'And I was like, okay great.',\n",
       " \"I'm not going to stand in between your career, but are we still doing the relationship?\",\n",
       " \"And it's like, yeah, of course.\",\n",
       " 'He made me meet his family.',\n",
       " 'Which is like a really huge step in Indian culture.',\n",
       " 'I went to the wedding of his brother, spent three, four days with his family in his entire joint family of 2025 people.',\n",
       " 'And then after three months, he then started avoiding me all of a sudden.',\n",
       " 'And we are not talking.',\n",
       " \"He's not taking my calls.\",\n",
       " \"My friend spoke to him that why are you doing this to her and like she's she's in a horrible place here.\",\n",
       " \"So he was like, I'm going to come back.\",\n",
       " \"I'm going to fix everything.\",\n",
       " 'I know her.',\n",
       " \"She's still in love with me.\",\n",
       " 'And blah, blah, blah.',\n",
       " 'And it never happened.',\n",
       " 'You broke up after nine months.',\n",
       " 'I had to take that stuff where and I had to tell him that I cannot do this anymore.',\n",
       " \"I'm so tired of telling you that I need you.\",\n",
       " 'I mean, broke up.',\n",
       " 'After that I dated a person who chased me for one one and a half years that I want to date this girl.',\n",
       " 'I want to date this girl.',\n",
       " 'I was like, I do not want to date anyone.',\n",
       " 'Then he finally got me.',\n",
       " 'We started dating.',\n",
       " \"He went ahead and slept with someone else after an year and told me that I think I'm not meant for relationships and after chasing you.\",\n",
       " 'Yes.',\n",
       " 'And bang on after an ear, he got married to someone.',\n",
       " 'So, and then in all of this, I have known a guy for 10 years and the last four years we were dating each other.',\n",
       " 'This man has a continuous pattern of lying to me, doing extra relationships out of that relationship and when I finally decided that okay I cannot do this anymore I need to leave I left.',\n",
       " 'I have been he questions me on why you left.',\n",
       " 'You left this relationship.',\n",
       " 'One of my friend my girlfriends left with one of my boyfriends.',\n",
       " 'So that is the reason I have a major issues with trusting people.',\n",
       " \"I love people, I love humans, and I really try to be an empath because I know how it feels to be in a place where in you don't know what is going to happen next.\",\n",
       " \"I really try to be, but at the very same time I also try to keep my guards up in terms of you don't know how they're going to react the next moment.\",\n",
       " \"So it's very hard.\",\n",
       " \"And abandonment is something which I'm, like, pretty used to, that you will you'll probably say something else and do something else.\",\n",
       " \"The actions and Word don't match.\"]"
      ]
     },
     "execution_count": 57,
     "metadata": {},
     "output_type": "execute_result"
    }
   ],
   "source": [
    "sentences"
   ]
  },
  {
   "cell_type": "code",
   "execution_count": 58,
   "id": "f993f5dc",
   "metadata": {},
   "outputs": [
    {
     "data": {
      "text/plain": [
       "754"
      ]
     },
     "execution_count": 58,
     "metadata": {},
     "output_type": "execute_result"
    }
   ],
   "source": [
    "len(sentences)"
   ]
  },
  {
   "cell_type": "code",
   "execution_count": 59,
   "id": "37a9f5b1",
   "metadata": {},
   "outputs": [
    {
     "name": "stdout",
     "output_type": "stream",
     "text": [
      "Total number of sentences after filtering by length: 672\n"
     ]
    }
   ],
   "source": [
    "\n",
    "\n",
    "# # ----------------------------------------\n",
    "# reports = df['reflection_answer'].tolist()\n",
    "# print(f\"Loaded {len(reports)} (translated) documents for BERTopic modeling.\")\n",
    "# # ----------------------------------------\n",
    "\n",
    "# # ----------------------------------------\n",
    "# # Divide each report into sentences\n",
    "# reports_sentences = [nltk.sent_tokenize(report) for report in reports]\n",
    "\n",
    "# sentences = [sentence for report in reports_sentences for sentence in report]\n",
    "# print(f\"Total number of sentences across all reports: {len(sentences)}\")\n",
    "# # ----------------------------------------\n",
    "\n",
    "# filter sentences by min length\n",
    "min_word_count = 3\n",
    "sentences = [s for s in sentences if len(s.split()) >= min_word_count]\n",
    "print(f\"Total number of sentences after filtering by length: {len(sentences)}\")\n",
    "\n",
    "docs = sentences"
   ]
  },
  {
   "cell_type": "code",
   "execution_count": 60,
   "id": "57922a36",
   "metadata": {},
   "outputs": [
    {
     "data": {
      "text/plain": [
       "['For me, depression has been like in two phases, I would say.',\n",
       " \"So my first encounter with depression was pretty much, I think I'm a teenage.\",\n",
       " \"It's like high school kind of.\",\n",
       " 'Yeah, high school.',\n",
       " 'Because of I lost a really close friend.',\n",
       " 'And I went through.',\n",
       " 'I got cheated in a relationship as well.',\n",
       " 'So that was like a really challenging time for me.',\n",
       " 'And in terms of my househ case a lot of this narrator for me also comes from my household.',\n",
       " 'So I come from a very patriarchal and very dysfunctional sort of family.',\n",
       " 'So there is a lot of pressure for you to perform as a kid.',\n",
       " \"So while you're constantly struggling with that pressure of performing as a kid and then simultaneous theory also losing your support system So it's it's a very difficult path for you to navigate.\",\n",
       " 'And at that point I did not know that there is anything like called aression.',\n",
       " 'I mean, that was almost 12 years 12, 13 years back, actually, I think.',\n",
       " 'So at that point I was not really aware of there is a thing called oppression, but now when I look back at it, I realise that that is exactly when I had my first encounter with it.',\n",
       " 'So that mostly, for me, included was cutting off from everyone at being my own space suicidal thoughts.',\n",
       " 'I mean, I did try committing suicide twice.',\n",
       " 'At that point.',\n",
       " 'Yeah, back then.',\n",
       " 'And so I was, I mean, somehow got saved there, but after that, it took me like, and I also went through a huge disease at that point.',\n",
       " 'So Like physical.',\n",
       " 'Yeah, a physical disease as well.',\n",
       " 'So all in all, I was at my low, like the lowest and that was a really dark place for me.',\n",
       " 'So that is where my first encounter happened.',\n",
       " 'But then it has always reflected back whenever things have got really tough on me.',\n",
       " 'And other than that also in my general life, since then, what I have observed is that I try to suppress my emotions a lot I never feel excited about anything.',\n",
       " \"Like, that rarely happens that I'm super excited about anything.\",\n",
       " \"And I'll not.\",\n",
       " \"I mean, my you'll really see me extremely happy.\",\n",
       " \"You might find me sad, but happiness comes very It's a very difficult thing to me.\",\n",
       " \"And yeah, so in general, I mean, I'd be very stupid.\",\n",
       " \"I've had a very rough life, okay, in past or 10, 12 years, especially.\",\n",
       " 'It has been pretty rough.',\n",
       " 'So I usually do not get time to sit with my sadness because my life is so rigourous to me and it demands a lot.',\n",
       " \"But I also know that I'm struggling within to find my place and it takes it takes a toll some time wherein I'm soverburdened and I'll just cut off from everything and I'll lock myself in and I'll not I rarely express my problems to anyone till the time it is like at an outburst.\",\n",
       " 'This socidal thoughts also occur from time to time.',\n",
       " \"So I mean, after that I haven't tried committing, but it does come back that what if we just end everything and the problems should be gone?\",\n",
       " 'So you do think of that thing every now and then.',\n",
       " 'So, yeah, and right now, if I talk about like in past one year under the current moment, I feel like as you grow, you become very exported mastering your emotions.',\n",
       " \"You do know how to regulate things, but you also, yeah, I'm also very self-critical.\",\n",
       " \"I know that what is happening with, but I also know the pressure of projecting that how you're supposed to be because the world under situation and your living standards demand that.\",\n",
       " \"So I try to keep up with that and I'll probably do my best for two days or three days.\",\n",
       " \"But then I'm like, I cannot anymore and I'll just hold back.\",\n",
       " 'Two or three days in how long?',\n",
       " \"And in a week, I'm saying.\",\n",
       " \"So I'll probably wake up on Monday like, okay, I'm going to, we have got this and we're going to do everything.\",\n",
       " \"And then Monday and Tuesday, Wednesday and then Thursday will be like a huge downer all of a sudden then I would need to rot in the bed for that particular day and probably just play something and it's just lying there and I know that I'm not even watching it.\",\n",
       " \"It's just it's just there in the background.\",\n",
       " \"So yeah, that's how it has been because now I've moved from moved away from my home.\",\n",
       " \"I'm an international student.\",\n",
       " 'So you do not even have that community around you, that I do have friends, but of course, how close can you be in an year, okay?',\n",
       " 'So you then have the perfect amount of space where you want to cut off people and be on your own.',\n",
       " 'And I do that very often.',\n",
       " 'I mean, the initial six months, I was, I did not see anyone for like a really long time.',\n",
       " 'So especially the December to January was a really, really dark, I mean, some people would call it the seasonal thing, but for me too was in the seasonal thing.',\n",
       " 'I usually do not feel that sad during winterures, but then this time it was, I was.',\n",
       " \"Because because you're like abroad.\",\n",
       " \"And you have no connections, you have pressure to find a job, you have pressure to make money, you have pressure to do while you're near academics, I return to academics after like 10 years.\",\n",
       " \"And I was not really sure that if I'm going to make it because the kind of education I have had in my country and the education standards here are very different and the quiche meths are very different.\",\n",
       " 'So again, that is also adding a lot of pressure on you when you try to cook up and keep up with all of that, then there is also this pressure of that you are of a certain age and you do not have a dating life Why is that?',\n",
       " 'And why are you like, so you try to then question yourself as well, that is there the problem with me?',\n",
       " 'So there is a lot of questioning on that part as well.',\n",
       " \"So how that shows up is that I would sleep probably two entire days and then I'll start working.\",\n",
       " \"Then I'll be working for probably like a crazy person for another three days.\",\n",
       " \"And then I'll be like, now I'm tired and I'll again go back to sleep.\",\n",
       " \"I'll have like really random sleep scares.\",\n",
       " \"So so there's not much if every routine.\",\n",
       " 'Yeah, there is there is no routine, especially like in December and January, there was no routine.',\n",
       " 'I got back a bit in March and April, but now it is showing up again because now my classes are done.',\n",
       " 'And no external structure.',\n",
       " 'Yeah, so now you are again back in that zone.',\n",
       " \"Like, I spent approximately 16 hours sleeping yesterday and I don't know where they're tiredness is coming from because I'm not tired.\",\n",
       " 'I know that my body is not tired.',\n",
       " \"It's just that I'm mentally shutting down.\",\n",
       " 'I know that bit.',\n",
       " 'And it usually that for me, that pattern usually starts occurring when I have a lot of stress going on.',\n",
       " \"So that stress leads me to those that place wherein I'm in a very dark place then and all I would want us to do sleep eating or or doesn't attract me much.\",\n",
       " \"I'm like, okay, I'm just eating for surviving sort of thing.\",\n",
       " 'Yeah, no appetite.',\n",
       " \"I mean, you're just doing it because you have to sort of thing.\",\n",
       " 'So that happens and then mindless scrolling.',\n",
       " \"I'm not much of an Instagram person, but when this phase comes in, I'll probably spend four hours just scrolling.\",\n",
       " \"And I'm watching anything which is not even relevant to what I remotely watch.\",\n",
       " 'So it happens to me when there is a lot of stress which is beyond my control, especially actions which are beyond my control.',\n",
       " 'So For example.',\n",
       " 'Like, I have recently had a conflict with my parents.',\n",
       " 'Now, I know that this is something I cannot resolve.',\n",
       " \"So I'll have to just sit it down and I have to stay away.\",\n",
       " 'So this the reason why I mentioned families it has a very huge role as this because from past 12 years, my parents have this partner wherein they will pick one topic in an year.',\n",
       " \"and then we'll have a conflict on that and we'll not then probably speak for five, six months.\",\n",
       " \"Okay, so I have earlier I used to react very widely to it and used to call them and have arguments and everything, but now what I have done is that even I stay back and I don't say a thing.\",\n",
       " \"So even though people will feel like that I'm not reacting to it, but it is subconsciously in my head all the time and it keeps me, it makes me struggle in terms of regulating my emotions then.\",\n",
       " 'Regulating my life as well because it feels like then after that whatever comes out is a reaction of that.',\n",
       " \"So, like, all of a sudden I'll become uninterested in everything and I usually walk out four or five days a week.\",\n",
       " \"This week I've just fuck out once.\",\n",
       " 'So it then all of a sudden the entire, you will usually see me as a very disciplined person, but then all of a sudden everything crumbles down.',\n",
       " 'From the after the conflict, yes.',\n",
       " \"And that is where that this entire process of two, three months of holding back into that dark race goes wherein you're like just doing random things, which is which is not you or probably not doing anything at all probably spent sleeping and sometimes end the seating as well.\",\n",
       " \"Like usually don't eat junk.\",\n",
       " \"I've become very mindful of that, but then all of a sudden I'll have craving to eat junk and I'm eating junk all the time so that part also also happens and in general, avoiding people, and I'm not an intro, I'm not an introvert at all, they start avoiding people altogether.\",\n",
       " \"They not talk and I' be like I need space.\",\n",
       " 'So, yeah, that has been the bits and pieces of my journey so far.',\n",
       " \"There's a lot to unpack.\",\n",
       " 'But thank you for sharing.',\n",
       " 'So, would you mind.',\n",
       " 'Tell me a bit bit more about your relationship with your family, like growing up and, you know, this kind of conflicts, how, how does it happen?',\n",
       " 'How do you feel?',\n",
       " \"Yeah, so I'll just give you a bit of context on that.\",\n",
       " 'I was born in a really small village.',\n",
       " 'And my mother and father were married out of an arranged marriage.',\n",
       " \"So when you're talking about a village in India, you can like you can just imagine a family, which is ran by mail and they're allergies.\",\n",
       " 'The female in that house is just a follower and the doer of things.',\n",
       " 'You will often see abuse in that house on woman.',\n",
       " 'So you grew up in that environment.',\n",
       " 'And then my mother decided to be a protagonist and she decided that my kids are going to study in the city because I do not want them to have like a basic life.',\n",
       " 'I want them to have a better life than what I have.',\n",
       " 'So then my mother fought the system and my father and the family and everything, but she also tore us apart from a family.',\n",
       " 'You understand, because I was living with my grandparents and I was loved intensely there.',\n",
       " 'My father never really loved lived with us because he was living in this city earning money, okay?',\n",
       " 'And we were living in the village with my grandparents and my mom.',\n",
       " 'So I saw my father probably once or twice a year.',\n",
       " 'And after that, my mother decided to move us out of that house as well, and we moved to a different city to study and my father is living in a different city.',\n",
       " 'My grandparents are there in the village.',\n",
       " 'So you were living with your mother?',\n",
       " 'Just money siblings?',\n",
       " 'I have a younger sibling.',\n",
       " \"I'm just going to tell you about that as well.\",\n",
       " \"That's also very interesting story.\",\n",
       " 'So I have a younger sibling who is like three years, four years younger than me.',\n",
       " 'So now when we moved out of that house, my mother was trying to do everything in our capacity to take care of us.',\n",
       " 'We were not very financially in a great situation and my father, we used to he used to own like 10,000 rupees, which is almost what not even not even a hundred pound from here.',\n",
       " 'So that was our living there.',\n",
       " 'And we used to live in a shared house wherein you just get two rooms to live in.',\n",
       " \"So the setting for me, all of a sudden, changed, and I did not have that paternal love also, because my grandparents were there, my father wasn't there.\",\n",
       " 'And my mother took up that very strong role of fixing the life of her kids.',\n",
       " 'So she never was a very emotional mother.',\n",
       " \"I mean, I don't even remember her hugging me ever.\",\n",
       " 'So she was never a very emotional mother and that is where sadness started coming from for me because I remember myself crying to sleep in most of those nights because I used to miss my grandparents a lot and I did not have that support system there.',\n",
       " \"Plus, when you're from a village and then you all of a sudden move to a city school, you also get bullied on the fet.\",\n",
       " 'Oh, she does not know anything.',\n",
       " 'So that was also happening.',\n",
       " \"On top of that, I have my younger brother as well, who is who is, of course, he's also in the new system.\",\n",
       " 'So he also has load of his homework and everything.',\n",
       " 'So I used to take care of his studies as well.',\n",
       " \"and I'm taking care of my things as well.\",\n",
       " 'And my mother always forced us to be very independent, do everything on your own sort of thing.',\n",
       " \"Great to hear now, but then it was not at that point, that wasn't a great feeling.\",\n",
       " \"So that's how most of my childhood was.\",\n",
       " 'Then when I was in ninth standard, my father finally decided that we are going to live together.',\n",
       " 'So I moved to a different city now, which is bigger from the city where I was living originally.',\n",
       " 'So I have never had a permanent home.',\n",
       " 'I have always moved around.',\n",
       " \"This is probably my 17th house I'm living in.\",\n",
       " 'So I moved in, then we moved in with our father, mother, and I was like, okay, this is finally family.',\n",
       " 'We are going to live with as a family now.',\n",
       " 'I was that?',\n",
       " 'This was this was probably when I was 14 or 15, I believe.',\n",
       " 'So 14 years of my life like that, then after 14 years, this is happening.',\n",
       " \"I'm excited about this.\",\n",
       " 'But then what I did not realise was that it was not only me who was not living with my father and mother.',\n",
       " 'It was them also who never got to live together.',\n",
       " 'But when we started living together, the amount of conflicts they both had was crazy.',\n",
       " 'They argued a lot of a lot.',\n",
       " \"And not only that, it's it's just with my father being around, my mother was under this continuous pressure of pleasing him.\",\n",
       " 'And that meant for us as well to be in that pleasing behaviour.',\n",
       " \"Yeah, that don't do this, your father won't like this.\",\n",
       " \"Don't do this.\",\n",
       " \"Your father won't like this.\",\n",
       " \"Don't do this.\",\n",
       " \"Your father won't like it.\",\n",
       " \"So you're continuously walking on that eggshell that I'll probably do this and my father would just go crazy at the very same time again, you are now in a bigger school, in a bigger city.\",\n",
       " \"So you are again in that pressure where in you're bullied by names like, oh, she's a villager.\",\n",
       " 'Oh, she does not know anything.',\n",
       " \"So you're outcasted there as well.\",\n",
       " \"So we're struggling there.\",\n",
       " \"Now the thing about me is because I've been through so much change, so when I go to a new school, I take my one year when I getried.\",\n",
       " 'I did get bullied for one year.',\n",
       " 'But then I built up.',\n",
       " 'I built up, okay.',\n",
       " 'So I built up, I became a national level debater and, you know, I went to participate.',\n",
       " 'But then that behaviour was not only because I wanted to do that for myself.',\n",
       " 'It was also because I wanted to be a very great kid for my parents.',\n",
       " \"Someone who they'd look up to and they'd be like, that's a great kid.\",\n",
       " 'Because the reward system in my family was very much implemented from the Y start.',\n",
       " \"If you show the good behaviour, you'll be treated nice for like a couple of days.\",\n",
       " \"But as soon as you do one thing wrong, you'll be treated like you're no one.\",\n",
       " 'So that people pleasing behaviour started from there.',\n",
       " 'And it was also the attention and love which I wanted from others that if I do well, people do want to listen to you.',\n",
       " 'People do want to, you know, look up to you and you get that attention.',\n",
       " 'And this was the time when I started dating someone as well, because, again, I was living in that conflicted house.',\n",
       " 'I was getting no love.',\n",
       " 'I was I was continentously stabbed for that.',\n",
       " 'So I met a man who showed even a bit of interest in me.',\n",
       " 'So I decided not to have any background check or anything on him and just directly go into that relationship.',\n",
       " \"Then, of course, my parents don't know this.\",\n",
       " \"I'm doing this on my own.\",\n",
       " \"In all of this, while I was doing this, these national level roles and everything, and then I'm also doing a relationship and all of that, I then after a year got to know that I'm being cheated, this man is married and he was lying to me.\",\n",
       " 'So, and this is exactly when I lost my friend in an accident as well.',\n",
       " 'And this was also when after like in three months of a span, I was I got a deadly disease as well.',\n",
       " 'So and in that moment, what happened was that again, my father was very upset with whatever was happening and probably because now all of this is happening, so I lacked in my studies as well.',\n",
       " 'So in Indian education system, what happens is that once we are in the 10th standard, you get to choose your subjects, that what do you want your major to be in?',\n",
       " 'I wanted my major to be in arts or humanities.',\n",
       " 'My father said that if you want to do arts or humanities, you can leave education and you can go back to village and probably get married.',\n",
       " \"If you want to study, you'll have to study science.\",\n",
       " 'So I picked science.',\n",
       " 'I did science, but that was not my forte.',\n",
       " 'So I was continuously failing.',\n",
       " 'or probably just passing by minimum grades.',\n",
       " 'So the unhappiness was real in there, that you were all of a sudden a national level winner in certain competitions and then all of a sudden you are failing your classes So the disappointment was really big.',\n",
       " 'And in all of this, then my mother also got to know that I was dating someone.',\n",
       " \"So that was a big problem because that's not allowed.\",\n",
       " \"Let's frown upon in our culture, that how can you have a relationship?\",\n",
       " 'So is it usually like just you get married?',\n",
       " 'I pretty wish that Pretty wish that.',\n",
       " 'I mean, people are trying to be a bit open about it right now, but we are far from that.',\n",
       " 'We are very far from that.',\n",
       " \"Your relationships are hushed till the moment you both are like, okay about getting married and then also when you will tell your parents that there is someone who I'm going to get married to, you'll be like, I don't know, there'd be a huge, huge lot of drama.\",\n",
       " \"Like I'm till they scared of the fact that I'm going to call my parents someday and tell them that I have found a boyfriend and we're going to get, we are thinking of getting married that is going to be a problematic.\",\n",
       " 'I know that.',\n",
       " 'So, all of this is happening and then in between all of this, I got this deadly disease and I especially like to narrate that special incident because that actually will tell you a lot about my parents and the relationship I share with them.',\n",
       " 'So I was, I got I got pneumonia and my right lung was infected very badly.',\n",
       " 'But then when it started, nobody knew that what exactly is the problem?',\n",
       " 'Because I was just cuffing.',\n",
       " 'So my mom took me to a doctor and he gave me some medicines.',\n",
       " 'We came back and then all of a sudden after that, I started getting a bit of pain in my righteous.',\n",
       " \"So I'm in pain, I'm crying.\",\n",
       " 'This has started at noon.',\n",
       " 'My father came back in evening from his office.',\n",
       " \"He can see me that I am in pain and I'm like continuously crying and yelling and all of that.\",\n",
       " 'and this went on till three in the night when they decided that they are now going to take me to the hospital because now this has got out of hand.',\n",
       " 'And the reason why that happened was because my father was upset with me.',\n",
       " 'Because of the other things?',\n",
       " 'So he took his time, he took his own time to finally come to senses to take me to the hospital.',\n",
       " 'So I was like, okay, we went to the hospital and at that point of time in the night, only the emergency care is available.',\n",
       " \"So they said that that she probably could have stones or something in her kidney due to which she's getting the painain, we'll get to know in the morning when we will do the scan.\",\n",
       " 'For now we are just giving her painkillers and you can take her back home.',\n",
       " 'So I was just given an injection and I was sent back home.',\n",
       " \"Then we went in the morning and then they got to know that, okay, she has pneumonia and she's probably on a very dangerous stage wherein she'll have to be admitted.\",\n",
       " 'So I got admitted in the hospital.',\n",
       " 'The carelessness is to this level when I have had TB while I was two years old and they already know that the kind of history I have had with my language issues cool.',\n",
       " 'So that went on for one month and that is where my father finally felt a bit guilty and he let me have an admission in a designing school.',\n",
       " 'So I finally got into a designing school out of guilt, not out of, that was my graduation for which I got in.',\n",
       " \"And that's how my graduation started.\",\n",
       " 'And since then, I have always lived in hostels.',\n",
       " 'I have not lived with my parents after that.',\n",
       " 'Graduation after graduation, I have not lived with my parents.',\n",
       " \"So then also when I have lived in all of that scarios also, so my parents also have this habit of controlling money wherein they have money, but they'll give you peanuts because we do not have money.\",\n",
       " 'They like to create that scarcity for you.',\n",
       " \"I'm like, okay, I do not even mind that because I'll tell you what.\",\n",
       " \"I've also been a very low mentainous kid.\",\n",
       " \"You'll get me a dress probably once a year, I'm okay with that.\",\n",
       " 'I have never been one of those kids who have came home and asked my mother that I want this, I want that, I want no, never.',\n",
       " \"The basic amenities and I've been okay with that.\",\n",
       " 'So that is how my graduation went on in between all of that also, there was once this time when both my parents got into an accident.',\n",
       " 'So, and it was it was pretty.',\n",
       " 'My father fractured his hair and my mother had stitches on her head and it was.',\n",
       " \"I was very emotional and then I was like, I'll take up on a part-time job and I'll make money and I'll put in.\",\n",
       " 'And then they were like, no, this is not required, where you will see what whatever will happen So in India, you do not have the culture of working part-time, first of work.',\n",
       " 'You do a full-time job after your grad school probably, but not before that.',\n",
       " 'So all of that happened.',\n",
       " \"And then I' finally, I got a placement.\",\n",
       " 'I got placed in my last year of my graduation.',\n",
       " 'So after that, the place where my parents used to live and the place where I got the job was almost a two hour commute each side.',\n",
       " \"Okay, so you're commuting four hours a day, then you're going there working for nine hours.\",\n",
       " 'I did that for a month.',\n",
       " 'And then I told my parents that I think I should move out and go live there because this is very hectic.',\n",
       " \"And this is very unsafe also because I'll tell you what, in India, when you travel into public transport, there are very, very like, huge chances that you will beoled.\",\n",
       " 'And it will be touched in appropriately and all of that.',\n",
       " 'Plus, if I have to go to my office from the place I used to live, so I have to first take a do you know Tukok?',\n",
       " 'The sharing rides which you take in a small you take Yeah, yeah.',\n",
       " \"So you take that ride first for 30, 40 minutes, then you cook's not very safe, right?\",\n",
       " 'So you do that for 30, 40 minutes and then you go ahead and travel in a train for another one, one and a half hour and then you reach your office.',\n",
       " 'So that was my daily commute.',\n",
       " \"Yeah, that's a lot.\",\n",
       " 'and for me, it was a very practical decision, I was 20 years older than when I started working.',\n",
       " 'And to give you a bit of background, first of all, none of of the females in my family have ever worked, I was the first one to work and I have elder cousins than me.',\n",
       " \"I'm not the elder one here.\",\n",
       " \"I' I have elder cousins and my lineage who are in fact educated more than me as well, but they chose never do that.\",\n",
       " \"So you are so you understand for them also, it is a bit difficult because I'm the one who is breaking the cycle here and choosing a path which has not been chosen in the family So there was always a friction in that part that why are you doing this?\",\n",
       " \"So I said that I'm going to move out and that's again, led to my father being very upset and not talking to me for another six months because I moved out.\",\n",
       " 'Then, again, after that.',\n",
       " \"So how these conflicts also resolve, that he'll not talk to me for six months and then I'll go home and then we'll probably hang out together and he'll act like nothing happened.\",\n",
       " \"We'll not even talk about what happened in the past or why we did this or why did this happen.\",\n",
       " 'And both my father and mother both have the same thing.',\n",
       " 'They do the same thing.',\n",
       " 'My mother is a bit sadter.',\n",
       " \"What she does is that she doesn't overbear with you with love whenever she's in a good place with you.\",\n",
       " 'She She remains very normal.',\n",
       " \"She' do her normal.\",\n",
       " \"My father, on the other hand, he loved Bomb U when he's in a good place with you, okay?\",\n",
       " \"But when he's not in a good place with you, then he'll go completely on the silent treatment.\",\n",
       " \"So you really don't know where you stand with them.\",\n",
       " 'You are all always in that conflict.',\n",
       " 'So from there, from that year, that pattern started, then it moved on to the fact that we want you to put into an arranged marriage setup.',\n",
       " \"I was 23 then and I was like, no, I don't want to do this.\",\n",
       " \"I'm pretty young to do this.\",\n",
       " 'So I always, I have never said no to my parents, so that is also a big problem.',\n",
       " \"But then I started resisting that I don't want this.\",\n",
       " 'So for them, it was more like that now you earn money.',\n",
       " 'So you are you are throwing that money on our face.',\n",
       " 'And not listening to us.',\n",
       " 'Then after that, couple of fears passed.',\n",
       " 'and each year the same problem used to happen, like why are you not getting married?',\n",
       " \"I'm not I'm not going to get married.\",\n",
       " 'I do not want to put myself in a marriage setup.',\n",
       " 'Because the arranged marriage setup is very humiliating, I would say.',\n",
       " \"And I'll tell you the reason behind it.\",\n",
       " \"That is where my main conflict with my parents started, that you have a girl who's educated, who's earning her own money, and then you ask her that you pose a certain way in the picture, you wear certain thing in a picture because we need to send that to the family of the guy.\",\n",
       " \"And on top of that they'll ask for dowry from you to get me married.\",\n",
       " \"You'll pay probably somewhere around 20,000 to 30,000 pounds for me to get married to a guy who is who's probably even lesser educated than me, but has a job on basis of that job, he's getting, that money and I'm not getting anything.\",\n",
       " \"I'm just going to be go to his house and be responsible for his family, do things, and this entire narrative seems to me a very much a bullshit thought.\",\n",
       " 'I just cannot agree to this thought ever.',\n",
       " \"So the girl's family pays money, yes.\",\n",
       " \"And to send the girl to, yes, the guy's family, yes.\",\n",
       " 'And not only that, and that is called a gift, by the way.',\n",
       " 'They call it a gift.',\n",
       " \"that we't given a gift to Dr.ikishi is going to another house and we're like, okay, right.\",\n",
       " 'And you also take care of the entire event of the marriage, which is for three, four days.',\n",
       " 'So you spend another 20,000 pounds doing that.',\n",
       " 'And on On top of the family?',\n",
       " \"Yes, the girl's family.\",\n",
       " 'So all of this is happening, and then you go to those Are marus setups.',\n",
       " 'When you sit there, the kind of questions they ask you is, do you know how to cook?',\n",
       " \"And then you were asked, I mean, I have been continuously questioned about the fact that, oh, she's too tall for a girl.\",\n",
       " \"Oh, she's too tall.\",\n",
       " 'Oh, yeah, so you hear just body comments in between, I mean, you know, so I used to be like very skinny and when this disease thing happened because of the steroids and everything, which I was on at that point of time, I gained a lot of weight.',\n",
       " \"So then all of a sudden, oh, she's very fat.\",\n",
       " \"Oh, she's like this.\",\n",
       " 'So all of these comments are getting passed.',\n",
       " \"I mean, I have literally heard things like, can she send a picture wherein she's not wearing makeup?\",\n",
       " \"And I'm like, I am not wearing makeup in that picture.\",\n",
       " 'So these are the kind of things which you hear in an arranged marriage.',\n",
       " \"And not only that, after that, they'll ask, is she really earning?\",\n",
       " 'Can she send her salary slip?',\n",
       " 'I do not want to be a part of such humiliating process, and I told them that very clearly that this is not my cup of tea.',\n",
       " 'I cannot do this.',\n",
       " 'This is very embarrassing for me.',\n",
       " 'This is not about you.',\n",
       " 'This is this is literally not about.',\n",
       " 'This is very embarrassing for me as a person.',\n",
       " 'I probably I probably love to die alone rather than being in a place wherein I have to sell myself like this.',\n",
       " 'I just cannot.',\n",
       " 'So there was always a friction about that.',\n",
       " \"Then finally, I think two years back, I was like, okay, let's do it because I was just tired of that.\",\n",
       " \"And I was like, let's do it.\",\n",
       " 'So I did go into two to three arranged barots set up tape.',\n",
       " \"And then when I went there, So in one of the events, my parents were there and these guys family, this set up the time and date that this is why we're supposed to meet and she's supposed to come here.\",\n",
       " 'So I especially took an offer from my office to go there.',\n",
       " \"and the moment we were about to step out of the house, they called and said that, oh, we couldn't we cannot meet today and please do it some other day.\",\n",
       " 'So now my father is frustrated at them, but that frustration is coming on to us.',\n",
       " \"He'll feel probably yell at me for that.\",\n",
       " \"He's yelling at me for that.\",\n",
       " \"In between days, I'd also like to mention an episode wherein my father lost his job, okay?\",\n",
       " 'So I was the sole bread winner of my family at that point of time.',\n",
       " \"So I used to earn probably some \\\\'a3300 pounds a month.\",\n",
       " 'And out of that I used to give 100 pounds at home.',\n",
       " 'so that we can do the basic thing there.',\n",
       " \"My father one day was very upset about something, which was happening in the family, and he lashed out and said that, what do you think that you're giving us these hundred pounds and you have bought us?\",\n",
       " 'So these are the kind of comments which I have heard over a period of time from my parents.',\n",
       " \"So, you know, even though, I mean, I'll be very honest for, like, till the time I was 23, 24.\",\n",
       " \"I've hated them.\",\n",
       " 'I have literally hated them.',\n",
       " 'But then as you grow older, you try to develop a context of what has happened with them.',\n",
       " 'And I try to develop that context that probably we have outgrown them way too fast and they were not able to catch up with what has happening in our life and that is the reason they react like this.',\n",
       " 'and it tried to give them that empathy and that space.',\n",
       " 'The problem is there is not the same process from the other right.',\n",
       " 'And that always puts me in a conflict.',\n",
       " \"So when this marriage episode started again and all of this started happening again, I was like, this is very humiliating because I met a guy, you'll not believe he's first of all, has no personality.\",\n",
       " 'And then we spoke everything and he was so skilled to even talk to me.',\n",
       " \"Like, he's so scared.\",\n",
       " \"And he's like, okay, and then he just rushed into the entire thing and he's like, all right, I'm gonna go.\",\n",
       " \"And I'm like, okay.\",\n",
       " 'I mean, what can I do about it?',\n",
       " 'I just met you.',\n",
       " \"And then he went home and he said this thing that, oh, she's a very workaholic and I don't think so that she'll be able to take care of the family.\",\n",
       " 'And they are telling this to my father, and my father is all of son, are very sad about this.',\n",
       " \"And then I said to him that, okay, tell him that I'm going to leave my work.\",\n",
       " 'Is he going to take care of me then?',\n",
       " 'My father did not have any response to this.',\n",
       " 'He wanted me to get married to a guy who lives in some very small town.',\n",
       " \"He has his career, but he also knows that if I'll go and get married there, I'm not going to have a career.\",\n",
       " \"And he's like, why are you not getting married to that guy?\",\n",
       " \"He's he's happy to get married to you.\",\n",
       " 'Why are you not getting married to him?',\n",
       " 'So I was like, because I also have to think about my career.',\n",
       " \"I just cannot give up to a guy who has his thing and I'll be just living there doing nothing.\",\n",
       " 'What am I supposed to do?',\n",
       " 'I have a nine year of work experience.',\n",
       " 'What am I supposed to go living there?',\n",
       " 'What am I supposed to do?',\n",
       " \"I'm at a managerial role and now I'm going to leave all of this.\",\n",
       " 'Live with the question, no, I do not even know, do not even love just because I have to get married.',\n",
       " 'Again, that led to a very big drama and we were not talking again.',\n",
       " \"So I got tired all of of the bullshit so much that I decided that I'm going to leave the country.\",\n",
       " 'And I am leaving.',\n",
       " 'And they were not the only reason.',\n",
       " 'There were other reasons as well, but they were one of the reasons.',\n",
       " \"So I told them that I'm going to take up on higher education and I'm going to leave.\",\n",
       " \"Again, I'd like two problems because how can you, you are 30 and you are thinking of going for a masters now.\",\n",
       " 'How are you doing this?',\n",
       " 'We are not going to support you in this.',\n",
       " \"So they' backged up.\",\n",
       " 'Now it has, you have to pay to be here, you have to at least pay somewhere around 30 to 35,000 pounds.',\n",
       " 'You do not have that kind of money.',\n",
       " 'So you go to bank, you do a loan, and for a loan also, they will ask you for some collateral.',\n",
       " 'I do not even have that collateral.',\n",
       " 'This is where my brother comes in.',\n",
       " 'My brother was like, so he can put his salary as a collateral and we can get the loan.',\n",
       " 'So I did that entire process on my own.',\n",
       " 'They were not involved in it.',\n",
       " \"I did the all the paperwork on my own and it's very difficult to do everything on your own, especially when you have Indian government officials involved.\",\n",
       " 'Everything is very slow, very problematic and you have to fight through everything.',\n",
       " 'So yeah, so I did all of that on my own.',\n",
       " 'My brother used to support me a bit, but that was it.',\n",
       " 'That was that was it.',\n",
       " 'But I finally got my Visa and I was about to leave, they started being nice to me.',\n",
       " \"Hmm Because now they were like that she's leaving.\",\n",
       " 'So they started being nice to me.',\n",
       " 'And they were nice to me till the time I was here.',\n",
       " 'In fact, they were nice to me till like last to last month because then I had some money crunch.',\n",
       " 'And let me tell you, when I came here and my father was like, you need not to do a part-time job.',\n",
       " \"We'll take care of everything.\",\n",
       " 'You need not to worry.',\n",
       " \"And all of that very reinforcing statements where I'm like, oh, my God, so good.\",\n",
       " 'And then last year last month, I told him that I have to pay the installment for my housing and I do not have the money now.',\n",
       " 'Can you please do that for me?',\n",
       " 'Again, let me tell you, I do not come from a poor family.',\n",
       " \"My family does have money, but when I asked them from my money, that's where the problem started.\",\n",
       " \"That's both conflict.\",\n",
       " 'I have now started walking in Pandora.',\n",
       " \"So they were my father's statement is like, look at her.\",\n",
       " \"I don't know what she's up to.\",\n",
       " \"She's working in a shop now in a very condescending tone.\",\n",
       " \"She She's selling, I don't know what.\",\n",
       " 'What are you selling?',\n",
       " 'Shoe, spices, groceries, in that tone?',\n",
       " \"And this is happening in a call which is like early in the morning at 8 and I'm supposed to go to my shift at 9 and I'm listening all of this and I'm in tears because this is very humiliating to hear from your parents.\",\n",
       " \"And then he said this thing that, oh, she's the most poor one in the family.\",\n",
       " 'Give her some money.',\n",
       " \"And let me tell you, when I came here before that, I was working and I was making almost \\\\'a32,000 a month.\",\n",
       " 'So I was doing well.',\n",
       " 'I was not doing bad.',\n",
       " \"It's just that a lot of people put me in horrible situations and I was like, I need to take a step for myself and I need to be out of the system.\",\n",
       " 'So I got out.',\n",
       " 'So now now again, we are in a conflict where we are not talking.',\n",
       " 'So this is my relationship with my parents, wherein it is love bombing, then it is nothing.',\n",
       " 'There is no trust, there is no support system wherein you can really go and tell them your real self.',\n",
       " \"It's just there.\",\n",
       " \"It's just there because it's a blood relationship and you have to carry on with it.\",\n",
       " \"So, how do you feel in these periods of when you're not talking?\",\n",
       " \"That's where all of my weird emotions start coming in.\",\n",
       " \"And more than emotions, I mean, I think I'll real emotions.\",\n",
       " \"There will be days where I I'll have breakdowns and I'll probably start crying in mourning and will cry till noon and then there are days I'll be completely numb wherein I don't I'm not feeling anything and I do not even want to feel anything.\",\n",
       " 'I do not want to do anything.',\n",
       " \"I'll be just in my room..\",\n",
       " 'There is something playing on the screen.',\n",
       " \"I want that constant noise in the background or play something and it is there and I'm just in my bed.\",\n",
       " \"That is the most comforting place for me and I'll end up sleeping.\",\n",
       " \"And usually as a person I do not sleep for more than six hours, but in those periods, I'll all of sudden I'll start sleeping for 12 hours, 16 hours.\",\n",
       " 'And that too, does not happening in one stretch.',\n",
       " \"I'll probably sleep at noon for no reason.\",\n",
       " \"I'm sleeping in the morning till 10, which I usually, I'm up by seven.\",\n",
       " \"I'm an early morning person, but then in those periods, all of a sudden this schedule will change.\",\n",
       " \"I'll not feel like talking to anyone.\",\n",
       " \"I'll start avoiding people majorly that happens a lot.\",\n",
       " \"I'll not talk to anyone.\",\n",
       " \"And even if my friends are making plans, I'll be like, oh, no, I'm busy.\",\n",
       " \"I'm doing this and I'm not doing anything.\",\n",
       " 'So all of all of that past, my academics will drop all of a sudden.',\n",
       " \"I'm usually a very competitive person and I'd like to give the best on everything but then all of a sudden academics is also like okay let's just finish this up and be done with it and they're done.\",\n",
       " 'But then after that, also, like probably this part will happen for a month a month and a half, then all of a sudden that will come inside me that I need to prove you wrong and I need to prove myself wrong.',\n",
       " \"That I get it, that you have decided that I'm a horrible kid, but I need to prove you wrong.\",\n",
       " \"So I'll go on to this mission of doing a lot of work.\",\n",
       " \"All of a sudden I'll just bury myself up in work so much, so much that I'll not see anything around me.\",\n",
       " 'So that is my coping mechanis.',\n",
       " \"So either I'm just completely numb and in my room and I'm not talking to anyone, then all of a sudden I'm very social and I'm doing work all the time.\",\n",
       " 'So work is a very huge coping mechanism for me.',\n",
       " \"I'll be at work all the time.\",\n",
       " \"I'm probably working 13, 14 hours for no reason.\",\n",
       " 'So does it help, do you think?',\n",
       " 'The work working a lot?',\n",
       " 'does help with the emotions or the numbness or the new energy?',\n",
       " 'Yeah, because you do not get time to feel anything.',\n",
       " \"You don't have the time at all.\",\n",
       " \"And by the time you reach to your bed, you are so exhausted that you'll have to fall asleep, but then also you cannot sleep because I'll tell you what in the past four years I have also tried that when whenever they have pulled that stunt with me.\",\n",
       " 'So my last four year in the walk, which I was doing, my work was very demanding.',\n",
       " \"and I'd love that work because it was demanding and it never gave me any space to think about anything and to even have that sort of breakdown.\",\n",
       " 'But it started coming out in an altogether a very different manner.',\n",
       " 'I became very angry.',\n",
       " 'I used to lash out at people for no reason.',\n",
       " 'I had very hard time controlling my emotions, especially anger.',\n",
       " 'I was like supremely bitter with everyone.',\n",
       " 'I was angry all the time and you just have to trigger me a bit and there I am.',\n",
       " 'And initially I did not realise that pattern, but then I was in therapy for almost six months, two years back, six months I did that therapy and she did help me understanding all of these emotions.',\n",
       " \"The reason I'm able to talk about all of this very openly is because she help me articulate all of these thoughts.\",\n",
       " \"So she made me understand that, okay, this is your copic mechanism and what you're doing.\",\n",
       " 'Because I was burned out with work as well.',\n",
       " \"You're working 13, 14 hours a day, you're not living.\",\n",
       " \"I had this big of dark circus when I came here and I was like 10 kgG's more of my weight because my eating habits were like completely thrown off.\",\n",
       " 'I do not used to sleep.',\n",
       " \"It does used to help me a lot in terms of I'm avoiding the conflict.\",\n",
       " \"I am not in the problem, but I am in the problem and I'm just, it's basically like putting your head in the sand and saying that I workupied.\",\n",
       " 'So I was doing that.',\n",
       " 'I was I was doing that pretty well.',\n",
       " 'But these six months which I spent here, even though I knew that this is like, that was a dark place.',\n",
       " 'But it also held me solving and compartmentalising a lot of my emotions and I think probably I also navigated it because my parents were good to me then.',\n",
       " 'But now they have again got on to the bad terms.',\n",
       " 'So my real test is now that how am I going to survive this this time around because now I do not even have work to bury myself because you are you on the break from school.',\n",
       " 'You have a lot of free time.',\n",
       " \"And you are working part-time only that they'll only let you work 20 hours a week and you want to work 20 hours a day.\",\n",
       " 'So you really do not have that as well.',\n",
       " \"So So what's your plan?\",\n",
       " \"What's my plan?\",\n",
       " \"I mean, I'm not really again, I'm making a list of things, which I am going to do, and I'm going to bury myself in it.\",\n",
       " 'But the funny bit is, so last week we went to an Edund Rut trip and I was busy there all the time.',\n",
       " 'I cried once and then I was like busy.',\n",
       " \"I'm busy all the time.\",\n",
       " 'I did not get time to do it.',\n",
       " \"But now when I'm back, I cried the entire day yesterday.\",\n",
       " 'Then I was completely in the bed all the time.',\n",
       " 'This morning, I was in a workshop.',\n",
       " \"Now I'm with you.\",\n",
       " \"Now I'll go out and do something else.\",\n",
       " 'So I am trying to keep myself busy and see where it goes.',\n",
       " \"But I also know that I need to resolve these emotions because I'm trying to take the adult approach on this and not be in this wishes circle forever because one thing which I promised myself when I came here is that I need to be out of this and I'm trying to take the steps to do that.\",\n",
       " \"I'm trying to engage more in physical activities.\",\n",
       " 'So I try and go work out intentionally.',\n",
       " \"Now, even though I'm not feeling like I booked a class at 530, now I'm going to do it.\",\n",
       " \"yeah, so I'm trying to take steps, but it is very hard.\",\n",
       " \"It is very hard to like, you know, I am I'm usually one of those people who will do hundred task in a day like this, but then on days like this, if I'm even doing five, that's a huge achievement for me.\",\n",
       " \"But then it also makes me feel guilty that you have all of this time and you're not doing anything.\",\n",
       " 'It puts you in that guilt as well and that sad emotion puts you off because I mean, I just give an incident.',\n",
       " 'I work in Pandora and I was there, day before yesterday and I was serving customers.',\n",
       " 'I served two dads who were buying gifts for their daughters.',\n",
       " \"I saw my manager's dad just come visit her to give her a hug, and that was very emotionally challenging for me to stand the job.\",\n",
       " 'So it does happen.',\n",
       " \"It does take a toll, but I'm really trying.\",\n",
       " \"I'm really trying.\",\n",
       " \"I really do not want to, my friends call me today and they're like, do you want to hang out?\",\n",
       " 'And I was like, probably.',\n",
       " 'And I tried to share.',\n",
       " 'The problem with me is that my personal relationships are so horrible, has been so horrible, Whether it is my parents or other personal things, that I also like do not let my guard down with people.',\n",
       " \"So I'm trying.\",\n",
       " \"I'm really trying this time.\",\n",
       " \"So do you have, do you think you've established some kind of support system?\",\n",
       " 'I mean, I cannot share the I do not share my suicidal thoughts with anyone because I do not want to put them in that worrisome place.',\n",
       " 'But at the very same time, I also have people now who look at my face and know that there is something terribly wrong and they are invested in my life.',\n",
       " 'And they have they also, I have two people, two people with whom I have like confronted the entire story.',\n",
       " \"And they know when I'm in a challenging place.\",\n",
       " \"So even if they know that I do not want to talk about this particular situation, they'll try and engage me in activities, which is probably like something just basic.\",\n",
       " 'So, yes, I do have those people at my life now.',\n",
       " 'And it does help a bit.',\n",
       " \"But yeah, again, it's me who at times just tries to hold down on the conversational as well.\",\n",
       " \"Like, even if they're trying to reach me, I'll be like, oh no, I'm not available.\",\n",
       " \"I'm busy with something.\",\n",
       " \"So you're refrain from your sharing?\",\n",
       " 'Yes, too much.',\n",
       " \"I'm afraid from sharing because one, I understand the burden of responsibility of others.\",\n",
       " \"That is what I've done my entire life, being responsible for my parents, my brother, then the office where I've worked, vir responsible there as well.\",\n",
       " \"So I know that when I'm sharing some information with others, it is also a responsibility on them.\",\n",
       " 'And I do not want them to feel that.',\n",
       " 'the responsibility of knowing.',\n",
       " 'The responsibility of knowing.',\n",
       " \"I also know that when I have when I'm already burdened in my situation and someone comes in and they add on some extra burden to it or some extra thoughts to it, it does pull me down.\",\n",
       " 'I mean, so what would you feel if you actually told them?',\n",
       " \"I've tried doing that, and you know what?\",\n",
       " 'I get into a very awkward place then with them.',\n",
       " \"Yeah, because I'll be like, oh, now they know.\",\n",
       " 'Now they know, because it happened to me recently.',\n",
       " 'I was when I was in the strip I said that I started crying.',\n",
       " \"So I had a major breakdown and the guy from our group, he reached out to me and he was like, I have seen you been very upset in past couple of days and I really want to know what's happening with you.\",\n",
       " 'So in the first four attempts, I did not tell him anything.',\n",
       " 'The fifth attempt, I broke down and I told him everything and it came down as the blting a thing.',\n",
       " 'And then all of a sudden I got very awkward with that.',\n",
       " \"Because for me that has now changed the dynamics So the usual perception of me people's size that she summoned by is strong, very responsible, very independent, right, disciplined, and then all of a sudden that breaks down.\",\n",
       " 'So then all of a sudden, you were this little vulnerable person who is being taken care of.',\n",
       " \"And you don't want to be seen in that way.\",\n",
       " 'Not all the time.',\n",
       " 'Not all the time.',\n",
       " \"Because this also comes from a gender dynamic for me because as a woman, I have most of the people have dispersception when you enter a room is that oh, she's a woman she don't need to be taken care of.\",\n",
       " 'And I do not want that feeling always.',\n",
       " 'I know that I have got most of my shit handled.',\n",
       " \"It's just that there are certain things which I like certain people to take care of.\",\n",
       " 'And it is mostly their own actions, actually.',\n",
       " 'If they take care of that, most of the things will be, okay, if my parents took care of their own actions, probably I would have been okay.',\n",
       " 'My boyfriends took care of their action.',\n",
       " 'It would have been okay.',\n",
       " \"But I don't know.\",\n",
       " \"I mean, as soon as they start seeing me in that light of that little vulnerable person, it shifts that dynamic for me because then all of their text, like this guy, all of a sudden, all of his texts have started saying that don't take too much risk, do not be too much test.\",\n",
       " \"And I'm like, only if that was possible.\",\n",
       " 'Only if saying that would have resolved the problems.',\n",
       " 'But so that is the reason.',\n",
       " 'I usually avoid confronting people.',\n",
       " 'That is one.',\n",
       " \"The second reason, I'll tell you what is because a lot of people, especially the new people in my life, after coming here, they have not been on the same journey as me.\",\n",
       " 'I have had a very different journey and people usually have a different journey.',\n",
       " 'So when we are sharing all of these things with them, it comes out as a very strange thing to them that, oh, okay.',\n",
       " \"And there is probably no relation they can derive from what I'm saying, but they'll say that I understand and I'm like, you don't understand.\",\n",
       " 'I hate that statement when people say that I understand because you have not been in this place.',\n",
       " 'You really are not.',\n",
       " \"And what I'm really expecting out of them is to just listen and not judge and not say things like I understand and I am here with you because I also know that you cannot be here with me.\",\n",
       " 'You have got your own life.',\n",
       " \"So let's just be real.\",\n",
       " \"So I don't know.\",\n",
       " 'It just feels unreal to me when people say that sort of things.',\n",
       " \"You don't believe them.\",\n",
       " 'I have a hard time believing because I have also had issues with people abandoning me.',\n",
       " \"And that is the reason when someone says that, oh, I'm here for you and oh, I understand.\",\n",
       " \"And I'm like, you're going to leave.\",\n",
       " 'I know that.',\n",
       " 'Was this because of your pre-stating experience or just with friends, like abandoning you?',\n",
       " \"I come out as a very, this strong, complex person in front of people, and that is the reason that people have this habit of taking my emotions for granted that she'll not be bothered by such small things.\",\n",
       " 'The thing is that I am bothered.',\n",
       " 'The problem has been that I never got my grandfather was my favourite human being.',\n",
       " 'And when he passed away, I did not even get to see him.',\n",
       " 'My father has not lived with me for most of my life and I have craved for that love a lot.',\n",
       " 'So and then he will abandon me as soon as I do something horrible.',\n",
       " 'Not even horrible.',\n",
       " \"Like something which he's not agreeing with can leave me like this.\",\n",
       " 'After that, I have her because I have never got to live in one place.',\n",
       " 'I have not had a permanent friend circle then after that you I started dating and then I have had people, the first person cheated horribly cheated and not only does he cheated, he got me pregnant.',\n",
       " 'And he got to know that I was pregnant and he left because he learned that he were pregnant.',\n",
       " 'He did not he did not take my call for a month and I handled that entire thing on my own.',\n",
       " \"I'm so sorry to hear that.\",\n",
       " 'I when I was what, 60, 60 Yeah.',\n",
       " 'I handed that entire thing on my.',\n",
       " 'Did you your parents, no?',\n",
       " 'I handed that entire thing on my own, and this person left.',\n",
       " 'And he came back after a month and started behaving like it was nothing and I was like, I cannot take you anymore.',\n",
       " 'So my first, again, I felt abandoned there.',\n",
       " 'Then after that, I started dating someone and this person literally used to worship the floor I used to walk on.',\n",
       " 'He was so much in love with me.',\n",
       " 'We lived in together for an year and then all of a sudden he was like, you know what?',\n",
       " 'I think I want to go home and do my family business.',\n",
       " 'And I was like, okay great.',\n",
       " \"I'm not going to stand in between your career, but are we still doing the relationship?\",\n",
       " \"And it's like, yeah, of course.\",\n",
       " 'He made me meet his family.',\n",
       " 'Which is like a really huge step in Indian culture.',\n",
       " 'I went to the wedding of his brother, spent three, four days with his family in his entire joint family of 2025 people.',\n",
       " 'And then after three months, he then started avoiding me all of a sudden.',\n",
       " 'And we are not talking.',\n",
       " \"He's not taking my calls.\",\n",
       " \"My friend spoke to him that why are you doing this to her and like she's she's in a horrible place here.\",\n",
       " \"So he was like, I'm going to come back.\",\n",
       " \"I'm going to fix everything.\",\n",
       " 'I know her.',\n",
       " \"She's still in love with me.\",\n",
       " 'And blah, blah, blah.',\n",
       " 'And it never happened.',\n",
       " 'You broke up after nine months.',\n",
       " 'I had to take that stuff where and I had to tell him that I cannot do this anymore.',\n",
       " \"I'm so tired of telling you that I need you.\",\n",
       " 'I mean, broke up.',\n",
       " 'After that I dated a person who chased me for one one and a half years that I want to date this girl.',\n",
       " 'I want to date this girl.',\n",
       " 'I was like, I do not want to date anyone.',\n",
       " 'Then he finally got me.',\n",
       " 'We started dating.',\n",
       " \"He went ahead and slept with someone else after an year and told me that I think I'm not meant for relationships and after chasing you.\",\n",
       " 'And bang on after an ear, he got married to someone.',\n",
       " 'So, and then in all of this, I have known a guy for 10 years and the last four years we were dating each other.',\n",
       " 'This man has a continuous pattern of lying to me, doing extra relationships out of that relationship and when I finally decided that okay I cannot do this anymore I need to leave I left.',\n",
       " 'I have been he questions me on why you left.',\n",
       " 'You left this relationship.',\n",
       " 'One of my friend my girlfriends left with one of my boyfriends.',\n",
       " 'So that is the reason I have a major issues with trusting people.',\n",
       " \"I love people, I love humans, and I really try to be an empath because I know how it feels to be in a place where in you don't know what is going to happen next.\",\n",
       " \"I really try to be, but at the very same time I also try to keep my guards up in terms of you don't know how they're going to react the next moment.\",\n",
       " \"So it's very hard.\",\n",
       " \"And abandonment is something which I'm, like, pretty used to, that you will you'll probably say something else and do something else.\",\n",
       " \"The actions and Word don't match.\"]"
      ]
     },
     "execution_count": 60,
     "metadata": {},
     "output_type": "execute_result"
    }
   ],
   "source": [
    "sentences"
   ]
  },
  {
   "cell_type": "code",
   "execution_count": 61,
   "id": "80572162",
   "metadata": {},
   "outputs": [],
   "source": [
    "from huggingface_hub import hf_hub_download  # For loading the model instance from Hugging Face\n",
    "import os  # For creating system directories\n",
    "from llama_cpp import Llama  # LLM Wrapper\n",
    "from bertopic.representation import KeyBERTInspired, LlamaCPP  # Representation Comparison\n",
    "from sentence_transformers import SentenceTransformer  # Embedding Model Wrapper\n",
    "from umap import UMAP\n",
    "from hdbscan import HDBSCAN\n",
    "from bertopic import BERTopic  # For topic modeling with BERTopic\n",
    "import PIL  # For image processing\n",
    "import numpy as np  # For numerical computations\n",
    "import requests  # For making HTTP requests\n",
    "import datamapplot  # For data visualization\n",
    "import re  # For regular expressions"
   ]
  },
  {
   "cell_type": "code",
   "execution_count": 62,
   "id": "3f2220fa",
   "metadata": {},
   "outputs": [
    {
     "name": "stderr",
     "output_type": "stream",
     "text": [
      "llama_init_from_model: n_ctx_per_seq (4096) < n_ctx_train (8192) -- the full capacity of the model will not be utilized\n",
      "ggml_metal_init: skipping kernel_get_rows_bf16                     (not supported)\n",
      "ggml_metal_init: skipping kernel_mul_mv_bf16_f32                   (not supported)\n",
      "ggml_metal_init: skipping kernel_mul_mv_bf16_f32_1row              (not supported)\n",
      "ggml_metal_init: skipping kernel_mul_mv_bf16_f32_l4                (not supported)\n",
      "ggml_metal_init: skipping kernel_mul_mv_bf16_bf16                  (not supported)\n",
      "ggml_metal_init: skipping kernel_mul_mv_id_bf16_f32                (not supported)\n",
      "ggml_metal_init: skipping kernel_mul_mm_bf16_f32                   (not supported)\n",
      "ggml_metal_init: skipping kernel_mul_mm_id_bf16_f32                (not supported)\n",
      "ggml_metal_init: skipping kernel_flash_attn_ext_bf16_h64           (not supported)\n",
      "ggml_metal_init: skipping kernel_flash_attn_ext_bf16_h80           (not supported)\n",
      "ggml_metal_init: skipping kernel_flash_attn_ext_bf16_h96           (not supported)\n",
      "ggml_metal_init: skipping kernel_flash_attn_ext_bf16_h112          (not supported)\n",
      "ggml_metal_init: skipping kernel_flash_attn_ext_bf16_h128          (not supported)\n",
      "ggml_metal_init: skipping kernel_flash_attn_ext_bf16_h256          (not supported)\n",
      "ggml_metal_init: skipping kernel_flash_attn_ext_vec_bf16_h128      (not supported)\n",
      "ggml_metal_init: skipping kernel_flash_attn_ext_vec_bf16_h256      (not supported)\n",
      "ggml_metal_init: skipping kernel_cpy_f32_bf16                      (not supported)\n",
      "ggml_metal_init: skipping kernel_cpy_bf16_f32                      (not supported)\n",
      "ggml_metal_init: skipping kernel_cpy_bf16_bf16                     (not supported)\n"
     ]
    }
   ],
   "source": [
    "model_name_or_path = \"NousResearch/Meta-Llama-3-8B-Instruct-GGUF\"\n",
    "model_basename = \"Meta-Llama-3-8B-Instruct-Q4_K_M.gguf\"\n",
    "os.makedirs('model', exist_ok=True)\n",
    "path = \"model\"\n",
    "\n",
    "\n",
    "# Downloading the model from repo\n",
    "model_path = hf_hub_download(repo_id=model_name_or_path, filename=model_basename) #, cache_dir=path)\n",
    "\n",
    "\n",
    "# Use llama.cpp to load in a Quantized LLM\n",
    "llm = Llama(model_path=model_path, \n",
    "            n_gpu_layers=-1, #offload all possible layers of the model to the GPU\n",
    "            n_ctx=4096, \n",
    "            stop=[\"Q:\", \"\\n\"],\n",
    "            verbose=False)"
   ]
  },
  {
   "cell_type": "code",
   "execution_count": 63,
   "id": "f3d2301b",
   "metadata": {},
   "outputs": [
    {
     "data": {
      "application/vnd.jupyter.widget-view+json": {
       "model_id": "68216d6d933a456f8668a8f3a4e00dd8",
       "version_major": 2,
       "version_minor": 0
      },
      "text/plain": [
       "Batches:   0%|          | 0/21 [00:00<?, ?it/s]"
      ]
     },
     "metadata": {},
     "output_type": "display_data"
    }
   ],
   "source": [
    "prompt = \"\"\" Q:\n",
    "I have a topic that contains the following documents:\n",
    "[DOCUMENTS]\n",
    "\n",
    "\n",
    "The topic is described by the following keywords: '[KEYWORDS]'.\n",
    "\n",
    "\n",
    "Based on the above information, can you give a short label of the topic of at most 5 words?\n",
    "A:\n",
    "\"\"\"\n",
    "\n",
    "\n",
    "representation_model = {\n",
    "   \"KeyBERT\": KeyBERTInspired(),\n",
    "   \"LLM\": LlamaCPP(llm, prompt=prompt),\n",
    "}\n",
    "\n",
    "\n",
    "# Pre-calculate embeddings\n",
    "embedding_model = SentenceTransformer(\"BAAI/bge-small-en-v1.5\")\n",
    "embeddings = embedding_model.encode(docs, show_progress_bar=True)\n",
    "\n",
    "\n",
    "# Pre-reduce embeddings for visualization purposes\n",
    "reduced_embeddings = UMAP(n_neighbors=10, n_components=2, min_dist=0.0, metric='cosine', random_state=42).fit_transform(embeddings)\n",
    "\n",
    "vectorizer = CountVectorizer(ngram_range=(1, 3), stop_words='english')\n",
    "\n",
    "\n",
    "\n",
    "\n",
    "# Define sub-models\n",
    "umap_model = UMAP(n_neighbors=10, n_components=5, min_dist=0.0, metric='cosine', random_state=42)\n",
    "hdbscan_model = HDBSCAN(min_cluster_size=10, metric='euclidean', cluster_selection_method='eom', prediction_data=True)"
   ]
  },
  {
   "cell_type": "code",
   "execution_count": 64,
   "id": "59bf9723",
   "metadata": {},
   "outputs": [
    {
     "name": "stderr",
     "output_type": "stream",
     "text": [
      "2025-06-24 13:43:27,597 - BERTopic - Dimensionality - Fitting the dimensionality reduction algorithm\n",
      "2025-06-24 13:43:28,446 - BERTopic - Dimensionality - Completed ✓\n",
      "2025-06-24 13:43:28,447 - BERTopic - Cluster - Start clustering the reduced embeddings\n",
      "2025-06-24 13:43:28,460 - BERTopic - Cluster - Completed ✓\n",
      "2025-06-24 13:43:28,460 - BERTopic - Representation - Extracting topics using c-TF-IDF for topic reduction.\n",
      "2025-06-24 13:43:28,481 - BERTopic - Representation - Completed ✓\n",
      "2025-06-24 13:43:28,481 - BERTopic - Topic reduction - Reducing number of topics\n",
      "2025-06-24 13:43:28,485 - BERTopic - Representation - Fine-tuning topics using representation models.\n",
      "100%|██████████| 13/13 [00:22<00:00,  1.70s/it]\n",
      "2025-06-24 13:43:51,733 - BERTopic - Representation - Completed ✓\n",
      "2025-06-24 13:43:51,741 - BERTopic - Topic reduction - Reduced number of topics from 13 to 13\n"
     ]
    },
    {
     "data": {
      "text/html": [
       "<div>\n",
       "<style scoped>\n",
       "    .dataframe tbody tr th:only-of-type {\n",
       "        vertical-align: middle;\n",
       "    }\n",
       "\n",
       "    .dataframe tbody tr th {\n",
       "        vertical-align: top;\n",
       "    }\n",
       "\n",
       "    .dataframe thead th {\n",
       "        text-align: right;\n",
       "    }\n",
       "</style>\n",
       "<table border=\"1\" class=\"dataframe\">\n",
       "  <thead>\n",
       "    <tr style=\"text-align: right;\">\n",
       "      <th></th>\n",
       "      <th>Topic</th>\n",
       "      <th>Count</th>\n",
       "      <th>Name</th>\n",
       "      <th>Representation</th>\n",
       "      <th>KeyBERT</th>\n",
       "      <th>LLM</th>\n",
       "      <th>Representative_Docs</th>\n",
       "    </tr>\n",
       "  </thead>\n",
       "  <tbody>\n",
       "    <tr>\n",
       "      <th>0</th>\n",
       "      <td>-1</td>\n",
       "      <td>148</td>\n",
       "      <td>-1_like_sudden_people_okay</td>\n",
       "      <td>[like, sudden, people, okay, care, mean, yeah,...</td>\n",
       "      <td>[usually, especially, like, like okay, started...</td>\n",
       "      <td>[\"Struggling with Mental Health\", , , , , , , ...</td>\n",
       "      <td>[But then after that, also, like probably this...</td>\n",
       "    </tr>\n",
       "    <tr>\n",
       "      <th>1</th>\n",
       "      <td>0</td>\n",
       "      <td>148</td>\n",
       "      <td>0_father_family_mother_like</td>\n",
       "      <td>[father, family, mother, like, parents, living...</td>\n",
       "      <td>[family, mother decided, father mother, happen...</td>\n",
       "      <td>[\"Conflict in Family Relationships\", , , , , ,...</td>\n",
       "      <td>[And after that, my mother decided to move us ...</td>\n",
       "    </tr>\n",
       "    <tr>\n",
       "      <th>2</th>\n",
       "      <td>1</td>\n",
       "      <td>137</td>\n",
       "      <td>1_ll_like_time_people</td>\n",
       "      <td>[ll, like, time, people, want, just, know, emo...</td>\n",
       "      <td>[16 hours, stress, 14 hours, feels, 13 14 hour...</td>\n",
       "      <td>[\"Mental Health Struggles and Cravings\", , , ,...</td>\n",
       "      <td>[I've become very mindful of that, but then al...</td>\n",
       "    </tr>\n",
       "    <tr>\n",
       "      <th>3</th>\n",
       "      <td>2</td>\n",
       "      <td>46</td>\n",
       "      <td>2_thing_happening_time time_reasons</td>\n",
       "      <td>[thing, happening, time time, reasons, time, p...</td>\n",
       "      <td>[thoughts occur time, strange thing oh, strang...</td>\n",
       "      <td>[\"Overcoming Conflict and Self-Doubt\", , , , ,...</td>\n",
       "      <td>[This socidal thoughts also occur from time to...</td>\n",
       "    </tr>\n",
       "    <tr>\n",
       "      <th>4</th>\n",
       "      <td>3</td>\n",
       "      <td>38</td>\n",
       "      <td>3_blah_talking_don_really</td>\n",
       "      <td>[blah, talking, don, really, blah blah, far, b...</td>\n",
       "      <td>[really refrain sharing, worry conflict talkin...</td>\n",
       "      <td>[\"Difficulty in Open Communication\", , , , , ,...</td>\n",
       "      <td>[We'll not even talk about what happened in th...</td>\n",
       "    </tr>\n",
       "    <tr>\n",
       "      <th>5</th>\n",
       "      <td>4</td>\n",
       "      <td>29</td>\n",
       "      <td>4_busy_trying_ll_days</td>\n",
       "      <td>[busy, trying, ll, days, work, ll probably, pr...</td>\n",
       "      <td>[probably spend hours, time busy going, oh bus...</td>\n",
       "      <td>[\"Daily Life and Personal Plans\", , , , , , , ...</td>\n",
       "      <td>[So I try to keep up with that and I'll probab...</td>\n",
       "    </tr>\n",
       "    <tr>\n",
       "      <th>6</th>\n",
       "      <td>5</td>\n",
       "      <td>25</td>\n",
       "      <td>5_did_doing_built_entire</td>\n",
       "      <td>[did, doing, built, entire, entire thing, did ...</td>\n",
       "      <td>[handed entire thing, handed entire, thing han...</td>\n",
       "      <td>[\"Overwhelming Workload and Official Challenge...</td>\n",
       "      <td>[I did the all the paperwork on my own and it'...</td>\n",
       "    </tr>\n",
       "    <tr>\n",
       "      <th>7</th>\n",
       "      <td>6</td>\n",
       "      <td>21</td>\n",
       "      <td>6_oh_know_yeah ll_know know</td>\n",
       "      <td>[oh, know, yeah ll, know know, normal, underst...</td>\n",
       "      <td>[oh understand know, like oh know, oh oh under...</td>\n",
       "      <td>[\"Relationship Dynamics and Communication\", , ...</td>\n",
       "      <td>[The female in that house is just a follower a...</td>\n",
       "    </tr>\n",
       "    <tr>\n",
       "      <th>8</th>\n",
       "      <td>7</td>\n",
       "      <td>17</td>\n",
       "      <td>7_does help_help_supposed_plan</td>\n",
       "      <td>[does help, help, supposed, plan, does, kind, ...</td>\n",
       "      <td>[does help, does help think, support does help...</td>\n",
       "      <td>[\"Managing Physical and Mental Health\", , , , ...</td>\n",
       "      <td>[When you sit there, the kind of questions the...</td>\n",
       "    </tr>\n",
       "    <tr>\n",
       "      <th>9</th>\n",
       "      <td>8</td>\n",
       "      <td>17</td>\n",
       "      <td>8_married_getting_getting married_going</td>\n",
       "      <td>[married, getting, getting married, going, mar...</td>\n",
       "      <td>[thinking getting married, getting married, ok...</td>\n",
       "      <td>[\"Arranged Marriage and Career Concerns\", , , ...</td>\n",
       "      <td>[Like I'm till they scared of the fact that I'...</td>\n",
       "    </tr>\n",
       "    <tr>\n",
       "      <th>10</th>\n",
       "      <td>9</td>\n",
       "      <td>16</td>\n",
       "      <td>9_got_hospital_took_went</td>\n",
       "      <td>[got, hospital, took, went, disease, pneumonia...</td>\n",
       "      <td>[okay went hospital, okay pneumonia probably, ...</td>\n",
       "      <td>[\"Personal Health Crisis Experience\", , , , , ...</td>\n",
       "      <td>[So I was like, okay, we went to the hospital ...</td>\n",
       "    </tr>\n",
       "    <tr>\n",
       "      <th>11</th>\n",
       "      <td>10</td>\n",
       "      <td>16</td>\n",
       "      <td>10_education_science_academics_school</td>\n",
       "      <td>[education, science, academics, school, pressu...</td>\n",
       "      <td>[sudden academics like, sudden academics, pres...</td>\n",
       "      <td>[\"Struggles in Higher Education\", , , , , , , ...</td>\n",
       "      <td>[My father said that if you want to do arts or...</td>\n",
       "    </tr>\n",
       "    <tr>\n",
       "      <th>12</th>\n",
       "      <td>11</td>\n",
       "      <td>14</td>\n",
       "      <td>11_know_don know_don_wearing</td>\n",
       "      <td>[know, don know, don, wearing, does know, wear...</td>\n",
       "      <td>[don know, money don know, know don know, don ...</td>\n",
       "      <td>[\"Conversations about Unknown Personal Life\", ...</td>\n",
       "      <td>[So I don't know., But I don't know., I mean, ...</td>\n",
       "    </tr>\n",
       "  </tbody>\n",
       "</table>\n",
       "</div>"
      ],
      "text/plain": [
       "    Topic  Count                                     Name  \\\n",
       "0      -1    148               -1_like_sudden_people_okay   \n",
       "1       0    148              0_father_family_mother_like   \n",
       "2       1    137                    1_ll_like_time_people   \n",
       "3       2     46      2_thing_happening_time time_reasons   \n",
       "4       3     38                3_blah_talking_don_really   \n",
       "5       4     29                    4_busy_trying_ll_days   \n",
       "6       5     25                 5_did_doing_built_entire   \n",
       "7       6     21              6_oh_know_yeah ll_know know   \n",
       "8       7     17           7_does help_help_supposed_plan   \n",
       "9       8     17  8_married_getting_getting married_going   \n",
       "10      9     16                 9_got_hospital_took_went   \n",
       "11     10     16    10_education_science_academics_school   \n",
       "12     11     14             11_know_don know_don_wearing   \n",
       "\n",
       "                                       Representation  \\\n",
       "0   [like, sudden, people, okay, care, mean, yeah,...   \n",
       "1   [father, family, mother, like, parents, living...   \n",
       "2   [ll, like, time, people, want, just, know, emo...   \n",
       "3   [thing, happening, time time, reasons, time, p...   \n",
       "4   [blah, talking, don, really, blah blah, far, b...   \n",
       "5   [busy, trying, ll, days, work, ll probably, pr...   \n",
       "6   [did, doing, built, entire, entire thing, did ...   \n",
       "7   [oh, know, yeah ll, know know, normal, underst...   \n",
       "8   [does help, help, supposed, plan, does, kind, ...   \n",
       "9   [married, getting, getting married, going, mar...   \n",
       "10  [got, hospital, took, went, disease, pneumonia...   \n",
       "11  [education, science, academics, school, pressu...   \n",
       "12  [know, don know, don, wearing, does know, wear...   \n",
       "\n",
       "                                              KeyBERT  \\\n",
       "0   [usually, especially, like, like okay, started...   \n",
       "1   [family, mother decided, father mother, happen...   \n",
       "2   [16 hours, stress, 14 hours, feels, 13 14 hour...   \n",
       "3   [thoughts occur time, strange thing oh, strang...   \n",
       "4   [really refrain sharing, worry conflict talkin...   \n",
       "5   [probably spend hours, time busy going, oh bus...   \n",
       "6   [handed entire thing, handed entire, thing han...   \n",
       "7   [oh understand know, like oh know, oh oh under...   \n",
       "8   [does help, does help think, support does help...   \n",
       "9   [thinking getting married, getting married, ok...   \n",
       "10  [okay went hospital, okay pneumonia probably, ...   \n",
       "11  [sudden academics like, sudden academics, pres...   \n",
       "12  [don know, money don know, know don know, don ...   \n",
       "\n",
       "                                                  LLM  \\\n",
       "0   [\"Struggling with Mental Health\", , , , , , , ...   \n",
       "1   [\"Conflict in Family Relationships\", , , , , ,...   \n",
       "2   [\"Mental Health Struggles and Cravings\", , , ,...   \n",
       "3   [\"Overcoming Conflict and Self-Doubt\", , , , ,...   \n",
       "4   [\"Difficulty in Open Communication\", , , , , ,...   \n",
       "5   [\"Daily Life and Personal Plans\", , , , , , , ...   \n",
       "6   [\"Overwhelming Workload and Official Challenge...   \n",
       "7   [\"Relationship Dynamics and Communication\", , ...   \n",
       "8   [\"Managing Physical and Mental Health\", , , , ...   \n",
       "9   [\"Arranged Marriage and Career Concerns\", , , ...   \n",
       "10  [\"Personal Health Crisis Experience\", , , , , ...   \n",
       "11  [\"Struggles in Higher Education\", , , , , , , ...   \n",
       "12  [\"Conversations about Unknown Personal Life\", ...   \n",
       "\n",
       "                                  Representative_Docs  \n",
       "0   [But then after that, also, like probably this...  \n",
       "1   [And after that, my mother decided to move us ...  \n",
       "2   [I've become very mindful of that, but then al...  \n",
       "3   [This socidal thoughts also occur from time to...  \n",
       "4   [We'll not even talk about what happened in th...  \n",
       "5   [So I try to keep up with that and I'll probab...  \n",
       "6   [I did the all the paperwork on my own and it'...  \n",
       "7   [The female in that house is just a follower a...  \n",
       "8   [When you sit there, the kind of questions the...  \n",
       "9   [Like I'm till they scared of the fact that I'...  \n",
       "10  [So I was like, okay, we went to the hospital ...  \n",
       "11  [My father said that if you want to do arts or...  \n",
       "12  [So I don't know., But I don't know., I mean, ...  "
      ]
     },
     "execution_count": 64,
     "metadata": {},
     "output_type": "execute_result"
    }
   ],
   "source": [
    "topic_model = BERTopic(\n",
    " # Sub-models\n",
    " embedding_model=embedding_model,\n",
    " umap_model=umap_model,\n",
    " hdbscan_model=hdbscan_model,\n",
    " representation_model=representation_model,\n",
    " vectorizer_model=vectorizer,\n",
    " nr_topics=\"auto\",  # Automatically determine the number of topics\n",
    "\n",
    " # Hyperparameters\n",
    " top_n_words=10,\n",
    " verbose=True\n",
    ")\n",
    "\n",
    "\n",
    "# Train model\n",
    "topics, probs = topic_model.fit_transform(docs, embeddings)\n",
    "\n",
    "\n",
    "# Show topics\n",
    "topic_model.get_topic_info()"
   ]
  },
  {
   "cell_type": "code",
   "execution_count": 65,
   "id": "88912e56",
   "metadata": {},
   "outputs": [
    {
     "data": {
      "application/vnd.plotly.v1+json": {
       "config": {
        "plotlyServerURL": "https://plot.ly"
       },
       "data": [
        {
         "hoverinfo": "text",
         "hovertext": [
          "and I'm taking care of my things as well.",
          "Now I'm with you.",
          "The basic amenities and I've been okay with that.",
          "So I especially took an offer from my office to go there.",
          "And when he passed away, I did not even get to see him.",
          "And you also take care of the entire event of the marriage, which is for three, four days.",
          "All of a sudden I'll just bury myself up in work so much, so much that I'll not see anything around me.",
          "You are all always in that conflict.",
          "It would have been okay.",
          "I think I want to go home and do my family business.",
          "And I'll not.",
          "Yeah, high school.",
          "So you spend another 20,000 pounds doing that.",
          "And then after three months, he then started avoiding me all of a sudden.",
          "and for me, it was a very practical decision, I was 20 years older than when I started working.",
          "I mean, I did try committing suicide twice.",
          "This was this was probably when I was 14 or 15, I believe.",
          "There's a lot to unpack.",
          "So I come from a very patriarchal and very dysfunctional sort of family.",
          "I mean, so what would you feel if you actually told them?",
          "And I was like, probably.",
          "I had this big of dark circus when I came here and I was like 10 kgG's more of my weight because my eating habits were like completely thrown off.",
          "And in terms of my househ case a lot of this narrator for me also comes from my household.",
          "If you show the good behaviour, you'll be treated nice for like a couple of days.",
          "So we're struggling there.",
          "Don't do this.",
          "So I know that when I'm sharing some information with others, it is also a responsibility on them.",
          "Yeah, that's a lot.",
          "But I finally got my Visa and I was about to leave, they started being nice to me.",
          "So for them, it was more like that now you earn money.",
          "So then all of a sudden, you were this little vulnerable person who is being taken care of.",
          "The second reason, I'll tell you what is because a lot of people, especially the new people in my life, after coming here, they have not been on the same journey as me.",
          "In fact, they were nice to me till like last to last month because then I had some money crunch.",
          "Plus, when you're from a village and then you all of a sudden move to a city school, you also get bullied on the fet.",
          "You do know how to regulate things, but you also, yeah, I'm also very self-critical.",
          "I served two dads who were buying gifts for their daughters.",
          "I work in Pandora and I was there, day before yesterday and I was serving customers.",
          "So they started being nice to me.",
          "Someone who they'd look up to and they'd be like, that's a great kid.",
          "And then you were asked, I mean, I have been continuously questioned about the fact that, oh, she's too tall for a girl.",
          "So 14 years of my life like that, then after 14 years, this is happening.",
          "Yeah, there is there is no routine, especially like in December and January, there was no routine.",
          "So the unhappiness was real in there, that you were all of a sudden a national level winner in certain competitions and then all of a sudden you are failing your classes So the disappointment was really big.",
          "I'm doing this and I'm not doing anything.",
          "The problem with me is that my personal relationships are so horrible, has been so horrible, Whether it is my parents or other personal things, that I also like do not let my guard down with people.",
          "The responsibility of knowing.",
          "And I was like, okay great.",
          "This is probably my 17th house I'm living in.",
          "It's just that there are certain things which I like certain people to take care of.",
          "I'll be just in my room..",
          "And not only that, and that is called a gift, by the way.",
          "So I finally got into a designing school out of guilt, not out of, that was my graduation for which I got in.",
          "He's not taking my calls.",
          "And I'm like, only if that was possible.",
          "There is something playing on the screen.",
          "And then they were like, no, this is not required, where you will see what whatever will happen So in India, you do not have the culture of working part-time, first of work.",
          "So that is how my graduation went on in between all of that also, there was once this time when both my parents got into an accident.",
          "I got back a bit in March and April, but now it is showing up again because now my classes are done.",
          "I mean, you're just doing it because you have to sort of thing.",
          "They call it a gift.",
          "Okay, so you're commuting four hours a day, then you're going there working for nine hours.",
          "I have had a very different journey and people usually have a different journey.",
          "If they take care of that, most of the things will be, okay, if my parents took care of their own actions, probably I would have been okay.",
          "And all of that very reinforcing statements where I'm like, oh, my God, so good.",
          "So you are again in that pressure where in you're bullied by names like, oh, she's a villager.",
          "But then after that, also, like probably this part will happen for a month a month and a half, then all of a sudden that will come inside me that I need to prove you wrong and I need to prove myself wrong.",
          "Don't do this.",
          "But thank you for sharing.",
          "I mean, I don't even remember her hugging me ever.",
          "I'm like, okay, I'm just eating for surviving sort of thing.",
          "So, and it was it was pretty.",
          "So while you're constantly struggling with that pressure of performing as a kid and then simultaneous theory also losing your support system So it's it's a very difficult path for you to navigate.",
          "So that went on for one month and that is where my father finally felt a bit guilty and he let me have an admission in a designing school.",
          "So Like physical.",
          "So let's just be real.",
          "I know that I have got most of my shit handled.",
          "So that people pleasing behaviour started from there.",
          "But now they have again got on to the bad terms.",
          "It's just there because it's a blood relationship and you have to carry on with it.",
          "It's just that I'm mentally shutting down.",
          "I have a nine year of work experience.",
          "yeah, so I'm trying to take steps, but it is very hard.",
          "I was that?",
          "I want them to have a better life than what I have.",
          "So it then all of a sudden the entire, you will usually see me as a very disciplined person, but then all of a sudden everything crumbles down.",
          "Like usually don't eat junk.",
          "People do want to, you know, look up to you and you get that attention.",
          "So you take that ride first for 30, 40 minutes, then you cook's not very safe, right?",
          "And that is where that this entire process of two, three months of holding back into that dark race goes wherein you're like just doing random things, which is which is not you or probably not doing anything at all probably spent sleeping and sometimes end the seating as well.",
          "And I try to develop that context that probably we have outgrown them way too fast and they were not able to catch up with what has happening in our life and that is the reason they react like this.",
          "You'll get me a dress probably once a year, I'm okay with that.",
          "So at that point I was not really aware of there is a thing called oppression, but now when I look back at it, I realise that that is exactly when I had my first encounter with it.",
          "We'll take care of everything.",
          "So, you know, even though, I mean, I'll be very honest for, like, till the time I was 23, 24.",
          "And let me tell you, when I came here before that, I was working and I was making almost \\'a32,000 a month.",
          "and the moment we were about to step out of the house, they called and said that, oh, we couldn't we cannot meet today and please do it some other day.",
          "So work is a very huge coping mechanism for me.",
          "Shoe, spices, groceries, in that tone?",
          "And then I' finally, I got a placement.",
          "Then he finally got me.",
          "And that's how my graduation started.",
          "Everything is very slow, very problematic and you have to fight through everything.",
          "Now, even though I'm not feeling like I booked a class at 530, now I'm going to do it.",
          "And I'm like, okay.",
          "We came back and then all of a sudden after that, I started getting a bit of pain in my righteous.",
          "I've tried doing that, and you know what?",
          "Let's frown upon in our culture, that how can you have a relationship?",
          "and it tried to give them that empathy and that space.",
          "So that is where my first encounter happened.",
          "Now it has, you have to pay to be here, you have to at least pay somewhere around 30 to 35,000 pounds.",
          "I did not get time to do it.",
          "or probably just passing by minimum grades.",
          "It is very hard to like, you know, I am I'm usually one of those people who will do hundred task in a day like this, but then on days like this, if I'm even doing five, that's a huge achievement for me.",
          "So again, that is also adding a lot of pressure on you when you try to cook up and keep up with all of that, then there is also this pressure of that you are of a certain age and you do not have a dating life Why is that?",
          "The sharing rides which you take in a small you take Yeah, yeah.",
          "the responsibility of knowing.",
          "That is what I've done my entire life, being responsible for my parents, my brother, then the office where I've worked, vir responsible there as well.",
          "I hate that statement when people say that I understand because you have not been in this place.",
          "And they were nice to me till the time I was here.",
          "Is he going to take care of me then?",
          "So, how do you feel in these periods of when you're not talking?",
          "I mean, my you'll really see me extremely happy.",
          "It's like high school kind of.",
          "It has been pretty rough.",
          "So all of all of that past, my academics will drop all of a sudden.",
          "So there is a lot of pressure for you to perform as a kid.",
          "that we't given a gift to Dr.ikishi is going to another house and we're like, okay, right.",
          "So you do that for 30, 40 minutes and then you go ahead and travel in a train for another one, one and a half hour and then you reach your office.",
          "And it was also the attention and love which I wanted from others that if I do well, people do want to listen to you.",
          "I pretty wish that Pretty wish that.",
          "And that always puts me in a conflict.",
          "And he came back after a month and started behaving like it was nothing and I was like, I cannot take you anymore.",
          "I mean, that was almost 12 years 12, 13 years back, actually, I think.",
          "So, yes, I do have those people at my life now.",
          "So that's how most of my childhood was.",
          "But these six months which I spent here, even though I knew that this is like, that was a dark place.",
          "For me, depression has been like in two phases, I would say.",
          "I when I was what, 60, 60 Yeah.",
          "Only if saying that would have resolved the problems.",
          "You will often see abuse in that house on woman.",
          "Oh, yeah, so you hear just body comments in between, I mean, you know, so I used to be like very skinny and when this disease thing happened because of the steroids and everything, which I was on at that point of time, I gained a lot of weight.",
          "It does take a toll, but I'm really trying.",
          "So it's very hard.",
          "Which is like a really huge step in Indian culture.",
          "And that meant for us as well to be in that pleasing behaviour.",
          "And out of that I used to give 100 pounds at home.",
          "This has started at noon.",
          "But then as you grow older, you try to develop a context of what has happened with them.",
          null
         ],
         "marker": {
          "color": "#CFD8DC",
          "opacity": 0.5,
          "size": 5
         },
         "mode": "markers+text",
         "name": "other",
         "showlegend": false,
         "type": "scattergl",
         "x": {
          "bdata": "mGsrQe2BJ0FE5SpBljsAQf181kD0b9BAUcgmQcT1HUFKoiZB7ZH6QC9UFEEh5xhBY+X2QEDxBkGGBxVByhUZQcf8G0GKVidBmZgEQcZwNEHpGSZB5OkSQdKiAEEwogtBUz4bQcE5FEF9QihBpc4lQWp4A0GU+/dAERoMQcGwC0F7pQNBbf34QP+THkFJfQNBu94tQV5mBEEHsg5Byr3iQMC+GkEi8BlBfYcRQc2hEUFEkwtBZSYoQaECJUGVlS9BxO0oQVG7MEH1FxJBHVsGQSfsEEFXOidBIBIYQZ2sAEF9//VAzAYOQRevHUHl0QtBtvQwQSNFD0HbMSlBHB4eQUWm9kCKKyFBYVQUQfElIkHK9dVAP9wXQd2kJEEYsBNB/asCQYV/KUHXBi5BK3UrQe1zDEF6TxxBvSkdQctyHUF4oC5BUlAgQZVpJEHm7ChB0s8TQTppE0FyyA5BgQUCQVC0DUHuKgVBbmcoQdKgGUGOXC9BbholQZDZ90DO2AVBw5AgQbEYNUFlnAhBSrjSQGIgCEE4chxBUIIPQcUKJkHQrQZBwtYlQdELBUEoegxBfT8cQWlm9ECtWhZBfZIYQeOIIkFhRQVBXowEQQDVJ0Eh1ypBGGkLQbrAA0ECMDNBWoQzQQAdLUEu7BdBMkscQV/tD0EBphJBiRnZQB7gAEFU3Q9BZxspQYB8HkHxjQZBdm8cQeLlKkFxahpBb4EQQUgRGUHwTR9BYKgkQcYF/kA7xxBBcWUiQRuzHEFJmxZBXEgNQWav8UAACitBaW4LQR+GFUE=",
          "dtype": "f4"
         },
         "y": {
          "bdata": "RgQJQfXXA0F36wNBmEnzQJDuDkFCI/ZAgV0eQYifs0CgGdtAP5kBQVuEN0HCl9pAvULUQOEmHUHcretA1r4MQfwL5UAAKNFAxLseQbRkuED7x+5AlxQdQRImHEH/ed5AnNIHQez3N0GXZA9BWCDMQE1D6kCYuNRA8yIaQQgEE0HQl+ZAibACQT9IGkHQh+NAAkQEQWOC5kCGgeVAAYsqQYyH5UCbwK9A67UNQfIZMUHCHyNBNuAPQZyP7UB7/AtBOAcLQYdtDUFC59JAuqIBQUek9EDzJ+1AiGW+QJSQu0DDQQJBLMoJQdk4BEEToNdA76IPQcLsEkEDSwpByhYaQdT8B0EMHxRBkYk3QV8I90BLYQ5BBQEYQdAm5EBNXARBDl8BQa/WwEB5q7xA3sAMQcJA3ECA2whBiXcEQUDqMEHrqA9B7V0FQb954UAiFgpBlbEYQQsKvkBRVeZAG5zxQJNUGUGzZRZB7IwCQeLzDEFegtNAz6sSQQJc30CmqypBNhkVQcf+ykCydwBBGJsKQSQQAkG+BwpBU3IKQfUJ8kCQYiBBtUHpQJycKEEB4tpAN9oEQbwa2UDIuApBD1zbQOcVB0Er7RRBkozPQMxXD0FxjgtB10sWQTvX50BU/NFAB/y3QJS8AkEUMttA+20JQa1VC0FbjgBBGJjmQNI58EDj6+hAF2YJQTFCtEDLjB1B3ZviQPLeCEEbQOJAvWAUQXmLD0HjWOJAV7nWQAIMH0H1YR1Ba8wDQY20CEF3u9RAvxncQGnX4UD7QfJADvLvQHc5AkE=",
          "dtype": "f4"
         }
        },
        {
         "hoverinfo": "text",
         "hovertext": [
          "So you go to bank, you do a loan, and for a loan also, they will ask you for some collateral.",
          "So this is my relationship with my parents, wherein it is love bombing, then it is nothing.",
          "We are going to live with as a family now.",
          "And to give you a bit of background, first of all, none of of the females in my family have ever worked, I was the first one to work and I have elder cousins than me.",
          "Like something which he's not agreeing with can leave me like this.",
          "Like, I have recently had a conflict with my parents.",
          "I' I have elder cousins and my lineage who are in fact educated more than me as well, but they chose never do that.",
          "So I met a man who showed even a bit of interest in me.",
          "That is where my main conflict with my parents started, that you have a girl who's educated, who's earning her own money, and then you ask her that you pose a certain way in the picture, you wear certain thing in a picture because we need to send that to the family of the guy.",
          "My father never really loved lived with us because he was living in this city earning money, okay?",
          "I have not had a permanent friend circle then after that you I started dating and then I have had people, the first person cheated horribly cheated and not only does he cheated, he got me pregnant.",
          "So the girl's family pays money, yes.",
          "My boyfriends took care of their action.",
          "Was this because of your pre-stating experience or just with friends, like abandoning you?",
          "I saw my manager's dad just come visit her to give her a hug, and that was very emotionally challenging for me to stand the job.",
          "So in the first four attempts, I did not tell him anything.",
          "My father fractured his hair and my mother had stitches on her head and it was.",
          "So this the reason why I mentioned families it has a very huge role as this because from past 12 years, my parents have this partner wherein they will pick one topic in an year.",
          "And then last year last month, I told him that I have to pay the installment for my housing and I do not have the money now.",
          "So they were my father's statement is like, look at her.",
          "My brother was like, so he can put his salary as a collateral and we can get the loan.",
          "But when we started living together, the amount of conflicts they both had was crazy.",
          "After that I dated a person who chased me for one one and a half years that I want to date this girl.",
          "So that was our living there.",
          "So, and this is exactly when I lost my friend in an accident as well.",
          "And then I told my parents that I think I should move out and go live there because this is very hectic.",
          "I'm at a managerial role and now I'm going to leave all of this.",
          "I want to date this girl.",
          "He went ahead and slept with someone else after an year and told me that I think I'm not meant for relationships and after chasing you.",
          "And he got to know that I was pregnant and he left because he learned that he were pregnant.",
          "So I always, I have never said no to my parents, so that is also a big problem.",
          "So I mean, after that I haven't tried committing, but it does come back that what if we just end everything and the problems should be gone?",
          "So the setting for me, all of a sudden, changed, and I did not have that paternal love also, because my grandparents were there, my father wasn't there.",
          "But as soon as you do one thing wrong, you'll be treated like you're no one.",
          "I have been he questions me on why you left.",
          "So, and then in all of this, I have known a guy for 10 years and the last four years we were dating each other.",
          "And this was the time when I started dating someone as well, because, again, I was living in that conflicted house.",
          "My father came back in evening from his office.",
          "Plus, if I have to go to my office from the place I used to live, so I have to first take a do you know Tukok?",
          "So I got tired all of of the bullshit so much that I decided that I'm going to leave the country.",
          "But it also held me solving and compartmentalising a lot of my emotions and I think probably I also navigated it because my parents were good to me then.",
          "Hmm Because now they were like that she's leaving.",
          "But when he's not in a good place with you, then he'll go completely on the silent treatment.",
          "And abandonment is something which I'm, like, pretty used to, that you will you'll probably say something else and do something else.",
          "And we were living in the village with my grandparents and my mom.",
          "My father one day was very upset about something, which was happening in the family, and he lashed out and said that, what do you think that you're giving us these hundred pounds and you have bought us?",
          "And we used to live in a shared house wherein you just get two rooms to live in.",
          "Just money siblings?",
          "We started dating.",
          "And my mother always forced us to be very independent, do everything on your own sort of thing.",
          "I just met you.",
          "And both my father and mother both have the same thing.",
          "And not only that, it's it's just with my father being around, my mother was under this continuous pressure of pleasing him.",
          "He made me meet his family.",
          "This is where my brother comes in.",
          "And the reason why that happened was because my father was upset with me.",
          "So and in that moment, what happened was that again, my father was very upset with whatever was happening and probably because now all of this is happening, so I lacked in my studies as well.",
          "So I moved to a different city now, which is bigger from the city where I was living originally.",
          "I'm just going to be go to his house and be responsible for his family, do things, and this entire narrative seems to me a very much a bullshit thought.",
          "So after that, the place where my parents used to live and the place where I got the job was almost a two hour commute each side.",
          "Your father won't like it.",
          "I was born in a really small village.",
          "So yeah, that's how it has been because now I've moved from moved away from my home.",
          "Yes, the girl's family.",
          "So I had a major breakdown and the guy from our group, he reached out to me and he was like, I have seen you been very upset in past couple of days and I really want to know what's happening with you.",
          "And my mother and father were married out of an arranged marriage.",
          "Again, let me tell you, I do not come from a poor family.",
          "I have not lived with my parents after that.",
          "Because the reward system in my family was very much implemented from the Y start.",
          "I have a younger sibling.",
          "So now when we moved out of that house, my mother was trying to do everything in our capacity to take care of us.",
          "My friend spoke to him that why are you doing this to her and like she's she's in a horrible place here.",
          "And let me tell you, when I came here and my father was like, you need not to do a part-time job.",
          "My grandparents are there in the village.",
          "My family does have money, but when I asked them from my money, that's where the problem started.",
          "One of my friend my girlfriends left with one of my boyfriends.",
          "And on On top of the family?",
          "In all of this, while I was doing this, these national level roles and everything, and then I'm also doing a relationship and all of that, I then after a year got to know that I'm being cheated, this man is married and he was lying to me.",
          "And after that, my mother decided to move us out of that house as well, and we moved to a different city to study and my father is living in a different city.",
          "So she was never a very emotional mother and that is where sadness started coming from for me because I remember myself crying to sleep in most of those nights because I used to miss my grandparents a lot and I did not have that support system there.",
          "I went to the wedding of his brother, spent three, four days with his family in his entire joint family of 2025 people.",
          "On top of that, I have my younger brother as well, who is who is, of course, he's also in the new system.",
          "Because of I lost a really close friend.",
          "So now my father is frustrated at them, but that frustration is coming on to us.",
          "My brother used to support me a bit, but that was it.",
          "After that, I have her because I have never got to live in one place.",
          "In between days, I'd also like to mention an episode wherein my father lost his job, okay?",
          "I had to take that stuff where and I had to tell him that I cannot do this anymore.",
          "So I have never had a permanent home.",
          "So I got out.",
          "Tell me a bit bit more about your relationship with your family, like growing up and, you know, this kind of conflicts, how, how does it happen?",
          "So he was like, I'm going to come back.",
          "So I saw my father probably once or twice a year.",
          "So she never was a very emotional mother.",
          "Your father won't like this.",
          "My father has not lived with me for most of my life and I have craved for that love a lot.",
          "This man has a continuous pattern of lying to me, doing extra relationships out of that relationship and when I finally decided that okay I cannot do this anymore I need to leave I left.",
          "And then he went home and he said this thing that, oh, she's a very workaholic and I don't think so that she'll be able to take care of the family.",
          "So and then he will abandon me as soon as I do something horrible.",
          "And in all of this, then my mother also got to know that I was dating someone.",
          "So how these conflicts also resolve, that he'll not talk to me for six months and then I'll go home and then we'll probably hang out together and he'll act like nothing happened.",
          "And then he said this thing that, oh, she's the most poor one in the family.",
          "And he's like, okay, and then he just rushed into the entire thing and he's like, all right, I'm gonna go.",
          "And then when I went there, So in one of the events, my parents were there and these guys family, this set up the time and date that this is why we're supposed to meet and she's supposed to come here.",
          "My father did not have any response to this.",
          "I mean, I'm not really again, I'm making a list of things, which I am going to do, and I'm going to bury myself in it.",
          "And then my mother decided to be a protagonist and she decided that my kids are going to study in the city because I do not want them to have like a basic life.",
          "You understand, because I was living with my grandparents and I was loved intensely there.",
          "The fifth attempt, I broke down and I told him everything and it came down as the blting a thing.",
          "You broke up after nine months.",
          "Then when I was in ninth standard, my father finally decided that we are going to live together.",
          "The problem has been that I never got my grandfather was my favourite human being.",
          "And I'm like, you're going to leave.",
          "We lived in together for an year and then all of a sudden he was like, you know what?",
          "I'm not the elder one here.",
          "And my mother took up that very strong role of fixing the life of her kids.",
          "Then after that, I started dating someone and this person literally used to worship the floor I used to walk on.",
          "And I am leaving.",
          "Graduation after graduation, I have not lived with my parents.",
          "So I moved in, then we moved in with our father, mother, and I was like, okay, this is finally family.",
          "And then we spoke everything and he was so skilled to even talk to me.",
          "My mother is a bit sadter.",
          "Yeah, that don't do this, your father won't like this.",
          "So then my mother fought the system and my father and the family and everything, but she also tore us apart from a family.",
          "And to send the girl to, yes, the guy's family, yes.",
          "I mean, broke up.",
          "He was so much in love with me.",
          "So when you're talking about a village in India, you can like you can just imagine a family, which is ran by mail and they're allergies.",
          "So I told them that I'm going to take up on higher education and I'm going to leave.",
          "So I have a younger sibling who is like three years, four years younger than me.",
          "My father, on the other hand, he loved Bomb U when he's in a good place with you, okay?",
          "So I used to earn probably some \\'a3300 pounds a month.",
          "I have never been one of those kids who have came home and asked my mother that I want this, I want that, I want no, never.",
          "So you were living with your mother?",
          "So you're continuously walking on that eggshell that I'll probably do this and my father would just go crazy at the very same time again, you are now in a bigger school, in a bigger city.",
          "But then what I did not realise was that it was not only me who was not living with my father and mother.",
          "We were not very financially in a great situation and my father, we used to he used to own like 10,000 rupees, which is almost what not even not even a hundred pound from here.",
          "So I was the sole bread winner of my family at that point of time.",
          "So then also when I have lived in all of that scarios also, so my parents also have this habit of controlling money wherein they have money, but they'll give you peanuts because we do not have money.",
          "So I said that I'm going to move out and that's again, led to my father being very upset and not talking to me for another six months because I moved out.",
          "And then I said to him that, okay, tell him that I'm going to leave my work.",
          "It was also because I wanted to be a very great kid for my parents.",
          "Now I'll go out and do something else.",
          "You left this relationship.",
          "I got cheated in a relationship as well.",
          "And they are telling this to my father, and my father is all of son, are very sad about this.",
          "Did you your parents, no?",
          "I just cannot give up to a guy who has his thing and I'll be just living there doing nothing."
         ],
         "marker": {
          "opacity": 0.5,
          "size": 5
         },
         "mode": "markers+text",
         "name": "0_father_family_mother",
         "text": [
          "",
          "",
          "",
          "",
          "",
          "",
          "",
          "",
          "",
          "",
          "",
          "",
          "",
          "",
          "",
          "",
          "",
          "",
          "",
          "",
          "",
          "",
          "",
          "",
          "",
          "",
          "",
          "",
          "",
          "",
          "",
          "",
          "",
          "",
          "",
          "",
          "",
          "",
          "",
          "",
          "",
          "",
          "",
          "",
          "",
          "",
          "",
          "",
          "",
          "",
          "",
          "",
          "",
          "",
          "",
          "",
          "",
          "",
          "",
          "",
          "",
          "",
          "",
          "",
          "",
          "",
          "",
          "",
          "",
          "",
          "",
          "",
          "",
          "",
          "",
          "",
          "",
          "",
          "",
          "",
          "",
          "",
          "",
          "",
          "",
          "",
          "",
          "",
          "",
          "",
          "",
          "",
          "",
          "",
          "",
          "",
          "",
          "",
          "",
          "",
          "",
          "",
          "",
          "",
          "",
          "",
          "",
          "",
          "",
          "",
          "",
          "",
          "",
          "",
          "",
          "",
          "",
          "",
          "",
          "",
          "",
          "",
          "",
          "",
          "",
          "",
          "",
          "",
          "",
          "",
          "",
          "",
          "",
          "",
          "",
          "",
          "",
          "",
          "",
          "",
          "",
          "",
          "",
          "",
          "",
          "",
          "",
          ""
         ],
         "textfont": {
          "size": 12
         },
         "type": "scattergl",
         "x": {
          "bdata": "wmTjQFQbxEDx79hAvQHDQOTz8UBO1uBAuprBQNs/zUDCyedALEXNQO0I2UBUSNlANhHQQM7MA0EQHtFA9SDtQN7/2kAz+eNAOc7rQATu00Dt0dJAtu7LQK3L00ALMdtAL/bcQGv67UAy2AFB/4DSQEPg1UAZb+JAFsTCQBARAkEvU8lAHmABQS9c6UBres9AfZ/NQM700kDdDgBBcVsCQVnb8UAEW/JA5lv/QCfFAkEMcdBA0TDpQMq22EADPdRALjPPQGCU3kD6Fs5AaYHTQCTS00DjOs5AJoDKQGRA4EBn8uJA2dL6QOZu+UCZ8fNAS/3sQFiIzUCXR/5A7ZfWQOFp6ECPoNlA3bfBQKo9xEAy/+ZAK1fKQIP030AHU+hAGI3nQA+hzUDwFepADhfXQPZA2EArdNhA7M7lQLwv3UBMNM9AeUTKQLNb3UCBBOhAsdHLQPn0wEDKdt9AstXyQNJHw0DE3QJB/LrlQGlVAUFhGNJAunjZQPJU7UCCp8VActfuQPGc50A+zf9Aa2/OQFcn/UA4VOJAQKj+QKdRzkBN3tFA7kAIQaYZ5kDaEtJAgqvuQGnp4kCiS9lA0NzCQMkyAUEgsc5AhSXCQIcY5ECUDNBAWMcCQR+GxECRL9ZA7nTMQFhG4UCd9e1AMrndQK7010BvYORA5v/LQFfHzkDJ4QJBqDDJQFcAzUB/2fRAyYTBQOq12kAOmuhAjITFQP9e6UAR6tRAcOTnQCYU5UBoXAFBlUjrQG2GB0HJT+VAPvbXQLBp5kBaZNhAetTyQA==",
          "dtype": "f4"
         },
         "y": {
          "bdata": "jTDXQHmL/kBTvepATDDqQATpEEHl7QFB55XrQJioC0FLGOVAiTj7QHTlFkEVsNVASMQTQfTaEkEajQRB8T4SQdAdBEFn8PJAIcXkQPFBA0FoB9hAFKcQQfv4FkEdG+tAn2IUQYYd/kAfTQhBy7kYQfzOFkEowg5BmpL8QAkFEkEyQ/tAL1cQQY48EUFlpBRB48YRQcAHA0Hxx/RAAYQIQXfW9UC9LRBBo2EQQdfBEUEzb+xAC431QCEk7EA5Q9dAlYcVQeNY9kDmrxNB2lsDQbIpBEEpkP9ACh7cQO1zAkGmuAJBhWj6QLtOBUH1WfhAOxAFQZgF6kCWnftAR2PUQPgvD0HtoQNBeRrrQLlM/EAcUPFAQbTcQNj39UBZUg9Bo+n8QI/l6UB4EuNACfQUQcx+1EC6fhdBilz5QCbuBkH0x/RATqXbQFIZFEFmWwRB/LraQPEc+0Ay3wJBFe0TQQfo90C+WQhB8PoDQYBYCUFzsgJBj/QJQSZSBUETN/1AXTMUQdD8BkG1JRBBoFAEQTVoEEGDugdBtrUJQdtoAUF4xQVBJ04PQVf090D0s+5AxbETQTtOFEHlEO9AVA74QDkXCkFKshJB81DoQEV19EAhZxRBafsIQaeW+0BV0+5A4x0LQYO1B0GnYQVBY6MEQadi1ECQahRBWCoLQdYk6UB7fgdBgSTdQLwL/kCaZ99A+Sn6QCr89kBMjvxA5p/4QPz+50B2Me9AeTXkQKYqAEEyOAlB5iD0QKXTDUH3/hNBNWAWQRnoBEFKHftAcL4MQQ==",
          "dtype": "f4"
         }
        },
        {
         "hoverinfo": "text",
         "hovertext": [
          "And other than that also in my general life, since then, what I have observed is that I try to suppress my emotions a lot I never feel excited about anything.",
          "I was angry all the time and you just have to trigger me a bit and there I am.",
          "So I'll have to just sit it down and I have to stay away.",
          "I was when I was in the strip I said that I started crying.",
          "So it happens to me when there is a lot of stress which is beyond my control, especially actions which are beyond my control.",
          "So either I'm just completely numb and in my room and I'm not talking to anyone, then all of a sudden I'm very social and I'm doing work all the time.",
          "I come out as a very, this strong, complex person in front of people, and that is the reason that people have this habit of taking my emotions for granted that she'll not be bothered by such small things.",
          "I cried once and then I was like busy.",
          "So, like, all of a sudden I'll become uninterested in everything and I usually walk out four or five days a week.",
          "I probably I probably love to die alone rather than being in a place wherein I have to sell myself like this.",
          "I had very hard time controlling my emotions, especially anger.",
          "I used to lash out at people for no reason.",
          "And they know when I'm in a challenging place.",
          "I was getting no love.",
          "But I also know that I'm struggling within to find my place and it takes it takes a toll some time wherein I'm soverburdened and I'll just cut off from everything and I'll lock myself in and I'll not I rarely express my problems to anyone till the time it is like at an outburst.",
          "So even though people will feel like that I'm not reacting to it, but it is subconsciously in my head all the time and it keeps me, it makes me struggle in terms of regulating my emotions then.",
          "That's where all of my weird emotions start coming in.",
          "Because the arranged marriage setup is very humiliating, I would say.",
          "I was very emotional and then I was like, I'll take up on a part-time job and I'll make money and I'll put in.",
          "So I'm in pain, I'm crying.",
          "I just cannot agree to this thought ever.",
          "I'll not talk to anyone.",
          "And there is probably no relation they can derive from what I'm saying, but they'll say that I understand and I'm like, you don't understand.",
          "It's just that a lot of people put me in horrible situations and I was like, I need to take a step for myself and I need to be out of the system.",
          "There will be days where I I'll have breakdowns and I'll probably start crying in mourning and will cry till noon and then there are days I'll be completely numb wherein I don't I'm not feeling anything and I do not even want to feel anything.",
          "Regulating my life as well because it feels like then after that whatever comes out is a reaction of that.",
          "And then I'll be like, now I'm tired and I'll again go back to sleep.",
          "I usually avoid confronting people.",
          "So how that shows up is that I would sleep probably two entire days and then I'll start working.",
          "So my first encounter with depression was pretty much, I think I'm a teenage.",
          "I'm an early morning person, but then in those periods, all of a sudden this schedule will change.",
          "Like, that rarely happens that I'm super excited about anything.",
          "So I was continuously failing.",
          "And what I'm really expecting out of them is to just listen and not judge and not say things like I understand and I am here with you because I also know that you cannot be here with me.",
          "You might find me sad, but happiness comes very It's a very difficult thing to me.",
          "But then it has always reflected back whenever things have got really tough on me.",
          "and I'd love that work because it was demanding and it never gave me any space to think about anything and to even have that sort of breakdown.",
          "So, yeah, and right now, if I talk about like in past one year under the current moment, I feel like as you grow, you become very exported mastering your emotions.",
          "So that stress leads me to those that place wherein I'm in a very dark place then and all I would want us to do sleep eating or or doesn't attract me much.",
          "I'll not feel like talking to anyone.",
          "I'll start avoiding people majorly that happens a lot.",
          "You're working 13, 14 hours a day, you're not living.",
          "I'm afraid from sharing because one, I understand the burden of responsibility of others.",
          "And usually as a person I do not sleep for more than six hours, but in those periods, I'll all of sudden I'll start sleeping for 12 hours, 16 hours.",
          "But then I started resisting that I don't want this.",
          "I've become very mindful of that, but then all of a sudden I'll have craving to eat junk and I'm eating junk all the time so that part also also happens and in general, avoiding people, and I'm not an intro, I'm not an introvert at all, they start avoiding people altogether.",
          "That is the most comforting place for me and I'll end up sleeping.",
          "I'm sleeping in the morning till 10, which I usually, I'm up by seven.",
          "I've hated them.",
          "So my last four year in the walk, which I was doing, my work was very demanding.",
          "So I decided not to have any background check or anything on him and just directly go into that relationship.",
          "He can see me that I am in pain and I'm like continuously crying and yelling and all of that.",
          "I do not want to do anything.",
          "I'll have like really random sleep scares.",
          "I cannot do this.",
          "He's yelling at me for that.",
          "So that was like a really challenging time for me.",
          "And I do not want them to feel that.",
          "Like, he's so scared.",
          "But yeah, again, it's me who at times just tries to hold down on the conversational as well.",
          "And I do not want that feeling always.",
          "And this is very unsafe also because I'll tell you what, in India, when you travel into public transport, there are very, very like, huge chances that you will beoled.",
          "Then I was completely in the bed all the time.",
          "I want that constant noise in the background or play something and it is there and I'm just in my bed.",
          "I mean, the initial six months, I was, I did not see anyone for like a really long time.",
          "But then it also makes me feel guilty that you have all of this time and you're not doing anything.",
          "I just cannot.",
          "I love people, I love humans, and I really try to be an empath because I know how it feels to be in a place where in you don't know what is going to happen next.",
          "It just feels unreal to me when people say that sort of things.",
          "Like, even if they're trying to reach me, I'll be like, oh no, I'm not available.",
          "I do not used to sleep.",
          "And I'm watching anything which is not even relevant to what I remotely watch.",
          "I'm like, okay, I do not even mind that because I'll tell you what.",
          "And you are working part-time only that they'll only let you work 20 hours a week and you want to work 20 hours a day.",
          "I know that what is happening with, but I also know the pressure of projecting that how you're supposed to be because the world under situation and your living standards demand that.",
          "I'm probably working 13, 14 hours for no reason.",
          "I've also been a very low mentainous kid.",
          "I really try to be, but at the very same time I also try to keep my guards up in terms of you don't know how they're going to react the next moment.",
          "I've had a very rough life, okay, in past or 10, 12 years, especially.",
          "I do not want to put myself in a marriage setup.",
          "I usually do not feel that sad during winterures, but then this time it was, I was.",
          "I'm so tired of telling you that I need you.",
          "But now when I'm back, I cried the entire day yesterday.",
          "This week I've just fuck out once.",
          "Because for me that has now changed the dynamics So the usual perception of me people's size that she summoned by is strong, very responsible, very independent, right, disciplined, and then all of a sudden that breaks down.",
          "So all in all, I was at my low, like the lowest and that was a really dark place for me.",
          "And more than emotions, I mean, I think I'll real emotions.",
          "So that is my coping mechanis.",
          "I have literally hated them.",
          "So that is the reason I have a major issues with trusting people.",
          "So especially the December to January was a really, really dark, I mean, some people would call it the seasonal thing, but for me too was in the seasonal thing.",
          "I'm so sorry to hear that.",
          "It puts you in that guilt as well and that sad emotion puts you off because I mean, I just give an incident.",
          "I get into a very awkward place then with them.",
          "So my first, again, I felt abandoned there.",
          "The reason I'm able to talk about all of this very openly is because she help me articulate all of these thoughts.",
          "Because this also comes from a gender dynamic for me because as a woman, I have most of the people have dispersception when you enter a room is that oh, she's a woman she don't need to be taken care of.",
          "I also know that when I have when I'm already burdened in my situation and someone comes in and they add on some extra burden to it or some extra thoughts to it, it does pull me down.",
          "Okay, so I have earlier I used to react very widely to it and used to call them and have arguments and everything, but now what I have done is that even I stay back and I don't say a thing.",
          "But I also know that I need to resolve these emotions because I'm trying to take the adult approach on this and not be in this wishes circle forever because one thing which I promised myself when I came here is that I need to be out of this and I'm trying to take the steps to do that.",
          "So I usually do not get time to sit with my sadness because my life is so rigourous to me and it demands a lot.",
          "So you are so you understand for them also, it is a bit difficult because I'm the one who is breaking the cycle here and choosing a path which has not been chosen in the family So there was always a friction in that part that why are you doing this?",
          "And by the time you reach to your bed, you are so exhausted that you'll have to fall asleep, but then also you cannot sleep because I'll tell you what in the past four years I have also tried that when whenever they have pulled that stunt with me.",
          "But then I'm like, I cannot anymore and I'll just hold back.",
          "And then Monday and Tuesday, Wednesday and then Thursday will be like a huge downer all of a sudden then I would need to rot in the bed for that particular day and probably just play something and it's just lying there and I know that I'm not even watching it.",
          "So even if they know that I do not want to talk about this particular situation, they'll try and engage me in activities, which is probably like something just basic.",
          "And initially I did not realise that pattern, but then I was in therapy for almost six months, two years back, six months I did that therapy and she did help me understanding all of these emotions.",
          "But at the very same time, I also have people now who look at my face and know that there is something terribly wrong and they are invested in my life.",
          "I have a hard time believing because I have also had issues with people abandoning me.",
          "The thing is that I am bothered.",
          "I did get bullied for one year.",
          "I mean, as soon as they start seeing me in that light of that little vulnerable person, it shifts that dynamic for me because then all of their text, like this guy, all of a sudden, all of his texts have started saying that don't take too much risk, do not be too much test.",
          "I became very angry.",
          "He'll feel probably yell at me for that.",
          "And then all of a sudden I got very awkward with that.",
          "This is very embarrassing for me.",
          "I was like supremely bitter with everyone.",
          "Now, I know that this is something I cannot resolve.",
          "I'll probably sleep at noon for no reason.",
          "I know that my body is not tired.",
          "It does used to help me a lot in terms of I'm avoiding the conflict.",
          "I mean, I cannot share the I do not share my suicidal thoughts with anyone because I do not want to put them in that worrisome place.",
          "Because I was burned out with work as well.",
          "They not talk and I' be like I need space.",
          "So when this marriage episode started again and all of this started happening again, I was like, this is very humiliating because I met a guy, you'll not believe he's first of all, has no personality.",
          "So that mostly, for me, included was cutting off from everyone at being my own space suicidal thoughts.",
          "I am not in the problem, but I am in the problem and I'm just, it's basically like putting your head in the sand and saying that I workupied.",
          "And why are you like, so you try to then question yourself as well, that is there the problem with me?",
          "This is very embarrassing for me as a person.",
          "And it usually that for me, that pattern usually starts occurring when I have a lot of stress going on.",
          "I was 23 then and I was like, no, I don't want to do this.",
          "I do not want to be a part of such humiliating process, and I told them that very clearly that this is not my cup of tea.",
          "I was like, I do not want to date anyone.",
          "And this is happening in a call which is like early in the morning at 8 and I'm supposed to go to my shift at 9 and I'm listening all of this and I'm in tears because this is very humiliating to hear from your parents.",
          "And yeah, so in general, I mean, I'd be very stupid.",
          "Like, I spent approximately 16 hours sleeping yesterday and I don't know where they're tiredness is coming from because I'm not tired.",
          "I really do not want to, my friends call me today and they're like, do you want to hang out?"
         ],
         "marker": {
          "opacity": 0.5,
          "size": 5
         },
         "mode": "markers+text",
         "name": "1_ll_like_time",
         "text": [
          "",
          "",
          "",
          "",
          "",
          "",
          "",
          "",
          "",
          "",
          "",
          "",
          "",
          "",
          "",
          "",
          "",
          "",
          "",
          "",
          "",
          "",
          "",
          "",
          "",
          "",
          "",
          "",
          "",
          "",
          "",
          "",
          "",
          "",
          "",
          "",
          "",
          "",
          "",
          "",
          "",
          "",
          "",
          "",
          "",
          "",
          "",
          "",
          "",
          "",
          "",
          "",
          "",
          "",
          "",
          "",
          "",
          "",
          "",
          "",
          "",
          "",
          "",
          "",
          "",
          "",
          "",
          "",
          "",
          "",
          "",
          "",
          "",
          "",
          "",
          "",
          "",
          "",
          "",
          "",
          "",
          "",
          "",
          "",
          "",
          "",
          "",
          "",
          "",
          "",
          "",
          "",
          "",
          "",
          "",
          "",
          "",
          "",
          "",
          "",
          "",
          "",
          "",
          "",
          "",
          "",
          "",
          "",
          "",
          "",
          "",
          "",
          "",
          "",
          "",
          "",
          "",
          "",
          "",
          "",
          "",
          "",
          "",
          "",
          "",
          "",
          "",
          "",
          "",
          "",
          "",
          "",
          "",
          "",
          "",
          "",
          ""
         ],
         "textfont": {
          "size": 12
         },
         "type": "scattergl",
         "x": {
          "bdata": "wb0aQXcbH0EClBhBZeYhQdk7G0EitS1B/SYRQdNrIkGMmCZB8LwNQbx/H0H8uh1BH5ciQRFhHUFZLxhB9t8XQeP3HkEvaRRBa6giQa8XI0F98xVBBnMMQXj9BEF/sQ5BKlQjQWMUHUGcjjBBgp8SQWqRNEH7zhhBR/IsQfzQGEEDpBZBAgwHQXwBGkFoYxtB2YAZQYjzH0FP3hlBJWkLQSwQFEEKpDRBWQkQQR5ONEFJyQ1Bqi4UQfNZKEHQZDNBlZ0cQUaMGkFQdAdBbpckQdFVDUHjvyhBFZoVQWRBJUEHbxtBNHoMQdFNJ0HIAxVBGJIQQf9uFUFtojJBeacwQRAVC0EeMBZBWbkXQV6GEEFSmBZBYCYJQYrJMkE89hRBHKoLQTyMM0F9oR1BRw81QfntFEFw8hZBboQYQYmNCEHYfRZB86kKQfEyIkFgJCdBYIYQQRs9E0HGkiBBW/chQYNHG0F5Mg1BnnQSQQxgGkFtFBtB1AcVQZp3CkG8gBFBW3wNQeHxHEFdHhhBI3oLQVbCGEE7dwtBMpMxQfYEGkHKci1BrXAIQY/CF0Fp8h1Bqy4OQdBcFkHz6htB31URQQ4JH0HAqCVBNtwVQcIsF0Ep0x1BqHQXQWNvM0F2QC1BTlYZQbrDDEEw1BpBxGMLQaT5E0FgZA9BQjEZQa1nC0Fo3RVBUsAaQbOuDUH8rQtBR3ELQdqQFkHIChhBI1MzQbmBCkE=",
          "dtype": "f4"
         },
         "y": {
          "bdata": "2R0mQVotJkFIxjVBGZMoQWx6GkFDmx5BbpghQQuFKEGISx1BfT8nQTdEJkGXpSZBZ3AYQeOAJkEeJRdBWkYjQWjlJEGwqjJBE5QiQQRgKUEpPTZBU+0sQWeXMUEH5x9Bc7MoQUJrG0HjoB5BnuUjQSUIGkFIPQ5BxocaQYcrLEE+nwtBpLIwQcUBEEE+fRRB0rkWQWnJIEHy9hdB4FAtQb5MIUF+FxlBAAgiQYh8G0EjuC5BT+8fQedEHUHo0xpBOGYoQQvqEEF2rStBwFYnQTSQLkFoOCBBcpc2QYkcJkFj2BBBRmgvQdPII0EkQCVBtAQuQfRrIEG+VhlB6NQUQYWXE0Hzyh1B2+g1QarTIUFAaS1BsZktQQR6G0GkpzBB2yovQXAuGUEt2hpBZJEZQUCpEkGQgyRBiPEQQRIKLEFHNSZB6rAaQfbrKEG4UxpBSEkdQZIfFUHMdCJBRIkXQaRYKUER/B1B4cwUQazWL0GcfyJBjMUqQfgrEkG92B9BlJ8hQV73HEEqCyJBa3YdQdVPFUHT7BhBt7IdQRr6M0HRXBtB6e0vQWQ8D0HpOBtBhZUdQZR7MUH64yJBSA8bQV2YJkFJDyVBHC4rQc9HM0GbeidBdXc1QT39GkHbmxZBt6MdQVAJKkEwlA9BwywsQfpsM0FTWCZByesgQfBEGkHZwDBBfG4YQVIzLkG80C9B1TktQfp2MkEIWzJBn4obQVzqLUE=",
          "dtype": "f4"
         }
        },
        {
         "hoverinfo": "text",
         "hovertext": [
          "But it started coming out in an altogether a very different manner.",
          "The problem is there is not the same process from the other right.",
          "Because of the other things?",
          "Yeah, so now you are again back in that zone.",
          "That was that was it.",
          "So there is a lot of questioning on that part as well.",
          "So For example.",
          "Yeah, back then.",
          "And it is mostly their own actions, actually.",
          "So so there's not much if every routine.",
          "So when we are sharing all of these things with them, it comes out as a very strange thing to them that, oh, okay.",
          "Not even horrible.",
          "So that happens and then mindless scrolling.",
          "There were other reasons as well, but they were one of the reasons.",
          "That's also very interesting story.",
          "And it's like, yeah, of course.",
          "That's both conflict.",
          "So you do think of that thing every now and then.",
          "So that was also happening.",
          "So all of that happened.",
          "Yes, too much.",
          "so that we can do the basic thing there.",
          "The actions and Word don't match.",
          "This socidal thoughts also occur from time to time.",
          "So it does happen.",
          "And they were not the only reason.",
          "It's just there.",
          "They do the same thing.",
          "So all of these comments are getting passed.",
          "That is one.",
          "Then after that, couple of fears passed.",
          "They argued a lot of a lot.",
          "From the after the conflict, yes.",
          "Not all the time.",
          "Great to hear now, but then it was not at that point, that wasn't a great feeling.",
          "So there was always a friction about that.",
          "But so that is the reason.",
          "And it will be touched in appropriately and all of that.",
          "Then, again, after that.",
          "It's just it's just there in the background.",
          "So all of this is happening, and then you go to those Are marus setups.",
          "At that point.",
          "And it never happened.",
          "Not all the time.",
          "So they' backged up.",
          "And that too, does not happening in one stretch."
         ],
         "marker": {
          "opacity": 0.5,
          "size": 5
         },
         "mode": "markers+text",
         "name": "2_thing_happening_time time",
         "text": [
          "",
          "",
          "",
          "",
          "",
          "",
          "",
          "",
          "",
          "",
          "",
          "",
          "",
          "",
          "",
          "",
          "",
          "",
          "",
          "",
          "",
          "",
          "",
          "",
          "",
          "",
          "",
          "",
          "",
          "",
          "",
          "",
          "",
          "",
          "",
          "",
          "",
          "",
          "",
          "",
          "",
          "",
          "",
          "",
          "",
          ""
         ],
         "textfont": {
          "size": 12
         },
         "type": "scattergl",
         "x": {
          "bdata": "EHEYQXpkG0HTox5B0lYhQdOqI0ECTh1BL10oQT/2IEHqUR9BSeEcQVJYGUE0dSFBoyciQbbJHUHPWBtBMXcnQdgPHUFkHyVBgJYgQeRwIUGvRCVBmcUsQSJDGUH9GiJBbbskQZ/8HUHvzSlBF4YgQcevIUEfZydBEE0hQThGHkG3ryJBV68hQTLFI0HfFR9B6pUnQcPrK0HMbCFBN8EoQQ0NIkHgFCRBm3ofQY44IkEP7yBBtyYiQQ==",
          "dtype": "f4"
         },
         "y": {
          "bdata": "WxbAQIZmuUByKMFAa+TLQO73z0BVPb5AJWbGQOF3z0CsL7xA6qazQHXNv0B5h95A3pC7QGjTwkCmzMtAbBXFQFYGtUAr77hAclDGQKlbxkC2OcpAoVbPQNGEt0B6UrlACgu/QJYBwkDK4slAmUy7QADvxEBI0shAfLPMQOgTv0ATlMpAX8C4QLRS0EBhprZA0hbFQAs8zUAJnMpA1BLJQJA0xUC33sxATLKyQIH1ukBOjMlA2P23QA==",
          "dtype": "f4"
         }
        },
        {
         "hoverinfo": "text",
         "hovertext": [
          "We'll not even talk about what happened in the past or why we did this or why did this happen.",
          "You have got your own life.",
          "And you don't want to be seen in that way.",
          "So you then have the perfect amount of space where you want to cut off people and be on your own.",
          "So you do not even have that community around you, that I do have friends, but of course, how close can you be in an year, okay?",
          "So you're refrain from your sharing?",
          "It was them also who never got to live together.",
          "There is no trust, there is no support system wherein you can really go and tell them your real self.",
          "And blah, blah, blah.",
          "You do not have that kind of money.",
          "And we are not talking.",
          "You need not to worry.",
          "So you are you are throwing that money on our face.",
          "I do not even have that collateral.",
          "So you really do not have that as well.",
          "Because because you're like abroad.",
          "And not listening to us.",
          "So now now again, we are in a conflict where we are not talking.",
          "We are very far from that.",
          "Yeah, no appetite.",
          "This is this is literally not about.",
          "You don't believe them.",
          "This is not about you.",
          "And no external structure.",
          "So you really don't know where you stand with them.",
          "So that was a big problem because that's not allowed.",
          "You really are not.",
          "We are not going to support you in this.",
          "They like to create that scarcity for you.",
          "So you grew up in that environment.",
          "I mean, people are trying to be a bit open about it right now, but we are far from that.",
          "You don't have the time at all.",
          "You have a lot of free time.",
          "and then we'll have a conflict on that and we'll not then probably speak for five, six months.",
          "Again, that led to a very big drama and we were not talking again.",
          "They were not involved in it.",
          "Yeah, because you do not get time to feel anything.",
          "So you're outcasted there as well."
         ],
         "marker": {
          "opacity": 0.5,
          "size": 5
         },
         "mode": "markers+text",
         "name": "3_blah_talking_don",
         "text": [
          "",
          "",
          "",
          "",
          "",
          "",
          "",
          "",
          "",
          "",
          "",
          "",
          "",
          "",
          "",
          "",
          "",
          "",
          "",
          "",
          "",
          "",
          "",
          "",
          "",
          "",
          "",
          "",
          "",
          "",
          "",
          "",
          "",
          "",
          "",
          "",
          "",
          ""
         ],
         "textfont": {
          "size": 12
         },
         "type": "scattergl",
         "x": {
          "bdata": "13UOQdFtA0E9hwJBUDADQQqCAkGIkQNBFzfIQFgzA0ED6hBB+1T/QNQwDUEnVgNB9Jz9QGDa/UCBrgJBnqwDQaNSDkEQnA5BLsoIQTh+EkHQJAlBsu8CQQbgA0FXiBBB+mYCQag6EkHs2gJBx+sDQQzU/0BD6wJBSD0KQRULBUEpfQRBInsPQSXDDkFyNBFB/JIGQe4UA0E=",
          "dtype": "f4"
         },
         "y": {
          "bdata": "pFWuQFIzzkAMKLlANQvNQKJJvEBU3bZAf9XzQHSEs0DSd7FATq7CQNm8r0BrobdAP+jCQBPtwkALecBAgMHMQGuorkCxWq5AdYGyQBJiu0Dd0rBAy1G1QB4EtkC/4bFApiq6QGLUs0ABvLdAOgC2QAZEy0B77M9Ac1WyQAu/xEAWq8tAy2CvQPUurkBgGbNArGfEQBYxyUA=",
          "dtype": "f4"
         }
        },
        {
         "hoverinfo": "text",
         "hovertext": [
          "I'm trying to engage more in physical activities.",
          "So I'll probably wake up on Monday like, okay, I'm going to, we have got this and we're going to do everything.",
          "And in a week, I'm saying.",
          "So, yeah, that has been the bits and pieces of my journey so far.",
          "I'm really trying this time.",
          "I have always moved around.",
          "So that was my daily commute.",
          "So I'm trying.",
          "I'm going to fix everything.",
          "The work working a lot?",
          "I'm busy with something.",
          "I'm not much of an Instagram person, but when this phase comes in, I'll probably spend four hours just scrolling.",
          "I'm busy all the time.",
          "But the funny bit is, so last week we went to an Edund Rut trip and I was busy there all the time.",
          "And I do that very often.",
          "Two or three days in how long?",
          "So he also has load of his homework and everything.",
          "And since then, I have always lived in hostels.",
          "So I try to keep up with that and I'll probably do my best for two days or three days.",
          "I'm pretty young to do this.",
          "So I'll go on to this mission of doing a lot of work.",
          "So I am trying to keep myself busy and see where it goes.",
          "I'm really trying.",
          "And even if my friends are making plans, I'll be like, oh, no, I'm busy.",
          "I have now started walking in Pandora.",
          "I'm excited about this.",
          "I'll be at work all the time.",
          "Then I'll be working for probably like a crazy person for another three days.",
          "So I try and go work out intentionally."
         ],
         "marker": {
          "opacity": 0.5,
          "size": 5
         },
         "mode": "markers+text",
         "name": "4_busy_trying_ll",
         "text": [
          "",
          "",
          "",
          "",
          "",
          "",
          "",
          "",
          "",
          "",
          "",
          "",
          "",
          "",
          "",
          "",
          "",
          "",
          "",
          "",
          "",
          "",
          "",
          "",
          "",
          "",
          "",
          "",
          ""
         ],
         "textfont": {
          "size": 12
         },
         "type": "scattergl",
         "x": {
          "bdata": "7FUpQYGhM0EG3y9B6jIuQTm/JEFlHjBBPHIyQX8JJ0E3uDNBMpkzQaBJL0Fh8y9BdvExQcKGMkEw1ihBJEMzQVo0MUHZ3C9B+t0zQbrRJ0HDOzNB3QswQXa4JUF+STJBBYAuQcr8K0GbhDNBhg00QbvPJkE=",
          "dtype": "f4"
         },
         "y": {
          "bdata": "T+z/QK+v+kDm4/VA+q8BQRP8AEHZaQdBkfwDQbxoAEFOOfpA6Rf9QEOP+kCxEv1AfsABQVcWAkFBEwJB3ej+QA9l+kCqfQhBiTMAQQOt/ECmYv1AsO4AQSMjAUHqKwFBTYsDQbaO/kCu0QBBtUwAQQASAEE=",
          "dtype": "f4"
         }
        },
        {
         "hoverinfo": "text",
         "hovertext": [
          "I handed that entire thing on my.",
          "So I did go into two to three arranged barots set up tape.",
          "I was I was doing that pretty well.",
          "He did not he did not take my call for a month and I handled that entire thing on my own.",
          "I built up, okay.",
          "I did that for a month.",
          "So yeah, so I did all of that on my own.",
          "So I was doing that.",
          "And I went through.",
          "But then that behaviour was not only because I wanted to do that for myself.",
          "I was not doing bad.",
          "I'm doing this on my own.",
          "I did the all the paperwork on my own and it's very difficult to do everything on your own, especially when you have Indian government officials involved.",
          "So I did that entire process on my own.",
          "So I used to take care of his studies as well.",
          "So I was doing well.",
          "I handed that entire thing on my own, and this person left.",
          "But then I built up.",
          "Because I was just cuffing.",
          "And I was like, let's do it.",
          "And I tried to share.",
          "So I built up, I became a national level debater and, you know, I went to participate.",
          "I was I was continentously stabbed for that.",
          "This morning, I was in a workshop.",
          "Then finally, I think two years back, I was like, okay, let's do it because I was just tired of that."
         ],
         "marker": {
          "opacity": 0.5,
          "size": 5
         },
         "mode": "markers+text",
         "name": "5_did_doing_built",
         "text": [
          "",
          "",
          "",
          "",
          "",
          "",
          "",
          "",
          "",
          "",
          "",
          "",
          "",
          "",
          "",
          "",
          "",
          "",
          "",
          "",
          "",
          "",
          "",
          "",
          ""
         ],
         "textfont": {
          "size": 12
         },
         "type": "scattergl",
         "x": {
          "bdata": "kHsYQV6bIEHNlyBBKbIUQaEbIUFCKhlBOvkYQVjrH0HFWyJBWjQYQVk4IEEKCiRBmD0XQdQuGEGR3hlBFF0gQf33FUHMOiFBOHIfQS3zIkFW5yJBuvogQcsfHEGu/SRBlxkbQQ==",
          "dtype": "f4"
         },
         "y": {
          "bdata": "G573QPSQ8EBEYO5Asun2QLKA8ECeKvVABl31QOuD8kBZ8PNAVifyQBVP7kAsvfxApML4QPZ49kBwrfJAjAnxQO1C+UAYIPJA9xryQIWF80Bae/VAQOTvQOEp90DP3PdAa8b5QA==",
          "dtype": "f4"
         }
        },
        {
         "hoverinfo": "text",
         "hovertext": [
          "So she made me understand that, okay, this is your copic mechanism and what you're doing.",
          "So then all of a sudden, oh, she's very fat.",
          "And that is the reason when someone says that, oh, I'm here for you and oh, I understand.",
          "I know that.",
          "The female in that house is just a follower and the doer of things.",
          "That I get it, that you have decided that I'm a horrible kid, but I need to prove you wrong.",
          "Oh, she's too tall.",
          "She' do her normal.",
          "She's working in a shop now in a very condescending tone.",
          "I know her.",
          "Oh, she's like this.",
          "I know that.",
          "What she does is that she doesn't overbear with you with love whenever she's in a good place with you.",
          "Yeah, because I'll be like, oh, now they know.",
          "And I'll tell you the reason behind it.",
          "Yeah, so I'll just give you a bit of context on that.",
          "I know that bit.",
          "I'm just going to tell you about that as well.",
          "She She remains very normal.",
          "She's still in love with me.",
          "Now they know, because it happened to me recently."
         ],
         "marker": {
          "opacity": 0.5,
          "size": 5
         },
         "mode": "markers+text",
         "name": "6_oh_know_yeah ll",
         "text": [
          "",
          "",
          "",
          "",
          "",
          "",
          "",
          "",
          "",
          "",
          "",
          "",
          "",
          "",
          "",
          "",
          "",
          "",
          "",
          "",
          ""
         ],
         "textfont": {
          "size": 12
         },
         "type": "scattergl",
         "x": {
          "bdata": "PF3cQJPm5kCkCipBAz0rQRjj2EBN8CBB+3nhQHTZ2kANxdhAJtjdQN2u2kAfmitBq4PaQFjIKEH2jSlBEZUrQY1HK0GekitBtGraQPpk2UBaLSZB",
          "dtype": "f4"
         },
         "y": {
          "bdata": "fBkuQZiWKUFlcRNBCkQUQdiKLEEtrBRBkiQrQTURLUH7PixBI64uQfqfLUE/fRVBHNktQYxQFEFT4BFBNOkQQRmbFEHr4xFBxbQtQXiTLUFpPRVB",
          "dtype": "f4"
         }
        },
        {
         "hoverinfo": "text",
         "hovertext": [
          "So does it help, do you think?",
          "How do you feel?",
          "So do you have, do you think you've established some kind of support system?",
          "What am I supposed to go living there?",
          "does help with the emotions or the numbness or the new energy?",
          "So So what's your plan?",
          "What am I supposed to do?",
          "What are you selling?",
          "Yeah, a physical disease as well.",
          "What's my plan?",
          "And it does help a bit.",
          "What am I supposed to do?",
          "When you sit there, the kind of questions they ask you is, do you know how to cook?",
          "So, would you mind.",
          "Can you please do that for me?",
          "How are you doing this?",
          "I mean, what can I do about it?"
         ],
         "marker": {
          "opacity": 0.5,
          "size": 5
         },
         "mode": "markers+text",
         "name": "7_does help_help_supposed",
         "text": [
          "",
          "",
          "",
          "",
          "",
          "",
          "",
          "",
          "",
          "",
          "",
          "",
          "",
          "",
          "",
          "",
          ""
         ],
         "textfont": {
          "size": 12
         },
         "type": "scattergl",
         "x": {
          "bdata": "C+IzQTOtNUGk6TdB2uI5QeFQMkG8lDhB0uQ5QcSzOEFCICZBpos4QcMIMEGa7DlBhDM4QTfOMkF7YDdBVbc5QX1kOUE=",
          "dtype": "f4"
         },
         "y": {
          "bdata": "3Ra7QNw+uEBOWrlA7OK3QAyEvECIi7lAdBa4QEZMukDnIb9Aq2O6QDwzwUAdzbdAb+O6QLzivEDl/7xAFga4QHBsuUA=",
          "dtype": "f4"
         }
        },
        {
         "hoverinfo": "text",
         "hovertext": [
          "and each year the same problem used to happen, like why are you not getting married?",
          "I'm not I'm not going to get married.",
          "You'll pay probably somewhere around 20,000 to 30,000 pounds for me to get married to a guy who is who's probably even lesser educated than me, but has a job on basis of that job, he's getting, that money and I'm not getting anything.",
          "And on top of that they'll ask for dowry from you to get me married.",
          "Live with the question, no, I do not even know, do not even love just because I have to get married.",
          "And bang on after an ear, he got married to someone.",
          "He's he's happy to get married to you.",
          "So these are the kind of things which you hear in an arranged marriage.",
          "He has his career, but he also knows that if I'll go and get married there, I'm not going to have a career.",
          "He wanted me to get married to a guy who lives in some very small town.",
          "Like I'm till they scared of the fact that I'm going to call my parents someday and tell them that I have found a boyfriend and we're going to get, we are thinking of getting married that is going to be a problematic.",
          "So from there, from that year, that pattern started, then it moved on to the fact that we want you to put into an arranged marriage setup.",
          "And he's like, why are you not getting married to that guy?",
          "So is it usually like just you get married?",
          "Your relationships are hushed till the moment you both are like, okay about getting married and then also when you will tell your parents that there is someone who I'm going to get married to, you'll be like, I don't know, there'd be a huge, huge lot of drama.",
          "Why are you not getting married to him?",
          "I'm not going to stand in between your career, but are we still doing the relationship?"
         ],
         "marker": {
          "opacity": 0.5,
          "size": 5
         },
         "mode": "markers+text",
         "name": "8_married_getting_getting married",
         "text": [
          "",
          "",
          "",
          "",
          "",
          "",
          "",
          "",
          "",
          "",
          "",
          "",
          "",
          "",
          "",
          "",
          ""
         ],
         "textfont": {
          "size": 12
         },
         "type": "scattergl",
         "x": {
          "bdata": "vDSpQC+vq0BLGKpA9hGrQPWJq0C8oKtAArSqQEyKrEB2xKlAX22qQIZ9rkDhcaxATGqnQHgaq0DwhK1AfB6oQDu2qkA=",
          "dtype": "f4"
         },
         "y": {
          "bdata": "RBoYQTORGUGyYhNBZNAUQb6cFkEcnhVBweIVQe5WFUETsRlB4KkVQVL0FEHBwhVBaAkZQfYUF0HiGBVBLegYQSvcGkE=",
          "dtype": "f4"
         }
        },
        {
         "hoverinfo": "text",
         "hovertext": [
          "The carelessness is to this level when I have had TB while I was two years old and they already know that the kind of history I have had with my language issues cool.",
          "And so I was, I mean, somehow got saved there, but after that, it took me like, and I also went through a huge disease at that point.",
          "So I got admitted in the hospital.",
          "And they have they also, I have two people, two people with whom I have like confronted the entire story.",
          "For now we are just giving her painkillers and you can take her back home.",
          "So they said that that she probably could have stones or something in her kidney due to which she's getting the painain, we'll get to know in the morning when we will do the scan.",
          "So I was, I got I got pneumonia and my right lung was infected very badly.",
          "So these are the kind of comments which I have heard over a period of time from my parents.",
          "So, all of this is happening and then in between all of this, I got this deadly disease and I especially like to narrate that special incident because that actually will tell you a lot about my parents and the relationship I share with them.",
          "Then we went in the morning and then they got to know that, okay, she has pneumonia and she's probably on a very dangerous stage wherein she'll have to be admitted.",
          "So I was like, okay, we went to the hospital and at that point of time in the night, only the emergency care is available.",
          "and this went on till three in the night when they decided that they are now going to take me to the hospital because now this has got out of hand.",
          "So my mom took me to a doctor and he gave me some medicines.",
          "So I was just given an injection and I was sent back home.",
          "And this was also when after like in three months of a span, I was I got a deadly disease as well.",
          "So he took his time, he took his own time to finally come to senses to take me to the hospital."
         ],
         "marker": {
          "opacity": 0.5,
          "size": 5
         },
         "mode": "markers+text",
         "name": "9_got_hospital_took",
         "text": [
          "",
          "",
          "",
          "",
          "",
          "",
          "",
          "",
          "",
          "",
          "",
          "",
          "",
          "",
          "",
          ""
         ],
         "textfont": {
          "size": 12
         },
         "type": "scattergl",
         "x": {
          "bdata": "Q10BQVv4/UDbJ+5AmC8AQcWa4UCi7eZA0PvxQNuO/EA45f1AtfbtQMeo70AV9fBAIljrQAsQ6UDsH/1ACgntQA==",
          "dtype": "f4"
         },
         "y": {
          "bdata": "eeAXQenbIEFb1CFBGqsbQblRI0FDkiRBUCgiQYZPEUEEMBtBuW4jQXNQIkFLcSJBvLQhQS4sIkHeVCBBkHIgQQ==",
          "dtype": "f4"
         }
        },
        {
         "hoverinfo": "text",
         "hovertext": [
          "You do a full-time job after your grad school probably, but not before that.",
          "Again, I'd like two problems because how can you, you are 30 and you are thinking of going for a masters now.",
          "I'm an international student.",
          "Now the thing about me is because I've been through so much change, so when I go to a new school, I take my one year when I getried.",
          "So my real test is now that how am I going to survive this this time around because now I do not even have work to bury myself because you are you on the break from school.",
          "So I was like, because I also have to think about my career.",
          "My father said that if you want to do arts or humanities, you can leave education and you can go back to village and probably get married.",
          "I wanted my major to be in arts or humanities.",
          "I got placed in my last year of my graduation.",
          "So I picked science.",
          "I'm usually a very competitive person and I'd like to give the best on everything but then all of a sudden academics is also like okay let's just finish this up and be done with it and they're done.",
          "If you want to study, you'll have to study science.",
          "I did science, but that was not my forte.",
          "So in Indian education system, what happens is that once we are in the 10th standard, you get to choose your subjects, that what do you want your major to be in?",
          "And I was not really sure that if I'm going to make it because the kind of education I have had in my country and the education standards here are very different and the quiche meths are very different.",
          "And you have no connections, you have pressure to find a job, you have pressure to make money, you have pressure to do while you're near academics, I return to academics after like 10 years."
         ],
         "marker": {
          "opacity": 0.5,
          "size": 5
         },
         "mode": "markers+text",
         "name": "10_education_science_academics",
         "text": [
          "",
          "",
          "",
          "",
          "",
          "",
          "",
          "",
          "",
          "",
          "",
          "",
          "",
          "",
          "",
          ""
         ],
         "textfont": {
          "size": 12
         },
         "type": "scattergl",
         "x": {
          "bdata": "7UoJQTKsDkG0EAlBCnMJQXxeDUGFBRJB1oMDQdUmDkHJxQdB5g0PQZxpEEHqXQ9BgpIQQQiWDUHNigtBFjsPQQ==",
          "dtype": "f4"
         },
         "y": {
          "bdata": "sNwAQSkyBEE4OgJB0t8FQQIaBUGbFwdBCSAFQeVSBEGzMwNBZk4DQdY6CUF6KwNBXh8EQXWwA0F3BQNBbnEDQQ==",
          "dtype": "f4"
         }
        },
        {
         "hoverinfo": "text",
         "hovertext": [
          "She She's selling, I don't know what.",
          "Oh, she does not know anything.",
          "So I don't know.",
          "And not only that, after that, they'll ask, is she really earning?",
          "Then, of course, my parents don't know this.",
          "But I don't know.",
          "Give her some money.",
          "I don't know what she's up to.",
          "Oh, she does not know anything.",
          "And I'm like, I am not wearing makeup in that picture.",
          "I mean, I have literally heard things like, can she send a picture wherein she's not wearing makeup?",
          "And at that point I did not know that there is anything like called aression.",
          "Can she send her salary slip?",
          "But then when it started, nobody knew that what exactly is the problem?"
         ],
         "marker": {
          "opacity": 0.5,
          "size": 5
         },
         "mode": "markers+text",
         "name": "11_know_don know_don",
         "text": [
          "",
          "",
          "",
          "",
          "",
          "",
          "",
          "",
          "",
          "",
          "",
          "",
          "",
          ""
         ],
         "textfont": {
          "size": 12
         },
         "type": "scattergl",
         "x": {
          "bdata": "oETRQDFTy0CjnclAWG/OQPZDyED3GMtACtzTQKLkz0CLbctAJFXEQJnpyEATUchAHybNQCadx0A=",
          "dtype": "f4"
         },
         "y": {
          "bdata": "fssnQd8vKkHJFStBJH8mQV/mKUHZfCpBuTUkQUgqKUEEkClBcxclQVXuJkFWzCtB340mQV8XLEE=",
          "dtype": "f4"
         }
        }
       ],
       "layout": {
        "annotations": [
         {
          "showarrow": false,
          "text": "D1",
          "x": 4.446966648101807,
          "y": 8.924739837646484,
          "yshift": 10
         },
         {
          "showarrow": false,
          "text": "D2",
          "x": 8.905135154724121,
          "xshift": 10,
          "y": 13.222732543945312
         }
        ],
        "height": 750,
        "shapes": [
         {
          "line": {
           "color": "#CFD8DC",
           "width": 2
          },
          "type": "line",
          "x0": 8.905135154724121,
          "x1": 8.905135154724121,
          "y0": 4.626747131347656,
          "y1": 13.222732543945312
         },
         {
          "line": {
           "color": "#9E9E9E",
           "width": 2
          },
          "type": "line",
          "x0": 4.446966648101807,
          "x1": 13.363304138183594,
          "y0": 8.924739837646484,
          "y1": 8.924739837646484
         }
        ],
        "template": {
         "data": {
          "bar": [
           {
            "error_x": {
             "color": "rgb(36,36,36)"
            },
            "error_y": {
             "color": "rgb(36,36,36)"
            },
            "marker": {
             "line": {
              "color": "white",
              "width": 0.5
             },
             "pattern": {
              "fillmode": "overlay",
              "size": 10,
              "solidity": 0.2
             }
            },
            "type": "bar"
           }
          ],
          "barpolar": [
           {
            "marker": {
             "line": {
              "color": "white",
              "width": 0.5
             },
             "pattern": {
              "fillmode": "overlay",
              "size": 10,
              "solidity": 0.2
             }
            },
            "type": "barpolar"
           }
          ],
          "carpet": [
           {
            "aaxis": {
             "endlinecolor": "rgb(36,36,36)",
             "gridcolor": "white",
             "linecolor": "white",
             "minorgridcolor": "white",
             "startlinecolor": "rgb(36,36,36)"
            },
            "baxis": {
             "endlinecolor": "rgb(36,36,36)",
             "gridcolor": "white",
             "linecolor": "white",
             "minorgridcolor": "white",
             "startlinecolor": "rgb(36,36,36)"
            },
            "type": "carpet"
           }
          ],
          "choropleth": [
           {
            "colorbar": {
             "outlinewidth": 1,
             "tickcolor": "rgb(36,36,36)",
             "ticks": "outside"
            },
            "type": "choropleth"
           }
          ],
          "contour": [
           {
            "colorbar": {
             "outlinewidth": 1,
             "tickcolor": "rgb(36,36,36)",
             "ticks": "outside"
            },
            "colorscale": [
             [
              0,
              "#440154"
             ],
             [
              0.1111111111111111,
              "#482878"
             ],
             [
              0.2222222222222222,
              "#3e4989"
             ],
             [
              0.3333333333333333,
              "#31688e"
             ],
             [
              0.4444444444444444,
              "#26828e"
             ],
             [
              0.5555555555555556,
              "#1f9e89"
             ],
             [
              0.6666666666666666,
              "#35b779"
             ],
             [
              0.7777777777777778,
              "#6ece58"
             ],
             [
              0.8888888888888888,
              "#b5de2b"
             ],
             [
              1,
              "#fde725"
             ]
            ],
            "type": "contour"
           }
          ],
          "contourcarpet": [
           {
            "colorbar": {
             "outlinewidth": 1,
             "tickcolor": "rgb(36,36,36)",
             "ticks": "outside"
            },
            "type": "contourcarpet"
           }
          ],
          "heatmap": [
           {
            "colorbar": {
             "outlinewidth": 1,
             "tickcolor": "rgb(36,36,36)",
             "ticks": "outside"
            },
            "colorscale": [
             [
              0,
              "#440154"
             ],
             [
              0.1111111111111111,
              "#482878"
             ],
             [
              0.2222222222222222,
              "#3e4989"
             ],
             [
              0.3333333333333333,
              "#31688e"
             ],
             [
              0.4444444444444444,
              "#26828e"
             ],
             [
              0.5555555555555556,
              "#1f9e89"
             ],
             [
              0.6666666666666666,
              "#35b779"
             ],
             [
              0.7777777777777778,
              "#6ece58"
             ],
             [
              0.8888888888888888,
              "#b5de2b"
             ],
             [
              1,
              "#fde725"
             ]
            ],
            "type": "heatmap"
           }
          ],
          "histogram": [
           {
            "marker": {
             "line": {
              "color": "white",
              "width": 0.6
             }
            },
            "type": "histogram"
           }
          ],
          "histogram2d": [
           {
            "colorbar": {
             "outlinewidth": 1,
             "tickcolor": "rgb(36,36,36)",
             "ticks": "outside"
            },
            "colorscale": [
             [
              0,
              "#440154"
             ],
             [
              0.1111111111111111,
              "#482878"
             ],
             [
              0.2222222222222222,
              "#3e4989"
             ],
             [
              0.3333333333333333,
              "#31688e"
             ],
             [
              0.4444444444444444,
              "#26828e"
             ],
             [
              0.5555555555555556,
              "#1f9e89"
             ],
             [
              0.6666666666666666,
              "#35b779"
             ],
             [
              0.7777777777777778,
              "#6ece58"
             ],
             [
              0.8888888888888888,
              "#b5de2b"
             ],
             [
              1,
              "#fde725"
             ]
            ],
            "type": "histogram2d"
           }
          ],
          "histogram2dcontour": [
           {
            "colorbar": {
             "outlinewidth": 1,
             "tickcolor": "rgb(36,36,36)",
             "ticks": "outside"
            },
            "colorscale": [
             [
              0,
              "#440154"
             ],
             [
              0.1111111111111111,
              "#482878"
             ],
             [
              0.2222222222222222,
              "#3e4989"
             ],
             [
              0.3333333333333333,
              "#31688e"
             ],
             [
              0.4444444444444444,
              "#26828e"
             ],
             [
              0.5555555555555556,
              "#1f9e89"
             ],
             [
              0.6666666666666666,
              "#35b779"
             ],
             [
              0.7777777777777778,
              "#6ece58"
             ],
             [
              0.8888888888888888,
              "#b5de2b"
             ],
             [
              1,
              "#fde725"
             ]
            ],
            "type": "histogram2dcontour"
           }
          ],
          "mesh3d": [
           {
            "colorbar": {
             "outlinewidth": 1,
             "tickcolor": "rgb(36,36,36)",
             "ticks": "outside"
            },
            "type": "mesh3d"
           }
          ],
          "parcoords": [
           {
            "line": {
             "colorbar": {
              "outlinewidth": 1,
              "tickcolor": "rgb(36,36,36)",
              "ticks": "outside"
             }
            },
            "type": "parcoords"
           }
          ],
          "pie": [
           {
            "automargin": true,
            "type": "pie"
           }
          ],
          "scatter": [
           {
            "fillpattern": {
             "fillmode": "overlay",
             "size": 10,
             "solidity": 0.2
            },
            "type": "scatter"
           }
          ],
          "scatter3d": [
           {
            "line": {
             "colorbar": {
              "outlinewidth": 1,
              "tickcolor": "rgb(36,36,36)",
              "ticks": "outside"
             }
            },
            "marker": {
             "colorbar": {
              "outlinewidth": 1,
              "tickcolor": "rgb(36,36,36)",
              "ticks": "outside"
             }
            },
            "type": "scatter3d"
           }
          ],
          "scattercarpet": [
           {
            "marker": {
             "colorbar": {
              "outlinewidth": 1,
              "tickcolor": "rgb(36,36,36)",
              "ticks": "outside"
             }
            },
            "type": "scattercarpet"
           }
          ],
          "scattergeo": [
           {
            "marker": {
             "colorbar": {
              "outlinewidth": 1,
              "tickcolor": "rgb(36,36,36)",
              "ticks": "outside"
             }
            },
            "type": "scattergeo"
           }
          ],
          "scattergl": [
           {
            "marker": {
             "colorbar": {
              "outlinewidth": 1,
              "tickcolor": "rgb(36,36,36)",
              "ticks": "outside"
             }
            },
            "type": "scattergl"
           }
          ],
          "scattermap": [
           {
            "marker": {
             "colorbar": {
              "outlinewidth": 1,
              "tickcolor": "rgb(36,36,36)",
              "ticks": "outside"
             }
            },
            "type": "scattermap"
           }
          ],
          "scattermapbox": [
           {
            "marker": {
             "colorbar": {
              "outlinewidth": 1,
              "tickcolor": "rgb(36,36,36)",
              "ticks": "outside"
             }
            },
            "type": "scattermapbox"
           }
          ],
          "scatterpolar": [
           {
            "marker": {
             "colorbar": {
              "outlinewidth": 1,
              "tickcolor": "rgb(36,36,36)",
              "ticks": "outside"
             }
            },
            "type": "scatterpolar"
           }
          ],
          "scatterpolargl": [
           {
            "marker": {
             "colorbar": {
              "outlinewidth": 1,
              "tickcolor": "rgb(36,36,36)",
              "ticks": "outside"
             }
            },
            "type": "scatterpolargl"
           }
          ],
          "scatterternary": [
           {
            "marker": {
             "colorbar": {
              "outlinewidth": 1,
              "tickcolor": "rgb(36,36,36)",
              "ticks": "outside"
             }
            },
            "type": "scatterternary"
           }
          ],
          "surface": [
           {
            "colorbar": {
             "outlinewidth": 1,
             "tickcolor": "rgb(36,36,36)",
             "ticks": "outside"
            },
            "colorscale": [
             [
              0,
              "#440154"
             ],
             [
              0.1111111111111111,
              "#482878"
             ],
             [
              0.2222222222222222,
              "#3e4989"
             ],
             [
              0.3333333333333333,
              "#31688e"
             ],
             [
              0.4444444444444444,
              "#26828e"
             ],
             [
              0.5555555555555556,
              "#1f9e89"
             ],
             [
              0.6666666666666666,
              "#35b779"
             ],
             [
              0.7777777777777778,
              "#6ece58"
             ],
             [
              0.8888888888888888,
              "#b5de2b"
             ],
             [
              1,
              "#fde725"
             ]
            ],
            "type": "surface"
           }
          ],
          "table": [
           {
            "cells": {
             "fill": {
              "color": "rgb(237,237,237)"
             },
             "line": {
              "color": "white"
             }
            },
            "header": {
             "fill": {
              "color": "rgb(217,217,217)"
             },
             "line": {
              "color": "white"
             }
            },
            "type": "table"
           }
          ]
         },
         "layout": {
          "annotationdefaults": {
           "arrowhead": 0,
           "arrowwidth": 1
          },
          "autotypenumbers": "strict",
          "coloraxis": {
           "colorbar": {
            "outlinewidth": 1,
            "tickcolor": "rgb(36,36,36)",
            "ticks": "outside"
           }
          },
          "colorscale": {
           "diverging": [
            [
             0,
             "rgb(103,0,31)"
            ],
            [
             0.1,
             "rgb(178,24,43)"
            ],
            [
             0.2,
             "rgb(214,96,77)"
            ],
            [
             0.3,
             "rgb(244,165,130)"
            ],
            [
             0.4,
             "rgb(253,219,199)"
            ],
            [
             0.5,
             "rgb(247,247,247)"
            ],
            [
             0.6,
             "rgb(209,229,240)"
            ],
            [
             0.7,
             "rgb(146,197,222)"
            ],
            [
             0.8,
             "rgb(67,147,195)"
            ],
            [
             0.9,
             "rgb(33,102,172)"
            ],
            [
             1,
             "rgb(5,48,97)"
            ]
           ],
           "sequential": [
            [
             0,
             "#440154"
            ],
            [
             0.1111111111111111,
             "#482878"
            ],
            [
             0.2222222222222222,
             "#3e4989"
            ],
            [
             0.3333333333333333,
             "#31688e"
            ],
            [
             0.4444444444444444,
             "#26828e"
            ],
            [
             0.5555555555555556,
             "#1f9e89"
            ],
            [
             0.6666666666666666,
             "#35b779"
            ],
            [
             0.7777777777777778,
             "#6ece58"
            ],
            [
             0.8888888888888888,
             "#b5de2b"
            ],
            [
             1,
             "#fde725"
            ]
           ],
           "sequentialminus": [
            [
             0,
             "#440154"
            ],
            [
             0.1111111111111111,
             "#482878"
            ],
            [
             0.2222222222222222,
             "#3e4989"
            ],
            [
             0.3333333333333333,
             "#31688e"
            ],
            [
             0.4444444444444444,
             "#26828e"
            ],
            [
             0.5555555555555556,
             "#1f9e89"
            ],
            [
             0.6666666666666666,
             "#35b779"
            ],
            [
             0.7777777777777778,
             "#6ece58"
            ],
            [
             0.8888888888888888,
             "#b5de2b"
            ],
            [
             1,
             "#fde725"
            ]
           ]
          },
          "colorway": [
           "#1F77B4",
           "#FF7F0E",
           "#2CA02C",
           "#D62728",
           "#9467BD",
           "#8C564B",
           "#E377C2",
           "#7F7F7F",
           "#BCBD22",
           "#17BECF"
          ],
          "font": {
           "color": "rgb(36,36,36)"
          },
          "geo": {
           "bgcolor": "white",
           "lakecolor": "white",
           "landcolor": "white",
           "showlakes": true,
           "showland": true,
           "subunitcolor": "white"
          },
          "hoverlabel": {
           "align": "left"
          },
          "hovermode": "closest",
          "mapbox": {
           "style": "light"
          },
          "paper_bgcolor": "white",
          "plot_bgcolor": "white",
          "polar": {
           "angularaxis": {
            "gridcolor": "rgb(232,232,232)",
            "linecolor": "rgb(36,36,36)",
            "showgrid": false,
            "showline": true,
            "ticks": "outside"
           },
           "bgcolor": "white",
           "radialaxis": {
            "gridcolor": "rgb(232,232,232)",
            "linecolor": "rgb(36,36,36)",
            "showgrid": false,
            "showline": true,
            "ticks": "outside"
           }
          },
          "scene": {
           "xaxis": {
            "backgroundcolor": "white",
            "gridcolor": "rgb(232,232,232)",
            "gridwidth": 2,
            "linecolor": "rgb(36,36,36)",
            "showbackground": true,
            "showgrid": false,
            "showline": true,
            "ticks": "outside",
            "zeroline": false,
            "zerolinecolor": "rgb(36,36,36)"
           },
           "yaxis": {
            "backgroundcolor": "white",
            "gridcolor": "rgb(232,232,232)",
            "gridwidth": 2,
            "linecolor": "rgb(36,36,36)",
            "showbackground": true,
            "showgrid": false,
            "showline": true,
            "ticks": "outside",
            "zeroline": false,
            "zerolinecolor": "rgb(36,36,36)"
           },
           "zaxis": {
            "backgroundcolor": "white",
            "gridcolor": "rgb(232,232,232)",
            "gridwidth": 2,
            "linecolor": "rgb(36,36,36)",
            "showbackground": true,
            "showgrid": false,
            "showline": true,
            "ticks": "outside",
            "zeroline": false,
            "zerolinecolor": "rgb(36,36,36)"
           }
          },
          "shapedefaults": {
           "fillcolor": "black",
           "line": {
            "width": 0
           },
           "opacity": 0.3
          },
          "ternary": {
           "aaxis": {
            "gridcolor": "rgb(232,232,232)",
            "linecolor": "rgb(36,36,36)",
            "showgrid": false,
            "showline": true,
            "ticks": "outside"
           },
           "baxis": {
            "gridcolor": "rgb(232,232,232)",
            "linecolor": "rgb(36,36,36)",
            "showgrid": false,
            "showline": true,
            "ticks": "outside"
           },
           "bgcolor": "white",
           "caxis": {
            "gridcolor": "rgb(232,232,232)",
            "linecolor": "rgb(36,36,36)",
            "showgrid": false,
            "showline": true,
            "ticks": "outside"
           }
          },
          "title": {
           "x": 0.05
          },
          "xaxis": {
           "automargin": true,
           "gridcolor": "rgb(232,232,232)",
           "linecolor": "rgb(36,36,36)",
           "showgrid": false,
           "showline": true,
           "ticks": "outside",
           "title": {
            "standoff": 15
           },
           "zeroline": false,
           "zerolinecolor": "rgb(36,36,36)"
          },
          "yaxis": {
           "automargin": true,
           "gridcolor": "rgb(232,232,232)",
           "linecolor": "rgb(36,36,36)",
           "showgrid": false,
           "showline": true,
           "ticks": "outside",
           "title": {
            "standoff": 15
           },
           "zeroline": false,
           "zerolinecolor": "rgb(36,36,36)"
          }
         }
        },
        "title": {
         "font": {
          "color": "Black",
          "size": 22
         },
         "text": "<b>Documents and Topics</b>",
         "x": 0.5,
         "xanchor": "center",
         "yanchor": "top"
        },
        "width": 1200,
        "xaxis": {
         "visible": false
        },
        "yaxis": {
         "visible": false
        }
       }
      }
     },
     "metadata": {},
     "output_type": "display_data"
    }
   ],
   "source": [
    "topic_model.visualize_documents(docs, \n",
    "                                reduced_embeddings=reduced_embeddings,\n",
    "                                hide_annotations=True, \n",
    "                                hide_document_hover=False, \n",
    "                                custom_labels=True)"
   ]
  },
  {
   "cell_type": "code",
   "execution_count": 66,
   "id": "9c85739c",
   "metadata": {},
   "outputs": [
    {
     "data": {
      "text/plain": [
       "(<Figure size 1000x1000 with 1 Axes>,\n",
       " <Axes: title={'left': 'Topics labeled with `llama-3-8b-instruct`'}>)"
      ]
     },
     "execution_count": 66,
     "metadata": {},
     "output_type": "execute_result"
    },
    {
     "data": {
      "image/png": "[encoded data removed]",
      "text/plain": [
       "<Figure size 1000x1000 with 1 Axes>"
      ]
     },
     "metadata": {},
     "output_type": "display_data"
    }
   ],
   "source": [
    "# Create a label for each document\n",
    "llm_labels = [re.sub(r'\\W+', ' ', label[0][0].split(\"\\n\")[0].replace('\"', '')) for label in topic_model.get_topics(full=True)[\"LLM\"].values()]\n",
    "llm_labels = [label if label else \"Unlabelled\" for label in llm_labels]\n",
    "all_labels = [llm_labels[topic+topic_model._outliers] if topic != -1 else \"Unlabelled\" for topic in topics]\n",
    "\n",
    "\n",
    "# Run the visualization\n",
    "datamapplot.create_plot(\n",
    "   reduced_embeddings,\n",
    "   all_labels,\n",
    "   label_font_size=11,\n",
    "   title=\"Dimensions of experience in depression\",\n",
    "   sub_title=\"Topics labeled with `llama-3-8b-instruct`\",\n",
    "   label_wrap_width=20\n",
    ")"
   ]
  },
  {
   "cell_type": "code",
   "execution_count": 67,
   "id": "e7e678bb",
   "metadata": {},
   "outputs": [
    {
     "data": {
      "application/vnd.plotly.v1+json": {
       "config": {
        "plotlyServerURL": "https://plot.ly"
       },
       "data": [
        {
         "hoverinfo": "text",
         "marker": {
          "color": "rgb(0,116,217)"
         },
         "mode": "lines",
         "type": "scatter",
         "x": {
          "bdata": "AAAAAAAAAAAdeLy9MFHtPx14vL0wUe0/AAAAAAAAAAA=",
          "dtype": "f8"
         },
         "xaxis": "x",
         "y": {
          "bdata": "AAAAAAAALsAAAAAAAAAuwAAAAAAAADnAAAAAAAAAOcA=",
          "dtype": "f8"
         },
         "yaxis": "y"
        },
        {
         "hoverinfo": "text",
         "marker": {
          "color": "rgb(0,116,217)"
         },
         "mode": "lines",
         "type": "scatter",
         "x": {
          "bdata": "AAAAAAAAAACI12I4DXTvP4jXYjgNdO8/HXi8vTBR7T8=",
          "dtype": "f8"
         },
         "xaxis": "x",
         "y": {
          "bdata": "AAAAAAAAFMAAAAAAAAAUwAAAAAAAADTAAAAAAAAANMA=",
          "dtype": "f8"
         },
         "yaxis": "y"
        },
        {
         "hoverinfo": "text",
         "marker": {
          "color": "rgb(0,116,217)"
         },
         "mode": "lines",
         "type": "scatter",
         "x": {
          "bdata": "AAAAAAAAAAB9yzukduHtP33LO6R24e0/AAAAAAAAAAA=",
          "dtype": "f8"
         },
         "xaxis": "x",
         "y": {
          "bdata": "AAAAAACAQcAAAAAAAIBBwAAAAAAAgEbAAAAAAACARsA=",
          "dtype": "f8"
         },
         "yaxis": "y"
        },
        {
         "hoverinfo": "text",
         "marker": {
          "color": "rgb(61,153,112)"
         },
         "mode": "lines",
         "type": "scatter",
         "x": {
          "bdata": "AAAAAAAAAAAYqCspKjjqPxioKykqOOo/AAAAAAAAAAA=",
          "dtype": "f8"
         },
         "xaxis": "x",
         "y": {
          "bdata": "AAAAAABAUMAAAAAAAEBQwAAAAAAAwFLAAAAAAADAUsA=",
          "dtype": "f8"
         },
         "yaxis": "y"
        },
        {
         "hoverinfo": "text",
         "marker": {
          "color": "rgb(0,116,217)"
         },
         "mode": "lines",
         "type": "scatter",
         "x": {
          "bdata": "AAAAAAAAAACKbWjp1EPtP4ptaOnUQ+0/GKgrKSo46j8=",
          "dtype": "f8"
         },
         "xaxis": "x",
         "y": {
          "bdata": "AAAAAACAS8AAAAAAAIBLwAAAAAAAgFHAAAAAAACAUcA=",
          "dtype": "f8"
         },
         "yaxis": "y"
        },
        {
         "hoverinfo": "text",
         "marker": {
          "color": "rgb(0,116,217)"
         },
         "mode": "lines",
         "type": "scatter",
         "x": {
          "bdata": "im1o6dRD7T+VO/PhCujtP5U78+EK6O0/AAAAAAAAAAA=",
          "dtype": "f8"
         },
         "xaxis": "x",
         "y": {
          "bdata": "AAAAAABAT8AAAAAAAEBPwAAAAAAAQFXAAAAAAABAVcA=",
          "dtype": "f8"
         },
         "yaxis": "y"
        },
        {
         "hoverinfo": "text",
         "marker": {
          "color": "rgb(0,116,217)"
         },
         "mode": "lines",
         "type": "scatter",
         "x": {
          "bdata": "fcs7pHbh7T8JE8UxCkTvPwkTxTEKRO8/lTvz4Qro7T8=",
          "dtype": "f8"
         },
         "xaxis": "x",
         "y": {
          "bdata": "AAAAAAAARMAAAAAAAABEwAAAAAAAcFLAAAAAAABwUsA=",
          "dtype": "f8"
         },
         "yaxis": "y"
        },
        {
         "hoverinfo": "text",
         "marker": {
          "color": "rgb(0,116,217)"
         },
         "mode": "lines",
         "type": "scatter",
         "x": {
          "bdata": "AAAAAAAAAACQXCDsmrDuP5BcIOyasO4/AAAAAAAAAAA=",
          "dtype": "f8"
         },
         "xaxis": "x",
         "y": {
          "bdata": "AAAAAABAWsAAAAAAAEBawAAAAAAAwFzAAAAAAADAXMA=",
          "dtype": "f8"
         },
         "yaxis": "y"
        },
        {
         "hoverinfo": "text",
         "marker": {
          "color": "rgb(0,116,217)"
         },
         "mode": "lines",
         "type": "scatter",
         "x": {
          "bdata": "AAAAAAAAAAB0kuBtqgvvP3SS4G2qC+8/kFwg7Jqw7j8=",
          "dtype": "f8"
         },
         "xaxis": "x",
         "y": {
          "bdata": "AAAAAADAV8AAAAAAAMBXwAAAAAAAgFvAAAAAAACAW8A=",
          "dtype": "f8"
         },
         "yaxis": "y"
        },
        {
         "hoverinfo": "text",
         "marker": {
          "color": "rgb(0,116,217)"
         },
         "mode": "lines",
         "type": "scatter",
         "x": {
          "bdata": "CRPFMQpE7z/HyfKjD8jvP8fJ8qMPyO8/dJLgbaoL7z8=",
          "dtype": "f8"
         },
         "xaxis": "x",
         "y": {
          "bdata": "AAAAAABwTMAAAAAAAHBMwAAAAAAAoFnAAAAAAACgWcA=",
          "dtype": "f8"
         },
         "yaxis": "y"
        },
        {
         "hoverinfo": "text",
         "marker": {
          "color": "rgb(0,116,217)"
         },
         "mode": "lines",
         "type": "scatter",
         "x": {
          "bdata": "iNdiOA107z9+GXyOdmzwP34ZfI52bPA/x8nyow/I7z8=",
          "dtype": "f8"
         },
         "xaxis": "x",
         "y": {
          "bdata": "AAAAAAAAKcAAAAAAAAApwAAAAAAA7FPAAAAAAADsU8A=",
          "dtype": "f8"
         },
         "yaxis": "y"
        }
       ],
       "layout": {
        "autosize": false,
        "height": 380,
        "hoverlabel": {
         "bgcolor": "white",
         "font": {
          "family": "Rockwell",
          "size": 16
         }
        },
        "hovermode": "closest",
        "plot_bgcolor": "#ECEFF1",
        "showlegend": false,
        "template": {
         "data": {
          "bar": [
           {
            "error_x": {
             "color": "#2a3f5f"
            },
            "error_y": {
             "color": "#2a3f5f"
            },
            "marker": {
             "line": {
              "color": "white",
              "width": 0.5
             },
             "pattern": {
              "fillmode": "overlay",
              "size": 10,
              "solidity": 0.2
             }
            },
            "type": "bar"
           }
          ],
          "barpolar": [
           {
            "marker": {
             "line": {
              "color": "white",
              "width": 0.5
             },
             "pattern": {
              "fillmode": "overlay",
              "size": 10,
              "solidity": 0.2
             }
            },
            "type": "barpolar"
           }
          ],
          "carpet": [
           {
            "aaxis": {
             "endlinecolor": "#2a3f5f",
             "gridcolor": "#C8D4E3",
             "linecolor": "#C8D4E3",
             "minorgridcolor": "#C8D4E3",
             "startlinecolor": "#2a3f5f"
            },
            "baxis": {
             "endlinecolor": "#2a3f5f",
             "gridcolor": "#C8D4E3",
             "linecolor": "#C8D4E3",
             "minorgridcolor": "#C8D4E3",
             "startlinecolor": "#2a3f5f"
            },
            "type": "carpet"
           }
          ],
          "choropleth": [
           {
            "colorbar": {
             "outlinewidth": 0,
             "ticks": ""
            },
            "type": "choropleth"
           }
          ],
          "contour": [
           {
            "colorbar": {
             "outlinewidth": 0,
             "ticks": ""
            },
            "colorscale": [
             [
              0,
              "#0d0887"
             ],
             [
              0.1111111111111111,
              "#46039f"
             ],
             [
              0.2222222222222222,
              "#7201a8"
             ],
             [
              0.3333333333333333,
              "#9c179e"
             ],
             [
              0.4444444444444444,
              "#bd3786"
             ],
             [
              0.5555555555555556,
              "#d8576b"
             ],
             [
              0.6666666666666666,
              "#ed7953"
             ],
             [
              0.7777777777777778,
              "#fb9f3a"
             ],
             [
              0.8888888888888888,
              "#fdca26"
             ],
             [
              1,
              "#f0f921"
             ]
            ],
            "type": "contour"
           }
          ],
          "contourcarpet": [
           {
            "colorbar": {
             "outlinewidth": 0,
             "ticks": ""
            },
            "type": "contourcarpet"
           }
          ],
          "heatmap": [
           {
            "colorbar": {
             "outlinewidth": 0,
             "ticks": ""
            },
            "colorscale": [
             [
              0,
              "#0d0887"
             ],
             [
              0.1111111111111111,
              "#46039f"
             ],
             [
              0.2222222222222222,
              "#7201a8"
             ],
             [
              0.3333333333333333,
              "#9c179e"
             ],
             [
              0.4444444444444444,
              "#bd3786"
             ],
             [
              0.5555555555555556,
              "#d8576b"
             ],
             [
              0.6666666666666666,
              "#ed7953"
             ],
             [
              0.7777777777777778,
              "#fb9f3a"
             ],
             [
              0.8888888888888888,
              "#fdca26"
             ],
             [
              1,
              "#f0f921"
             ]
            ],
            "type": "heatmap"
           }
          ],
          "histogram": [
           {
            "marker": {
             "pattern": {
              "fillmode": "overlay",
              "size": 10,
              "solidity": 0.2
             }
            },
            "type": "histogram"
           }
          ],
          "histogram2d": [
           {
            "colorbar": {
             "outlinewidth": 0,
             "ticks": ""
            },
            "colorscale": [
             [
              0,
              "#0d0887"
             ],
             [
              0.1111111111111111,
              "#46039f"
             ],
             [
              0.2222222222222222,
              "#7201a8"
             ],
             [
              0.3333333333333333,
              "#9c179e"
             ],
             [
              0.4444444444444444,
              "#bd3786"
             ],
             [
              0.5555555555555556,
              "#d8576b"
             ],
             [
              0.6666666666666666,
              "#ed7953"
             ],
             [
              0.7777777777777778,
              "#fb9f3a"
             ],
             [
              0.8888888888888888,
              "#fdca26"
             ],
             [
              1,
              "#f0f921"
             ]
            ],
            "type": "histogram2d"
           }
          ],
          "histogram2dcontour": [
           {
            "colorbar": {
             "outlinewidth": 0,
             "ticks": ""
            },
            "colorscale": [
             [
              0,
              "#0d0887"
             ],
             [
              0.1111111111111111,
              "#46039f"
             ],
             [
              0.2222222222222222,
              "#7201a8"
             ],
             [
              0.3333333333333333,
              "#9c179e"
             ],
             [
              0.4444444444444444,
              "#bd3786"
             ],
             [
              0.5555555555555556,
              "#d8576b"
             ],
             [
              0.6666666666666666,
              "#ed7953"
             ],
             [
              0.7777777777777778,
              "#fb9f3a"
             ],
             [
              0.8888888888888888,
              "#fdca26"
             ],
             [
              1,
              "#f0f921"
             ]
            ],
            "type": "histogram2dcontour"
           }
          ],
          "mesh3d": [
           {
            "colorbar": {
             "outlinewidth": 0,
             "ticks": ""
            },
            "type": "mesh3d"
           }
          ],
          "parcoords": [
           {
            "line": {
             "colorbar": {
              "outlinewidth": 0,
              "ticks": ""
             }
            },
            "type": "parcoords"
           }
          ],
          "pie": [
           {
            "automargin": true,
            "type": "pie"
           }
          ],
          "scatter": [
           {
            "fillpattern": {
             "fillmode": "overlay",
             "size": 10,
             "solidity": 0.2
            },
            "type": "scatter"
           }
          ],
          "scatter3d": [
           {
            "line": {
             "colorbar": {
              "outlinewidth": 0,
              "ticks": ""
             }
            },
            "marker": {
             "colorbar": {
              "outlinewidth": 0,
              "ticks": ""
             }
            },
            "type": "scatter3d"
           }
          ],
          "scattercarpet": [
           {
            "marker": {
             "colorbar": {
              "outlinewidth": 0,
              "ticks": ""
             }
            },
            "type": "scattercarpet"
           }
          ],
          "scattergeo": [
           {
            "marker": {
             "colorbar": {
              "outlinewidth": 0,
              "ticks": ""
             }
            },
            "type": "scattergeo"
           }
          ],
          "scattergl": [
           {
            "marker": {
             "colorbar": {
              "outlinewidth": 0,
              "ticks": ""
             }
            },
            "type": "scattergl"
           }
          ],
          "scattermap": [
           {
            "marker": {
             "colorbar": {
              "outlinewidth": 0,
              "ticks": ""
             }
            },
            "type": "scattermap"
           }
          ],
          "scattermapbox": [
           {
            "marker": {
             "colorbar": {
              "outlinewidth": 0,
              "ticks": ""
             }
            },
            "type": "scattermapbox"
           }
          ],
          "scatterpolar": [
           {
            "marker": {
             "colorbar": {
              "outlinewidth": 0,
              "ticks": ""
             }
            },
            "type": "scatterpolar"
           }
          ],
          "scatterpolargl": [
           {
            "marker": {
             "colorbar": {
              "outlinewidth": 0,
              "ticks": ""
             }
            },
            "type": "scatterpolargl"
           }
          ],
          "scatterternary": [
           {
            "marker": {
             "colorbar": {
              "outlinewidth": 0,
              "ticks": ""
             }
            },
            "type": "scatterternary"
           }
          ],
          "surface": [
           {
            "colorbar": {
             "outlinewidth": 0,
             "ticks": ""
            },
            "colorscale": [
             [
              0,
              "#0d0887"
             ],
             [
              0.1111111111111111,
              "#46039f"
             ],
             [
              0.2222222222222222,
              "#7201a8"
             ],
             [
              0.3333333333333333,
              "#9c179e"
             ],
             [
              0.4444444444444444,
              "#bd3786"
             ],
             [
              0.5555555555555556,
              "#d8576b"
             ],
             [
              0.6666666666666666,
              "#ed7953"
             ],
             [
              0.7777777777777778,
              "#fb9f3a"
             ],
             [
              0.8888888888888888,
              "#fdca26"
             ],
             [
              1,
              "#f0f921"
             ]
            ],
            "type": "surface"
           }
          ],
          "table": [
           {
            "cells": {
             "fill": {
              "color": "#EBF0F8"
             },
             "line": {
              "color": "white"
             }
            },
            "header": {
             "fill": {
              "color": "#C8D4E3"
             },
             "line": {
              "color": "white"
             }
            },
            "type": "table"
           }
          ]
         },
         "layout": {
          "annotationdefaults": {
           "arrowcolor": "#2a3f5f",
           "arrowhead": 0,
           "arrowwidth": 1
          },
          "autotypenumbers": "strict",
          "coloraxis": {
           "colorbar": {
            "outlinewidth": 0,
            "ticks": ""
           }
          },
          "colorscale": {
           "diverging": [
            [
             0,
             "#8e0152"
            ],
            [
             0.1,
             "#c51b7d"
            ],
            [
             0.2,
             "#de77ae"
            ],
            [
             0.3,
             "#f1b6da"
            ],
            [
             0.4,
             "#fde0ef"
            ],
            [
             0.5,
             "#f7f7f7"
            ],
            [
             0.6,
             "#e6f5d0"
            ],
            [
             0.7,
             "#b8e186"
            ],
            [
             0.8,
             "#7fbc41"
            ],
            [
             0.9,
             "#4d9221"
            ],
            [
             1,
             "#276419"
            ]
           ],
           "sequential": [
            [
             0,
             "#0d0887"
            ],
            [
             0.1111111111111111,
             "#46039f"
            ],
            [
             0.2222222222222222,
             "#7201a8"
            ],
            [
             0.3333333333333333,
             "#9c179e"
            ],
            [
             0.4444444444444444,
             "#bd3786"
            ],
            [
             0.5555555555555556,
             "#d8576b"
            ],
            [
             0.6666666666666666,
             "#ed7953"
            ],
            [
             0.7777777777777778,
             "#fb9f3a"
            ],
            [
             0.8888888888888888,
             "#fdca26"
            ],
            [
             1,
             "#f0f921"
            ]
           ],
           "sequentialminus": [
            [
             0,
             "#0d0887"
            ],
            [
             0.1111111111111111,
             "#46039f"
            ],
            [
             0.2222222222222222,
             "#7201a8"
            ],
            [
             0.3333333333333333,
             "#9c179e"
            ],
            [
             0.4444444444444444,
             "#bd3786"
            ],
            [
             0.5555555555555556,
             "#d8576b"
            ],
            [
             0.6666666666666666,
             "#ed7953"
            ],
            [
             0.7777777777777778,
             "#fb9f3a"
            ],
            [
             0.8888888888888888,
             "#fdca26"
            ],
            [
             1,
             "#f0f921"
            ]
           ]
          },
          "colorway": [
           "#636efa",
           "#EF553B",
           "#00cc96",
           "#ab63fa",
           "#FFA15A",
           "#19d3f3",
           "#FF6692",
           "#B6E880",
           "#FF97FF",
           "#FECB52"
          ],
          "font": {
           "color": "#2a3f5f"
          },
          "geo": {
           "bgcolor": "white",
           "lakecolor": "white",
           "landcolor": "white",
           "showlakes": true,
           "showland": true,
           "subunitcolor": "#C8D4E3"
          },
          "hoverlabel": {
           "align": "left"
          },
          "hovermode": "closest",
          "mapbox": {
           "style": "light"
          },
          "paper_bgcolor": "white",
          "plot_bgcolor": "white",
          "polar": {
           "angularaxis": {
            "gridcolor": "#EBF0F8",
            "linecolor": "#EBF0F8",
            "ticks": ""
           },
           "bgcolor": "white",
           "radialaxis": {
            "gridcolor": "#EBF0F8",
            "linecolor": "#EBF0F8",
            "ticks": ""
           }
          },
          "scene": {
           "xaxis": {
            "backgroundcolor": "white",
            "gridcolor": "#DFE8F3",
            "gridwidth": 2,
            "linecolor": "#EBF0F8",
            "showbackground": true,
            "ticks": "",
            "zerolinecolor": "#EBF0F8"
           },
           "yaxis": {
            "backgroundcolor": "white",
            "gridcolor": "#DFE8F3",
            "gridwidth": 2,
            "linecolor": "#EBF0F8",
            "showbackground": true,
            "ticks": "",
            "zerolinecolor": "#EBF0F8"
           },
           "zaxis": {
            "backgroundcolor": "white",
            "gridcolor": "#DFE8F3",
            "gridwidth": 2,
            "linecolor": "#EBF0F8",
            "showbackground": true,
            "ticks": "",
            "zerolinecolor": "#EBF0F8"
           }
          },
          "shapedefaults": {
           "line": {
            "color": "#2a3f5f"
           }
          },
          "ternary": {
           "aaxis": {
            "gridcolor": "#DFE8F3",
            "linecolor": "#A2B1C6",
            "ticks": ""
           },
           "baxis": {
            "gridcolor": "#DFE8F3",
            "linecolor": "#A2B1C6",
            "ticks": ""
           },
           "bgcolor": "white",
           "caxis": {
            "gridcolor": "#DFE8F3",
            "linecolor": "#A2B1C6",
            "ticks": ""
           }
          },
          "title": {
           "x": 0.05
          },
          "xaxis": {
           "automargin": true,
           "gridcolor": "#EBF0F8",
           "linecolor": "#EBF0F8",
           "ticks": "",
           "title": {
            "standoff": 15
           },
           "zerolinecolor": "#EBF0F8",
           "zerolinewidth": 2
          },
          "yaxis": {
           "automargin": true,
           "gridcolor": "#EBF0F8",
           "linecolor": "#EBF0F8",
           "ticks": "",
           "title": {
            "standoff": 15
           },
           "zerolinecolor": "#EBF0F8",
           "zerolinewidth": 2
          }
         }
        },
        "title": {
         "font": {
          "color": "Black",
          "size": 22
         },
         "text": "<b>Hierarchical Clustering</b>",
         "x": 0.5,
         "xanchor": "center",
         "yanchor": "top"
        },
        "width": 1000,
        "xaxis": {
         "mirror": "allticks",
         "rangemode": "tozero",
         "showgrid": false,
         "showline": true,
         "showticklabels": true,
         "ticks": "outside",
         "type": "linear",
         "zeroline": false
        },
        "yaxis": {
         "mirror": "allticks",
         "range": [
          -120,
          0
         ],
         "rangemode": "tozero",
         "showgrid": false,
         "showline": true,
         "showticklabels": true,
         "tickmode": "array",
         "ticks": "outside",
         "ticktext": [
          "7_does help_help_supposed",
          "11_know_don know_don",
          "6_oh_know_yeah ll",
          "10_education_science_academ...",
          "8_married_getting_getting m...",
          "4_busy_trying_ll",
          "1_ll_like_time",
          "0_father_family_mother",
          "3_blah_talking_don",
          "2_thing_happening_time time",
          "9_got_hospital_took",
          "5_did_doing_built"
         ],
         "tickvals": [
          -5,
          -15,
          -25,
          -35,
          -45,
          -55,
          -65,
          -75,
          -85,
          -95,
          -105,
          -115
         ],
         "type": "linear",
         "zeroline": false
        }
       }
      }
     },
     "metadata": {},
     "output_type": "display_data"
    }
   ],
   "source": [
    "\n",
    "hierarchy_vis = topic_model.visualize_hierarchy(custom_labels=True, color_threshold=.9)\n",
    "hierarchy_vis"
   ]
  },
  {
   "cell_type": "code",
   "execution_count": null,
   "id": "cacf9231",
   "metadata": {},
   "outputs": [],
   "source": []
  }
 ],
 "metadata": {
  "kernelspec": {
   "display_name": "Python 3",
   "language": "python",
   "name": "python3"
  },
  "language_info": {
   "codemirror_mode": {
    "name": "ipython",
    "version": 3
   },
   "file_extension": ".py",
   "mimetype": "text/x-python",
   "name": "python",
   "nbconvert_exporter": "python",
   "pygments_lexer": "ipython3",
   "version": "3.11.8"
  }
 },
 "nbformat": 4,
 "nbformat_minor": 5
}
