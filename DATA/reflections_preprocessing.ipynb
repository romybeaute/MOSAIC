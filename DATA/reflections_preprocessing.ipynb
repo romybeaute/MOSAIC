{
 "cells": [
  {
   "cell_type": "markdown",
   "metadata": {},
   "source": [
    "Function to pre-process open reflections from the Sensory Tool \n",
    "\n",
    "@Author : Romy Beauté\\\n",
    "@Corresp : r.beaut@sussex.ac.uk\\\n",
    "@Last modified : 26/07/2024"
   ]
  },
  {
   "cell_type": "markdown",
   "metadata": {},
   "source": [
    "### Data loading and split in sentences"
   ]
  },
  {
   "cell_type": "code",
   "execution_count": 2,
   "metadata": {},
   "outputs": [
    {
     "name": "stderr",
     "output_type": "stream",
     "text": [
      "[nltk_data] Downloading package punkt to /home/romy/nltk_data...\n",
      "[nltk_data]   Package punkt is already up-to-date!\n"
     ]
    },
    {
     "name": "stdout",
     "output_type": "stream",
     "text": [
      "  Dataset  Number of Reflections  Number of Tokenized Sentences\n",
      "0      DL                     95                            182\n",
      "1      HS                    334                            691\n",
      "2      HW                   3662                          16291\n"
     ]
    }
   ],
   "source": [
    "import pandas as pd\n",
    "import nltk\n",
    "nltk.download('punkt')\n",
    "from nltk.tokenize import sent_tokenize\n",
    "\n",
    "HS_reflections = pd.read_csv('HS_reflections.csv',sep='\\t')['reflection_answer']\n",
    "DL_reflections = pd.read_csv('DL_reflections.csv',sep='\\t')['reflection_answer']\n",
    "HW_reflections = pd.read_csv('HW_reflections.csv',sep='\\t')['reflection_answer']\n",
    "\n",
    "\n",
    "def split_sentences(reflections):\n",
    "    sentences = []\n",
    "    for reflection in reflections:\n",
    "        sentences += sent_tokenize(reflection)\n",
    "    return sentences\n",
    "\n",
    "DL_sentences = split_sentences(DL_reflections)\n",
    "HS_sentences = split_sentences(HS_reflections)\n",
    "HW_sentences = split_sentences(HW_reflections) \n",
    "\n",
    "data = {'Dataset': ['DL', 'HS', 'HW'],\n",
    "        'Number of Reflections': [len(DL_reflections), len(HS_reflections), len(HW_reflections)],\n",
    "        'Number of Tokenized Sentences': [len(DL_sentences), len(HS_sentences), len(HW_sentences)]}\n",
    "\n",
    "df = pd.DataFrame(data)\n",
    "print(df)\n"
   ]
  },
  {
   "cell_type": "markdown",
   "metadata": {},
   "source": [
    "### Gathering other freeform respondes from the SensoryTool dataset"
   ]
  },
  {
   "cell_type": "code",
   "execution_count": 2,
   "metadata": {},
   "outputs": [],
   "source": [
    "sensory_tool_data = pd.read_excel('SensoryTool_CombinedData_v24_20230912_2.xlsx')\n",
    "\n",
    "# columns corresp. to freeform responses that we might want to extract \n",
    "freeform_responses = [\n",
    "    'emo_freeformResponse', #user’s freeform emotional response, if present\n",
    "    'aud_freeformResponse',\n",
    "    'vizCol_freeformAnswer',\n",
    "    'vizPat_freeformAnswer',\n",
    "    'vizMov_freeform_answer', #user's freeform answer for movement types\n",
    "    'cogBody_freeformAnswer'] #users freeform additional body sensations if they chose to add this\n",
    "\n",
    "# new dataframe to store only the freeform responses, and the metadata columns\n",
    "freeform_data = pd.DataFrame()\n",
    "\n",
    "\n",
    "for col in freeform_responses:\n",
    "    freeform_data[col] = sensory_tool_data[col]\n",
    "\n",
    "freeform_data['meta_HighSensory'] = sensory_tool_data['meta_HighSensory']\n",
    "freeform_data['meta_HighSensory'] = freeform_data['meta_HighSensory'].replace({True: 'High Sensory', False: 'Deep Listening'})\n",
    "\n",
    "#delete subjects that have NaN in all freeform responses\n",
    "freeform_data = freeform_data.dropna(subset=freeform_responses, how='all')\n",
    "freeform_data.to_excel('freeform_SensoryTool_complete.xlsx', index=False)\n",
    "\n",
    "HS_freeform_data = freeform_data[freeform_data['meta_HighSensory'] == 1]\n",
    "DL_freeform_data = freeform_data[freeform_data['meta_HighSensory'] == 0]\n",
    "\n",
    "# HS_freeform_data.to_csv('freeform_HS_SensoryTool_complete.csv', index=False)\n",
    "# DL_freeform_data.to_csv('freeform_DL_SensoryTool_complete.csv', index=False)\n"
   ]
  }
 ],
 "metadata": {
  "kernelspec": {
   "display_name": ".colabvenv",
   "language": "python",
   "name": "python3"
  },
  "language_info": {
   "codemirror_mode": {
    "name": "ipython",
    "version": 3
   },
   "file_extension": ".py",
   "mimetype": "text/x-python",
   "name": "python",
   "nbconvert_exporter": "python",
   "pygments_lexer": "ipython3",
   "version": "3.10.12"
  }
 },
 "nbformat": 4,
 "nbformat_minor": 2
}
